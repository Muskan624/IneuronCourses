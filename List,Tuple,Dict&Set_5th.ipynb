{
 "cells": [
  {
   "cell_type": "markdown",
   "id": "3f75e3a0",
   "metadata": {},
   "source": [
    "# LIST"
   ]
  },
  {
   "cell_type": "code",
   "execution_count": 1,
   "id": "30d7d00b",
   "metadata": {},
   "outputs": [
    {
     "data": {
      "text/plain": [
       "list"
      ]
     },
     "execution_count": 1,
     "metadata": {},
     "output_type": "execute_result"
    }
   ],
   "source": [
    "lis=[1,2,3,\"Muskan\",True,456.98]\n",
    "type(lis)"
   ]
  },
  {
   "cell_type": "code",
   "execution_count": 2,
   "id": "a297086a",
   "metadata": {},
   "outputs": [
    {
     "data": {
      "text/plain": [
       "1"
      ]
     },
     "execution_count": 2,
     "metadata": {},
     "output_type": "execute_result"
    }
   ],
   "source": [
    "lis[0]"
   ]
  },
  {
   "cell_type": "code",
   "execution_count": 3,
   "id": "3255fe01",
   "metadata": {},
   "outputs": [
    {
     "data": {
      "text/plain": [
       "456.98"
      ]
     },
     "execution_count": 3,
     "metadata": {},
     "output_type": "execute_result"
    }
   ],
   "source": [
    "lis[-1]"
   ]
  },
  {
   "cell_type": "code",
   "execution_count": 4,
   "id": "87e06fec",
   "metadata": {},
   "outputs": [
    {
     "data": {
      "text/plain": [
       "6"
      ]
     },
     "execution_count": 4,
     "metadata": {},
     "output_type": "execute_result"
    }
   ],
   "source": [
    "len(lis)"
   ]
  },
  {
   "cell_type": "code",
   "execution_count": 5,
   "id": "310f60ea",
   "metadata": {},
   "outputs": [
    {
     "data": {
      "text/plain": [
       "[1, 2, 3, 'Muskan', True]"
      ]
     },
     "execution_count": 5,
     "metadata": {},
     "output_type": "execute_result"
    }
   ],
   "source": [
    "lis[0:5]##slicing"
   ]
  },
  {
   "cell_type": "code",
   "execution_count": 6,
   "id": "1ef1c7f0",
   "metadata": {},
   "outputs": [
    {
     "data": {
      "text/plain": [
       "[456.98, True, 'Muskan', 3, 2, 1]"
      ]
     },
     "execution_count": 6,
     "metadata": {},
     "output_type": "execute_result"
    }
   ],
   "source": [
    "lis[::-1]##reverse operation"
   ]
  },
  {
   "cell_type": "code",
   "execution_count": 7,
   "id": "11e14ca6",
   "metadata": {},
   "outputs": [
    {
     "data": {
      "text/plain": [
       "[1, 2, 3, 'Muskan', True, 456.98]"
      ]
     },
     "execution_count": 7,
     "metadata": {},
     "output_type": "execute_result"
    }
   ],
   "source": [
    "lis[0:100]"
   ]
  },
  {
   "cell_type": "code",
   "execution_count": 8,
   "id": "d4c874ea",
   "metadata": {},
   "outputs": [
    {
     "data": {
      "text/plain": [
       "[1, 3, True]"
      ]
     },
     "execution_count": 8,
     "metadata": {},
     "output_type": "execute_result"
    }
   ],
   "source": [
    "lis[0:100:2]"
   ]
  },
  {
   "cell_type": "code",
   "execution_count": 9,
   "id": "96dd81f3",
   "metadata": {},
   "outputs": [
    {
     "data": {
      "text/plain": [
       "[]"
      ]
     },
     "execution_count": 9,
     "metadata": {},
     "output_type": "execute_result"
    }
   ],
   "source": [
    "lis[0:8:-1]"
   ]
  },
  {
   "cell_type": "code",
   "execution_count": 10,
   "id": "9d304293",
   "metadata": {},
   "outputs": [
    {
     "data": {
      "text/plain": [
       "[1, 2, 3]"
      ]
     },
     "execution_count": 10,
     "metadata": {},
     "output_type": "execute_result"
    }
   ],
   "source": [
    "lis[:3]"
   ]
  },
  {
   "cell_type": "code",
   "execution_count": 11,
   "id": "96802503",
   "metadata": {},
   "outputs": [
    {
     "ename": "TypeError",
     "evalue": "can only concatenate list (not \"str\") to list",
     "output_type": "error",
     "traceback": [
      "\u001b[1;31m---------------------------------------------------------------------------\u001b[0m",
      "\u001b[1;31mTypeError\u001b[0m                                 Traceback (most recent call last)",
      "Input \u001b[1;32mIn [11]\u001b[0m, in \u001b[0;36m<cell line: 1>\u001b[1;34m()\u001b[0m\n\u001b[1;32m----> 1\u001b[0m \u001b[43mlis\u001b[49m\u001b[38;5;241;43m+\u001b[39;49m\u001b[38;5;124;43m\"\u001b[39;49m\u001b[38;5;124;43msudh\u001b[39;49m\u001b[38;5;124;43m\"\u001b[39;49m\n",
      "\u001b[1;31mTypeError\u001b[0m: can only concatenate list (not \"str\") to list"
     ]
    }
   ],
   "source": [
    "lis+\"sudh\""
   ]
  },
  {
   "cell_type": "code",
   "execution_count": 12,
   "id": "c7713634",
   "metadata": {},
   "outputs": [
    {
     "data": {
      "text/plain": [
       "[1, 2, 3, 'Muskan', True, 456.98, 'sudh']"
      ]
     },
     "execution_count": 12,
     "metadata": {},
     "output_type": "execute_result"
    }
   ],
   "source": [
    "lis+[\"sudh\"]"
   ]
  },
  {
   "cell_type": "code",
   "execution_count": 13,
   "id": "e3bafe91",
   "metadata": {},
   "outputs": [
    {
     "data": {
      "text/plain": [
       "[1, 2, 3, 'Muskan', True, 456.98, 1, 2, 3, 'Muskan', True, 456.98]"
      ]
     },
     "execution_count": 13,
     "metadata": {},
     "output_type": "execute_result"
    }
   ],
   "source": [
    "lis*2"
   ]
  },
  {
   "cell_type": "code",
   "execution_count": 14,
   "id": "00b3fc4a",
   "metadata": {},
   "outputs": [
    {
     "data": {
      "text/plain": [
       "False"
      ]
     },
     "execution_count": 14,
     "metadata": {},
     "output_type": "execute_result"
    }
   ],
   "source": [
    "60 in lis## in is a operator"
   ]
  },
  {
   "cell_type": "code",
   "execution_count": 15,
   "id": "bb836368",
   "metadata": {},
   "outputs": [
    {
     "data": {
      "text/plain": [
       "True"
      ]
     },
     "execution_count": 15,
     "metadata": {},
     "output_type": "execute_result"
    }
   ],
   "source": [
    "2 in lis"
   ]
  },
  {
   "cell_type": "code",
   "execution_count": 16,
   "id": "f75f3048",
   "metadata": {},
   "outputs": [
    {
     "ename": "TypeError",
     "evalue": "'>' not supported between instances of 'str' and 'int'",
     "output_type": "error",
     "traceback": [
      "\u001b[1;31m---------------------------------------------------------------------------\u001b[0m",
      "\u001b[1;31mTypeError\u001b[0m                                 Traceback (most recent call last)",
      "Input \u001b[1;32mIn [16]\u001b[0m, in \u001b[0;36m<cell line: 1>\u001b[1;34m()\u001b[0m\n\u001b[1;32m----> 1\u001b[0m \u001b[38;5;28;43mmax\u001b[39;49m\u001b[43m(\u001b[49m\u001b[43mlis\u001b[49m\u001b[43m)\u001b[49m\n",
      "\u001b[1;31mTypeError\u001b[0m: '>' not supported between instances of 'str' and 'int'"
     ]
    }
   ],
   "source": [
    "max(lis)"
   ]
  },
  {
   "cell_type": "code",
   "execution_count": 17,
   "id": "1ed23e62",
   "metadata": {},
   "outputs": [
    {
     "data": {
      "text/plain": [
       "90"
      ]
     },
     "execution_count": 17,
     "metadata": {},
     "output_type": "execute_result"
    }
   ],
   "source": [
    "lis1=[1,2,3,78,90]\n",
    "max(lis1)"
   ]
  },
  {
   "cell_type": "code",
   "execution_count": 18,
   "id": "93e6ad3a",
   "metadata": {},
   "outputs": [
    {
     "data": {
      "text/plain": [
       "'Sudh'"
      ]
     },
     "execution_count": 18,
     "metadata": {},
     "output_type": "execute_result"
    }
   ],
   "source": [
    "lis2=[\"Mud\",\"Sudh\"]\n",
    "max(lis2)"
   ]
  },
  {
   "cell_type": "code",
   "execution_count": 19,
   "id": "cb5485d9",
   "metadata": {},
   "outputs": [
    {
     "data": {
      "text/plain": [
       "'Mud'"
      ]
     },
     "execution_count": 19,
     "metadata": {},
     "output_type": "execute_result"
    }
   ],
   "source": [
    "min(lis2)"
   ]
  },
  {
   "cell_type": "code",
   "execution_count": 20,
   "id": "144a6b69",
   "metadata": {},
   "outputs": [
    {
     "data": {
      "text/plain": [
       "1"
      ]
     },
     "execution_count": 20,
     "metadata": {},
     "output_type": "execute_result"
    }
   ],
   "source": [
    "min(lis1)"
   ]
  },
  {
   "cell_type": "code",
   "execution_count": 21,
   "id": "09ff439e",
   "metadata": {},
   "outputs": [],
   "source": [
    "lis.append(\"Kumar\")"
   ]
  },
  {
   "cell_type": "code",
   "execution_count": 22,
   "id": "ec4772dc",
   "metadata": {},
   "outputs": [
    {
     "data": {
      "text/plain": [
       "[1, 2, 3, 'Muskan', True, 456.98, 'Kumar']"
      ]
     },
     "execution_count": 22,
     "metadata": {},
     "output_type": "execute_result"
    }
   ],
   "source": [
    "lis"
   ]
  },
  {
   "cell_type": "code",
   "execution_count": 26,
   "id": "0930eadf",
   "metadata": {},
   "outputs": [],
   "source": [
    "lis.append([\"l\",\"k\",\"j\",\"h\"])"
   ]
  },
  {
   "cell_type": "code",
   "execution_count": 27,
   "id": "404022cd",
   "metadata": {},
   "outputs": [
    {
     "data": {
      "text/plain": [
       "[1, 2, 3, 'Muskan', True, 456.98, 'Kumar', ['l', 'k', 'j', 'h']]"
      ]
     },
     "execution_count": 27,
     "metadata": {},
     "output_type": "execute_result"
    }
   ],
   "source": [
    "lis"
   ]
  },
  {
   "cell_type": "code",
   "execution_count": 28,
   "id": "8d167f60",
   "metadata": {},
   "outputs": [
    {
     "ename": "TypeError",
     "evalue": "'str' object cannot be interpreted as an integer",
     "output_type": "error",
     "traceback": [
      "\u001b[1;31m---------------------------------------------------------------------------\u001b[0m",
      "\u001b[1;31mTypeError\u001b[0m                                 Traceback (most recent call last)",
      "Input \u001b[1;32mIn [28]\u001b[0m, in \u001b[0;36m<cell line: 1>\u001b[1;34m()\u001b[0m\n\u001b[1;32m----> 1\u001b[0m \u001b[43mlis\u001b[49m\u001b[38;5;241;43m.\u001b[39;49m\u001b[43mpop\u001b[49m\u001b[43m(\u001b[49m\u001b[38;5;124;43m\"\u001b[39;49m\u001b[38;5;124;43mMuskan\u001b[39;49m\u001b[38;5;124;43m\"\u001b[39;49m\u001b[43m)\u001b[49m\n",
      "\u001b[1;31mTypeError\u001b[0m: 'str' object cannot be interpreted as an integer"
     ]
    }
   ],
   "source": [
    "lis.pop(\"Muskan\")"
   ]
  },
  {
   "cell_type": "code",
   "execution_count": 29,
   "id": "3daff66b",
   "metadata": {},
   "outputs": [
    {
     "data": {
      "text/plain": [
       "2"
      ]
     },
     "execution_count": 29,
     "metadata": {},
     "output_type": "execute_result"
    }
   ],
   "source": [
    "lis.pop(1)## remove and return item from list at the passed index"
   ]
  },
  {
   "cell_type": "code",
   "execution_count": 30,
   "id": "20c5e500",
   "metadata": {},
   "outputs": [
    {
     "data": {
      "text/plain": [
       "[1, 3, 'Muskan', True, 456.98, 'Kumar', ['l', 'k', 'j', 'h']]"
      ]
     },
     "execution_count": 30,
     "metadata": {},
     "output_type": "execute_result"
    }
   ],
   "source": [
    "lis"
   ]
  },
  {
   "cell_type": "code",
   "execution_count": 31,
   "id": "6daa7982",
   "metadata": {},
   "outputs": [
    {
     "data": {
      "text/plain": [
       "['l', 'k', 'j', 'h']"
      ]
     },
     "execution_count": 31,
     "metadata": {},
     "output_type": "execute_result"
    }
   ],
   "source": [
    "lis.pop()## by default remove last index"
   ]
  },
  {
   "cell_type": "code",
   "execution_count": 32,
   "id": "7979419d",
   "metadata": {},
   "outputs": [
    {
     "data": {
      "text/plain": [
       "[1, 3, 'Muskan', True, 456.98, 'Kumar']"
      ]
     },
     "execution_count": 32,
     "metadata": {},
     "output_type": "execute_result"
    }
   ],
   "source": [
    "lis"
   ]
  },
  {
   "cell_type": "code",
   "execution_count": 33,
   "id": "d04a47e6",
   "metadata": {},
   "outputs": [
    {
     "data": {
      "text/plain": [
       "['Kumar', 456.98, True, 'Muskan', 3, 1]"
      ]
     },
     "execution_count": 33,
     "metadata": {},
     "output_type": "execute_result"
    }
   ],
   "source": [
    "lis.reverse()## permanat reverse operation\n",
    "lis"
   ]
  },
  {
   "cell_type": "code",
   "execution_count": 34,
   "id": "90424f6f",
   "metadata": {},
   "outputs": [
    {
     "ename": "TypeError",
     "evalue": "'<' not supported between instances of 'float' and 'str'",
     "output_type": "error",
     "traceback": [
      "\u001b[1;31m---------------------------------------------------------------------------\u001b[0m",
      "\u001b[1;31mTypeError\u001b[0m                                 Traceback (most recent call last)",
      "Input \u001b[1;32mIn [34]\u001b[0m, in \u001b[0;36m<cell line: 1>\u001b[1;34m()\u001b[0m\n\u001b[1;32m----> 1\u001b[0m \u001b[43mlis\u001b[49m\u001b[38;5;241;43m.\u001b[39;49m\u001b[43msort\u001b[49m\u001b[43m(\u001b[49m\u001b[43m)\u001b[49m\n",
      "\u001b[1;31mTypeError\u001b[0m: '<' not supported between instances of 'float' and 'str'"
     ]
    }
   ],
   "source": [
    "lis.sort()"
   ]
  },
  {
   "cell_type": "code",
   "execution_count": 35,
   "id": "eb9c1513",
   "metadata": {},
   "outputs": [],
   "source": [
    "lis1.sort()##ascending order"
   ]
  },
  {
   "cell_type": "code",
   "execution_count": 36,
   "id": "3edee560",
   "metadata": {},
   "outputs": [
    {
     "data": {
      "text/plain": [
       "[1, 2, 3, 78, 90]"
      ]
     },
     "execution_count": 36,
     "metadata": {},
     "output_type": "execute_result"
    }
   ],
   "source": [
    "lis1"
   ]
  },
  {
   "cell_type": "code",
   "execution_count": 37,
   "id": "efa3a387",
   "metadata": {},
   "outputs": [
    {
     "ename": "TypeError",
     "evalue": "'Reverse' is an invalid keyword argument for sort()",
     "output_type": "error",
     "traceback": [
      "\u001b[1;31m---------------------------------------------------------------------------\u001b[0m",
      "\u001b[1;31mTypeError\u001b[0m                                 Traceback (most recent call last)",
      "Input \u001b[1;32mIn [37]\u001b[0m, in \u001b[0;36m<cell line: 1>\u001b[1;34m()\u001b[0m\n\u001b[1;32m----> 1\u001b[0m \u001b[43mlis1\u001b[49m\u001b[38;5;241;43m.\u001b[39;49m\u001b[43msort\u001b[49m\u001b[43m(\u001b[49m\u001b[43mReverse\u001b[49m\u001b[38;5;241;43m=\u001b[39;49m\u001b[38;5;28;43;01mTrue\u001b[39;49;00m\u001b[43m)\u001b[49m\n",
      "\u001b[1;31mTypeError\u001b[0m: 'Reverse' is an invalid keyword argument for sort()"
     ]
    }
   ],
   "source": [
    "lis1.sort(Reverse=True)"
   ]
  },
  {
   "cell_type": "code",
   "execution_count": 38,
   "id": "0aeea608",
   "metadata": {},
   "outputs": [],
   "source": [
    "lis1.sort(reverse=True)## sort in descending order"
   ]
  },
  {
   "cell_type": "code",
   "execution_count": 39,
   "id": "2c3b7aca",
   "metadata": {},
   "outputs": [
    {
     "data": {
      "text/plain": [
       "[90, 78, 3, 2, 1]"
      ]
     },
     "execution_count": 39,
     "metadata": {},
     "output_type": "execute_result"
    }
   ],
   "source": [
    "lis1"
   ]
  },
  {
   "cell_type": "code",
   "execution_count": 40,
   "id": "889f391d",
   "metadata": {},
   "outputs": [],
   "source": [
    "l1=[1,2,3,4]\n",
    "l2=[5,6,7,8]\n",
    "l3=[9,10,11,12]\n",
    "la=[l1,l2,l3]"
   ]
  },
  {
   "cell_type": "code",
   "execution_count": 41,
   "id": "797ed23d",
   "metadata": {},
   "outputs": [
    {
     "data": {
      "text/plain": [
       "[[1, 2, 3, 4], [5, 6, 7, 8], [9, 10, 11, 12]]"
      ]
     },
     "execution_count": 41,
     "metadata": {},
     "output_type": "execute_result"
    }
   ],
   "source": [
    "la"
   ]
  },
  {
   "cell_type": "code",
   "execution_count": 42,
   "id": "d0e739c0",
   "metadata": {},
   "outputs": [
    {
     "data": {
      "text/plain": [
       "[9, 10, 11, 12]"
      ]
     },
     "execution_count": 42,
     "metadata": {},
     "output_type": "execute_result"
    }
   ],
   "source": [
    "la[2]"
   ]
  },
  {
   "cell_type": "code",
   "execution_count": 43,
   "id": "4d34ce9f",
   "metadata": {},
   "outputs": [
    {
     "ename": "TypeError",
     "evalue": "list indices must be integers or slices, not tuple",
     "output_type": "error",
     "traceback": [
      "\u001b[1;31m---------------------------------------------------------------------------\u001b[0m",
      "\u001b[1;31mTypeError\u001b[0m                                 Traceback (most recent call last)",
      "Input \u001b[1;32mIn [43]\u001b[0m, in \u001b[0;36m<cell line: 1>\u001b[1;34m()\u001b[0m\n\u001b[1;32m----> 1\u001b[0m \u001b[43mla\u001b[49m\u001b[43m[\u001b[49m\u001b[38;5;241;43m2\u001b[39;49m\u001b[43m,\u001b[49m\u001b[38;5;241;43m1\u001b[39;49m\u001b[43m]\u001b[49m\n",
      "\u001b[1;31mTypeError\u001b[0m: list indices must be integers or slices, not tuple"
     ]
    }
   ],
   "source": [
    "la[2,1]"
   ]
  },
  {
   "cell_type": "code",
   "execution_count": 44,
   "id": "f7d0dbb9",
   "metadata": {},
   "outputs": [
    {
     "data": {
      "text/plain": [
       "10"
      ]
     },
     "execution_count": 44,
     "metadata": {},
     "output_type": "execute_result"
    }
   ],
   "source": [
    "la[2][1]## extracting 10 "
   ]
  },
  {
   "cell_type": "code",
   "execution_count": 45,
   "id": "95964c4d",
   "metadata": {},
   "outputs": [
    {
     "ename": "TypeError",
     "evalue": "'builtin_function_or_method' object is not subscriptable",
     "output_type": "error",
     "traceback": [
      "\u001b[1;31m---------------------------------------------------------------------------\u001b[0m",
      "\u001b[1;31mTypeError\u001b[0m                                 Traceback (most recent call last)",
      "Input \u001b[1;32mIn [45]\u001b[0m, in \u001b[0;36m<cell line: 1>\u001b[1;34m()\u001b[0m\n\u001b[1;32m----> 1\u001b[0m \u001b[43mla\u001b[49m\u001b[38;5;241;43m.\u001b[39;49m\u001b[43mcount\u001b[49m\u001b[43m[\u001b[49m\u001b[38;5;241;43m11\u001b[39;49m\u001b[43m]\u001b[49m\n",
      "\u001b[1;31mTypeError\u001b[0m: 'builtin_function_or_method' object is not subscriptable"
     ]
    }
   ],
   "source": [
    "la.count[11]"
   ]
  },
  {
   "cell_type": "code",
   "execution_count": 46,
   "id": "6130fc7f",
   "metadata": {},
   "outputs": [
    {
     "data": {
      "text/plain": [
       "1"
      ]
     },
     "execution_count": 46,
     "metadata": {},
     "output_type": "execute_result"
    }
   ],
   "source": [
    "lis1.count(78)"
   ]
  },
  {
   "cell_type": "code",
   "execution_count": 47,
   "id": "d6f19e35",
   "metadata": {},
   "outputs": [
    {
     "data": {
      "text/plain": [
       "0"
      ]
     },
     "execution_count": 47,
     "metadata": {},
     "output_type": "execute_result"
    }
   ],
   "source": [
    "la.count(6)"
   ]
  },
  {
   "cell_type": "code",
   "execution_count": 48,
   "id": "1bb747a8",
   "metadata": {},
   "outputs": [],
   "source": [
    "l5=[2,3,4]\n",
    "l5.append(\"Sudh\")"
   ]
  },
  {
   "cell_type": "code",
   "execution_count": 49,
   "id": "9d9a6e76",
   "metadata": {},
   "outputs": [
    {
     "data": {
      "text/plain": [
       "[2, 3, 4, 'Sudh']"
      ]
     },
     "execution_count": 49,
     "metadata": {},
     "output_type": "execute_result"
    }
   ],
   "source": [
    "l5"
   ]
  },
  {
   "cell_type": "code",
   "execution_count": 51,
   "id": "5e1d569b",
   "metadata": {},
   "outputs": [],
   "source": [
    "l5.extend([56,7,65])## add after unwrapping"
   ]
  },
  {
   "cell_type": "code",
   "execution_count": 52,
   "id": "567deb4d",
   "metadata": {},
   "outputs": [
    {
     "data": {
      "text/plain": [
       "[2, 3, 4, 'Sudh', 56, 7, 65]"
      ]
     },
     "execution_count": 52,
     "metadata": {},
     "output_type": "execute_result"
    }
   ],
   "source": [
    "l5"
   ]
  },
  {
   "cell_type": "code",
   "execution_count": 53,
   "id": "8b1a6147",
   "metadata": {},
   "outputs": [],
   "source": [
    "l5.extend(\"MUs\")"
   ]
  },
  {
   "cell_type": "code",
   "execution_count": 54,
   "id": "62da32b7",
   "metadata": {},
   "outputs": [
    {
     "data": {
      "text/plain": [
       "[2, 3, 4, 'Sudh', 56, 7, 65, 'M', 'U', 's']"
      ]
     },
     "execution_count": 54,
     "metadata": {},
     "output_type": "execute_result"
    }
   ],
   "source": [
    "l5"
   ]
  },
  {
   "cell_type": "code",
   "execution_count": 56,
   "id": "f209eb2b",
   "metadata": {},
   "outputs": [
    {
     "data": {
      "text/plain": [
       "0"
      ]
     },
     "execution_count": 56,
     "metadata": {},
     "output_type": "execute_result"
    }
   ],
   "source": [
    "l5.index(2)"
   ]
  },
  {
   "cell_type": "code",
   "execution_count": 58,
   "id": "7a21a64d",
   "metadata": {},
   "outputs": [
    {
     "data": {
      "text/plain": [
       "6"
      ]
     },
     "execution_count": 58,
     "metadata": {},
     "output_type": "execute_result"
    }
   ],
   "source": [
    "l6=[1,1,1,5,6,7,8,8]\n",
    "l6.index(8)"
   ]
  },
  {
   "cell_type": "code",
   "execution_count": 59,
   "id": "08b86e1a",
   "metadata": {},
   "outputs": [],
   "source": [
    "l6.insert(1,[1,2,3,4])"
   ]
  },
  {
   "cell_type": "code",
   "execution_count": 60,
   "id": "1c93f43c",
   "metadata": {},
   "outputs": [
    {
     "data": {
      "text/plain": [
       "[1, [1, 2, 3, 4], 1, 1, 5, 6, 7, 8, 8]"
      ]
     },
     "execution_count": 60,
     "metadata": {},
     "output_type": "execute_result"
    }
   ],
   "source": [
    "l6"
   ]
  },
  {
   "cell_type": "code",
   "execution_count": 61,
   "id": "0b6d3c39",
   "metadata": {},
   "outputs": [],
   "source": [
    "##append(): add at the last position of list\n",
    "##extend():add at the last position but after unwrappingb the data\n",
    "##insert():add element at the assingned index."
   ]
  },
  {
   "cell_type": "code",
   "execution_count": 62,
   "id": "21db9f9d",
   "metadata": {},
   "outputs": [
    {
     "ename": "ValueError",
     "evalue": "list.remove(x): x not in list",
     "output_type": "error",
     "traceback": [
      "\u001b[1;31m---------------------------------------------------------------------------\u001b[0m",
      "\u001b[1;31mValueError\u001b[0m                                Traceback (most recent call last)",
      "Input \u001b[1;32mIn [62]\u001b[0m, in \u001b[0;36m<cell line: 1>\u001b[1;34m()\u001b[0m\n\u001b[1;32m----> 1\u001b[0m \u001b[43ml6\u001b[49m\u001b[38;5;241;43m.\u001b[39;49m\u001b[43mremove\u001b[49m\u001b[43m(\u001b[49m\u001b[38;5;241;43m100\u001b[39;49m\u001b[43m)\u001b[49m\n",
      "\u001b[1;31mValueError\u001b[0m: list.remove(x): x not in list"
     ]
    }
   ],
   "source": [
    "l6.remove(100)"
   ]
  },
  {
   "cell_type": "code",
   "execution_count": 63,
   "id": "dc6804a2",
   "metadata": {},
   "outputs": [],
   "source": [
    "l6.remove(1)"
   ]
  },
  {
   "cell_type": "code",
   "execution_count": 64,
   "id": "d978c1ef",
   "metadata": {},
   "outputs": [
    {
     "data": {
      "text/plain": [
       "[[1, 2, 3, 4], 1, 1, 5, 6, 7, 8, 8]"
      ]
     },
     "execution_count": 64,
     "metadata": {},
     "output_type": "execute_result"
    }
   ],
   "source": [
    "l6"
   ]
  },
  {
   "cell_type": "code",
   "execution_count": 65,
   "id": "1b8faa9d",
   "metadata": {},
   "outputs": [],
   "source": [
    "##pop(): works on index \n",
    "## remove(): works on value"
   ]
  },
  {
   "cell_type": "code",
   "execution_count": 66,
   "id": "d1e55dce",
   "metadata": {},
   "outputs": [],
   "source": [
    "l6[3]=\"MUS\"## reassingment"
   ]
  },
  {
   "cell_type": "code",
   "execution_count": 67,
   "id": "46d9238f",
   "metadata": {},
   "outputs": [
    {
     "data": {
      "text/plain": [
       "[[1, 2, 3, 4], 1, 1, 'MUS', 6, 7, 8, 8]"
      ]
     },
     "execution_count": 67,
     "metadata": {},
     "output_type": "execute_result"
    }
   ],
   "source": [
    "l6"
   ]
  },
  {
   "cell_type": "code",
   "execution_count": 68,
   "id": "9941bd41",
   "metadata": {},
   "outputs": [
    {
     "ename": "TypeError",
     "evalue": "'str' object does not support item assignment",
     "output_type": "error",
     "traceback": [
      "\u001b[1;31m---------------------------------------------------------------------------\u001b[0m",
      "\u001b[1;31mTypeError\u001b[0m                                 Traceback (most recent call last)",
      "Input \u001b[1;32mIn [68]\u001b[0m, in \u001b[0;36m<cell line: 2>\u001b[1;34m()\u001b[0m\n\u001b[0;32m      1\u001b[0m s\u001b[38;5;241m=\u001b[39m\u001b[38;5;124m\"\u001b[39m\u001b[38;5;124mNeuron\u001b[39m\u001b[38;5;124m\"\u001b[39m\n\u001b[1;32m----> 2\u001b[0m s[\u001b[38;5;241m2\u001b[39m]\u001b[38;5;241m=\u001b[39m\u001b[38;5;124m\"\u001b[39m\u001b[38;5;124mz\u001b[39m\u001b[38;5;124m\"\u001b[39m\n",
      "\u001b[1;31mTypeError\u001b[0m: 'str' object does not support item assignment"
     ]
    }
   ],
   "source": [
    "s=\"Neuron\"## string dontsupport item reasingment\n",
    "s[2]=\"z\"## so string object is in mutable wheare as list is mutable(can be change reassingned)"
   ]
  },
  {
   "cell_type": "markdown",
   "id": "988af90b",
   "metadata": {},
   "source": [
    "# TUPLE"
   ]
  },
  {
   "cell_type": "code",
   "execution_count": 69,
   "id": "a1330038",
   "metadata": {},
   "outputs": [
    {
     "data": {
      "text/plain": [
       "tuple"
      ]
     },
     "execution_count": 69,
     "metadata": {},
     "output_type": "execute_result"
    }
   ],
   "source": [
    "t=(1,2,3,\"MUSkan\",45.6,True,3+5j)\n",
    "type(t)"
   ]
  },
  {
   "cell_type": "code",
   "execution_count": 70,
   "id": "4f7cd472",
   "metadata": {},
   "outputs": [
    {
     "data": {
      "text/plain": [
       "'MUSkan'"
      ]
     },
     "execution_count": 70,
     "metadata": {},
     "output_type": "execute_result"
    }
   ],
   "source": [
    "t[3]"
   ]
  },
  {
   "cell_type": "code",
   "execution_count": 71,
   "id": "fe282ef5",
   "metadata": {},
   "outputs": [
    {
     "data": {
      "text/plain": [
       "True"
      ]
     },
     "execution_count": 71,
     "metadata": {},
     "output_type": "execute_result"
    }
   ],
   "source": [
    "t[-2]"
   ]
  },
  {
   "cell_type": "code",
   "execution_count": 72,
   "id": "4d701785",
   "metadata": {},
   "outputs": [
    {
     "data": {
      "text/plain": [
       "(1, 2, 3, 'MUSkan')"
      ]
     },
     "execution_count": 72,
     "metadata": {},
     "output_type": "execute_result"
    }
   ],
   "source": [
    "t[0:4]"
   ]
  },
  {
   "cell_type": "code",
   "execution_count": 73,
   "id": "41ed8307",
   "metadata": {},
   "outputs": [
    {
     "data": {
      "text/plain": [
       "(1, 3, 45.6)"
      ]
     },
     "execution_count": 73,
     "metadata": {},
     "output_type": "execute_result"
    }
   ],
   "source": [
    "t[0:6:2]"
   ]
  },
  {
   "cell_type": "code",
   "execution_count": 75,
   "id": "8a207dba",
   "metadata": {},
   "outputs": [
    {
     "data": {
      "text/plain": [
       "()"
      ]
     },
     "execution_count": 75,
     "metadata": {},
     "output_type": "execute_result"
    }
   ],
   "source": [
    "t[0:4:-1]##contradiction"
   ]
  },
  {
   "cell_type": "code",
   "execution_count": 76,
   "id": "0f0c6aca",
   "metadata": {},
   "outputs": [
    {
     "ename": "TypeError",
     "evalue": "'tuple' object does not support item assignment",
     "output_type": "error",
     "traceback": [
      "\u001b[1;31m---------------------------------------------------------------------------\u001b[0m",
      "\u001b[1;31mTypeError\u001b[0m                                 Traceback (most recent call last)",
      "Input \u001b[1;32mIn [76]\u001b[0m, in \u001b[0;36m<cell line: 1>\u001b[1;34m()\u001b[0m\n\u001b[1;32m----> 1\u001b[0m t[\u001b[38;5;241m2\u001b[39m]\u001b[38;5;241m=\u001b[39m\u001b[38;5;124m\"\u001b[39m\u001b[38;5;124mABC\u001b[39m\u001b[38;5;124m\"\u001b[39m\n",
      "\u001b[1;31mTypeError\u001b[0m: 'tuple' object does not support item assignment"
     ]
    }
   ],
   "source": [
    "t[2]=\"ABC\"## in mutable object, "
   ]
  },
  {
   "cell_type": "code",
   "execution_count": 80,
   "id": "69f88f1c",
   "metadata": {},
   "outputs": [
    {
     "data": {
      "text/plain": [
       "(1, 2, 3, 'MUSkan', 45.6, True, (3+5j), 8, 9, 0)"
      ]
     },
     "execution_count": 80,
     "metadata": {},
     "output_type": "execute_result"
    }
   ],
   "source": [
    "t1=(8,9,0)## concatination\n",
    "t+t1"
   ]
  },
  {
   "cell_type": "code",
   "execution_count": 78,
   "id": "9223715e",
   "metadata": {},
   "outputs": [
    {
     "ename": "TypeError",
     "evalue": "can only concatenate tuple (not \"str\") to tuple",
     "output_type": "error",
     "traceback": [
      "\u001b[1;31m---------------------------------------------------------------------------\u001b[0m",
      "\u001b[1;31mTypeError\u001b[0m                                 Traceback (most recent call last)",
      "Input \u001b[1;32mIn [78]\u001b[0m, in \u001b[0;36m<cell line: 1>\u001b[1;34m()\u001b[0m\n\u001b[1;32m----> 1\u001b[0m \u001b[43mt\u001b[49m\u001b[38;5;241;43m+\u001b[39;49m\u001b[38;5;124;43m\"\u001b[39;49m\u001b[38;5;124;43mMUSkan\u001b[39;49m\u001b[38;5;124;43m\"\u001b[39;49m\n",
      "\u001b[1;31mTypeError\u001b[0m: can only concatenate tuple (not \"str\") to tuple"
     ]
    }
   ],
   "source": [
    "t+\"MUSkan\""
   ]
  },
  {
   "cell_type": "code",
   "execution_count": 79,
   "id": "136b717d",
   "metadata": {},
   "outputs": [
    {
     "data": {
      "text/plain": [
       "0"
      ]
     },
     "execution_count": 79,
     "metadata": {},
     "output_type": "execute_result"
    }
   ],
   "source": [
    "t.count(4)"
   ]
  },
  {
   "cell_type": "code",
   "execution_count": 81,
   "id": "c8de2ae2",
   "metadata": {},
   "outputs": [
    {
     "data": {
      "text/plain": [
       "<function tuple.index(value, start=0, stop=9223372036854775807, /)>"
      ]
     },
     "execution_count": 81,
     "metadata": {},
     "output_type": "execute_result"
    }
   ],
   "source": [
    "t.index"
   ]
  },
  {
   "cell_type": "code",
   "execution_count": 82,
   "id": "1f453d95",
   "metadata": {},
   "outputs": [
    {
     "data": {
      "text/plain": [
       "(1, 2, 3, 'MUSkan', 45.6, True, (3+5j), 8, 9, 0)"
      ]
     },
     "execution_count": 82,
     "metadata": {},
     "output_type": "execute_result"
    }
   ],
   "source": [
    "t3=t+t1## can override complete tuple\n",
    "t3"
   ]
  },
  {
   "cell_type": "code",
   "execution_count": 83,
   "id": "83c1c19e",
   "metadata": {},
   "outputs": [
    {
     "data": {
      "text/plain": [
       "0"
      ]
     },
     "execution_count": 83,
     "metadata": {},
     "output_type": "execute_result"
    }
   ],
   "source": [
    "t3.index(True)"
   ]
  },
  {
   "cell_type": "code",
   "execution_count": 84,
   "id": "44b6f65d",
   "metadata": {},
   "outputs": [
    {
     "ename": "ValueError",
     "evalue": "tuple.index(x): x not in tuple",
     "output_type": "error",
     "traceback": [
      "\u001b[1;31m---------------------------------------------------------------------------\u001b[0m",
      "\u001b[1;31mValueError\u001b[0m                                Traceback (most recent call last)",
      "Input \u001b[1;32mIn [84]\u001b[0m, in \u001b[0;36m<cell line: 1>\u001b[1;34m()\u001b[0m\n\u001b[1;32m----> 1\u001b[0m \u001b[43mt3\u001b[49m\u001b[38;5;241;43m.\u001b[39;49m\u001b[43mindex\u001b[49m\u001b[43m(\u001b[49m\u001b[38;5;241;43m5\u001b[39;49m\u001b[43m)\u001b[49m\n",
      "\u001b[1;31mValueError\u001b[0m: tuple.index(x): x not in tuple"
     ]
    }
   ],
   "source": [
    "t3.index(5)"
   ]
  },
  {
   "cell_type": "code",
   "execution_count": 85,
   "id": "613dd1d2",
   "metadata": {},
   "outputs": [
    {
     "data": {
      "text/plain": [
       "9"
      ]
     },
     "execution_count": 85,
     "metadata": {},
     "output_type": "execute_result"
    }
   ],
   "source": [
    "t3.index(0)"
   ]
  },
  {
   "cell_type": "code",
   "execution_count": 86,
   "id": "faa23d5a",
   "metadata": {},
   "outputs": [
    {
     "data": {
      "text/plain": [
       "2"
      ]
     },
     "execution_count": 86,
     "metadata": {},
     "output_type": "execute_result"
    }
   ],
   "source": [
    "t.index(3)"
   ]
  },
  {
   "cell_type": "code",
   "execution_count": 87,
   "id": "4b402961",
   "metadata": {},
   "outputs": [],
   "source": [
    "t4=(1,2,3,\"Muskan\")## conversion to list and list to tuple\n",
    "t5=list(t4)"
   ]
  },
  {
   "cell_type": "code",
   "execution_count": 88,
   "id": "a947820a",
   "metadata": {},
   "outputs": [
    {
     "data": {
      "text/plain": [
       "[1, 2, 3, 'Muskan']"
      ]
     },
     "execution_count": 88,
     "metadata": {},
     "output_type": "execute_result"
    }
   ],
   "source": [
    "t5"
   ]
  },
  {
   "cell_type": "code",
   "execution_count": 89,
   "id": "37be0a46",
   "metadata": {},
   "outputs": [
    {
     "data": {
      "text/plain": [
       "(1, 2, 3, 'Muskan')"
      ]
     },
     "execution_count": 89,
     "metadata": {},
     "output_type": "execute_result"
    }
   ],
   "source": [
    "tuple(t5)"
   ]
  },
  {
   "cell_type": "code",
   "execution_count": 90,
   "id": "e663e3aa",
   "metadata": {},
   "outputs": [
    {
     "data": {
      "text/plain": [
       "\"[1, 2, 3, 'Muskan']\""
      ]
     },
     "execution_count": 90,
     "metadata": {},
     "output_type": "execute_result"
    }
   ],
   "source": [
    "str(t5)"
   ]
  },
  {
   "cell_type": "markdown",
   "id": "32ac8daf",
   "metadata": {},
   "source": [
    "# DICTIONARY"
   ]
  },
  {
   "cell_type": "code",
   "execution_count": 91,
   "id": "b0a14a5e",
   "metadata": {},
   "outputs": [
    {
     "data": {
      "text/plain": [
       "dict"
      ]
     },
     "execution_count": 91,
     "metadata": {},
     "output_type": "execute_result"
    }
   ],
   "source": [
    "d={}\n",
    "type(d)"
   ]
  },
  {
   "cell_type": "code",
   "execution_count": 92,
   "id": "65325701",
   "metadata": {},
   "outputs": [
    {
     "data": {
      "text/plain": [
       "set"
      ]
     },
     "execution_count": 92,
     "metadata": {},
     "output_type": "execute_result"
    }
   ],
   "source": [
    "d1={1,2,3}\n",
    "type(d1)"
   ]
  },
  {
   "cell_type": "code",
   "execution_count": 93,
   "id": "c8f783ff",
   "metadata": {},
   "outputs": [
    {
     "data": {
      "text/plain": [
       "dict"
      ]
     },
     "execution_count": 93,
     "metadata": {},
     "output_type": "execute_result"
    }
   ],
   "source": [
    "d2={\"key1\":\"value\",234:\"xyz\",\"name\":\"Muskan\",\"no\":767352823}## key value pair\n",
    "type(d2)"
   ]
  },
  {
   "cell_type": "code",
   "execution_count": 94,
   "id": "6c8d4c20",
   "metadata": {},
   "outputs": [
    {
     "data": {
      "text/plain": [
       "'Muskan'"
      ]
     },
     "execution_count": 94,
     "metadata": {},
     "output_type": "execute_result"
    }
   ],
   "source": [
    "d2[\"name\"]"
   ]
  },
  {
   "cell_type": "code",
   "execution_count": 95,
   "id": "20cd03f9",
   "metadata": {},
   "outputs": [
    {
     "data": {
      "text/plain": [
       "{'key1': 'value',\n",
       " 234: ['Python', 'ML', 'DL'],\n",
       " 'name': 'Muskan',\n",
       " 'no': 767352823}"
      ]
     },
     "execution_count": 95,
     "metadata": {},
     "output_type": "execute_result"
    }
   ],
   "source": [
    "d3={\"key1\":\"value\",234:[\"Python\",\"ML\",\"DL\"],\"name\":\"Muskan\",\"no\":767352823}## key value pair\n",
    "d3"
   ]
  },
  {
   "cell_type": "code",
   "execution_count": 101,
   "id": "4f5ba7bc",
   "metadata": {},
   "outputs": [
    {
     "data": {
      "text/plain": [
       "True"
      ]
     },
     "execution_count": 101,
     "metadata": {},
     "output_type": "execute_result"
    }
   ],
   "source": [
    "\"Python\" in d3[234]"
   ]
  },
  {
   "cell_type": "code",
   "execution_count": 99,
   "id": "14edc7e3",
   "metadata": {},
   "outputs": [
    {
     "data": {
      "text/plain": [
       "True"
      ]
     },
     "execution_count": 99,
     "metadata": {},
     "output_type": "execute_result"
    }
   ],
   "source": [
    "\"value\" in d3[\"key1\"]"
   ]
  },
  {
   "cell_type": "code",
   "execution_count": 103,
   "id": "da28d2e8",
   "metadata": {},
   "outputs": [
    {
     "data": {
      "text/plain": [
       "{'name': 'Muskan', 'Contact info': 5478587}"
      ]
     },
     "execution_count": 103,
     "metadata": {},
     "output_type": "execute_result"
    }
   ],
   "source": [
    "d4={\"name\": \"Ineuron\", \"Contact info\": 5478587,\"name\":\"Muskan\"}## keys should always be unique so it willl override the last \n",
    "d4"
   ]
  },
  {
   "cell_type": "code",
   "execution_count": 104,
   "id": "a2fc1c74",
   "metadata": {},
   "outputs": [
    {
     "data": {
      "text/plain": [
       "{'name': 'Muskan', 'Contact info': 5478587, 'name1': 'xyz'}"
      ]
     },
     "execution_count": 104,
     "metadata": {},
     "output_type": "execute_result"
    }
   ],
   "source": [
    "d4[\"name1\"]=\"xyz\"\n",
    "d4"
   ]
  },
  {
   "cell_type": "code",
   "execution_count": 105,
   "id": "a91e4c94",
   "metadata": {},
   "outputs": [],
   "source": [
    "d4[\"name1\"]=d3"
   ]
  },
  {
   "cell_type": "code",
   "execution_count": 106,
   "id": "b8e88359",
   "metadata": {},
   "outputs": [
    {
     "data": {
      "text/plain": [
       "{'key1': 'value',\n",
       " 234: ['Python', 'ML', 'DL'],\n",
       " 'name': 'Muskan',\n",
       " 'no': 767352823}"
      ]
     },
     "execution_count": 106,
     "metadata": {},
     "output_type": "execute_result"
    }
   ],
   "source": [
    "d3"
   ]
  },
  {
   "cell_type": "code",
   "execution_count": 107,
   "id": "11b0cc20",
   "metadata": {},
   "outputs": [
    {
     "ename": "NameError",
     "evalue": "name 'k2' is not defined",
     "output_type": "error",
     "traceback": [
      "\u001b[1;31m---------------------------------------------------------------------------\u001b[0m",
      "\u001b[1;31mNameError\u001b[0m                                 Traceback (most recent call last)",
      "Input \u001b[1;32mIn [107]\u001b[0m, in \u001b[0;36m<cell line: 1>\u001b[1;34m()\u001b[0m\n\u001b[1;32m----> 1\u001b[0m d4[\u001b[43mk2\u001b[49m]\n",
      "\u001b[1;31mNameError\u001b[0m: name 'k2' is not defined"
     ]
    }
   ],
   "source": [
    "d4[k2]"
   ]
  },
  {
   "cell_type": "code",
   "execution_count": 110,
   "id": "2c6f8c42",
   "metadata": {},
   "outputs": [
    {
     "data": {
      "text/plain": [
       "{'key1': 'value',\n",
       " 234: ['Python', 'ML', 'DL'],\n",
       " 'name': 'Muskan',\n",
       " 'no': 767352823}"
      ]
     },
     "execution_count": 110,
     "metadata": {},
     "output_type": "execute_result"
    }
   ],
   "source": [
    "d4[\"name1\"]"
   ]
  },
  {
   "cell_type": "code",
   "execution_count": 111,
   "id": "5857f3a1",
   "metadata": {},
   "outputs": [
    {
     "data": {
      "text/plain": [
       "767352823"
      ]
     },
     "execution_count": 111,
     "metadata": {},
     "output_type": "execute_result"
    }
   ],
   "source": [
    "d4[\"name1\"][\"no\"]"
   ]
  },
  {
   "cell_type": "code",
   "execution_count": 112,
   "id": "95e0f710",
   "metadata": {},
   "outputs": [
    {
     "ename": "SyntaxError",
     "evalue": "invalid syntax (192430712.py, line 1)",
     "output_type": "error",
     "traceback": [
      "\u001b[1;36m  Input \u001b[1;32mIn [112]\u001b[1;36m\u001b[0m\n\u001b[1;33m    d5={@:5876}\u001b[0m\n\u001b[1;37m        ^\u001b[0m\n\u001b[1;31mSyntaxError\u001b[0m\u001b[1;31m:\u001b[0m invalid syntax\n"
     ]
    }
   ],
   "source": [
    "d5={@:5876}"
   ]
  },
  {
   "cell_type": "code",
   "execution_count": 113,
   "id": "24c1b12c",
   "metadata": {},
   "outputs": [],
   "source": [
    "d6={_:874}"
   ]
  },
  {
   "cell_type": "code",
   "execution_count": 114,
   "id": "30030d46",
   "metadata": {},
   "outputs": [
    {
     "data": {
      "text/plain": [
       "{767352823: 874}"
      ]
     },
     "execution_count": 114,
     "metadata": {},
     "output_type": "execute_result"
    }
   ],
   "source": [
    "d6"
   ]
  },
  {
   "cell_type": "code",
   "execution_count": 115,
   "id": "5cc26f84",
   "metadata": {},
   "outputs": [
    {
     "data": {
      "text/plain": [
       "{(1, 2, 4): 'MUSkan'}"
      ]
     },
     "execution_count": 115,
     "metadata": {},
     "output_type": "execute_result"
    }
   ],
   "source": [
    "d6={(1,2,4):\"MUSkan\"}##tuple are allowed, so we can use collection as a key"
   ]
  },
  {
   "cell_type": "code",
   "execution_count": 116,
   "id": "5df846a3",
   "metadata": {},
   "outputs": [
    {
     "data": {
      "text/plain": [
       "'MUSkan'"
      ]
     },
     "execution_count": 116,
     "metadata": {},
     "output_type": "execute_result"
    }
   ],
   "source": [
    "d6[(1,2,4)]"
   ]
  },
  {
   "cell_type": "code",
   "execution_count": 117,
   "id": "00657b21",
   "metadata": {},
   "outputs": [
    {
     "ename": "TypeError",
     "evalue": "unhashable type: 'list'",
     "output_type": "error",
     "traceback": [
      "\u001b[1;31m---------------------------------------------------------------------------\u001b[0m",
      "\u001b[1;31mTypeError\u001b[0m                                 Traceback (most recent call last)",
      "Input \u001b[1;32mIn [117]\u001b[0m, in \u001b[0;36m<cell line: 1>\u001b[1;34m()\u001b[0m\n\u001b[1;32m----> 1\u001b[0m d7\u001b[38;5;241m=\u001b[39m{[\u001b[38;5;241m1\u001b[39m,\u001b[38;5;241m2\u001b[39m,\u001b[38;5;241m3\u001b[39m,\u001b[38;5;241m4\u001b[39m]:\u001b[38;5;124m\"\u001b[39m\u001b[38;5;124mMuskan\u001b[39m\u001b[38;5;124m\"\u001b[39m}\n\u001b[0;32m      2\u001b[0m d7\n",
      "\u001b[1;31mTypeError\u001b[0m: unhashable type: 'list'"
     ]
    }
   ],
   "source": [
    "d7={[1,2,3,4]:\"Muskan\"}## list are not allowed as keys\n",
    "d7"
   ]
  },
  {
   "cell_type": "code",
   "execution_count": 118,
   "id": "8ffc16be",
   "metadata": {},
   "outputs": [
    {
     "ename": "TypeError",
     "evalue": "unhashable type: 'dict'",
     "output_type": "error",
     "traceback": [
      "\u001b[1;31m---------------------------------------------------------------------------\u001b[0m",
      "\u001b[1;31mTypeError\u001b[0m                                 Traceback (most recent call last)",
      "Input \u001b[1;32mIn [118]\u001b[0m, in \u001b[0;36m<cell line: 1>\u001b[1;34m()\u001b[0m\n\u001b[1;32m----> 1\u001b[0m d8\u001b[38;5;241m=\u001b[39m{{\u001b[38;5;241m3\u001b[39m:\u001b[38;5;241m4\u001b[39m}:\u001b[38;5;124m\"\u001b[39m\u001b[38;5;124mMUskan\u001b[39m\u001b[38;5;124m\"\u001b[39m}\n",
      "\u001b[1;31mTypeError\u001b[0m: unhashable type: 'dict'"
     ]
    }
   ],
   "source": [
    "d8={{3:4}:\"MUskan\"}## Dict are not allowed as keys"
   ]
  },
  {
   "cell_type": "code",
   "execution_count": 120,
   "id": "b6425738",
   "metadata": {},
   "outputs": [
    {
     "data": {
      "text/plain": [
       "{1, 2, 3}"
      ]
     },
     "execution_count": 120,
     "metadata": {},
     "output_type": "execute_result"
    }
   ],
   "source": [
    "d1"
   ]
  },
  {
   "cell_type": "code",
   "execution_count": 121,
   "id": "d6e79a54",
   "metadata": {},
   "outputs": [
    {
     "data": {
      "text/plain": [
       "{'name': 'Muskan',\n",
       " 'Contact info': 5478587,\n",
       " 'name1': {'key1': 'value',\n",
       "  234: ['Python', 'ML', 'DL'],\n",
       "  'name': 'Muskan',\n",
       "  'no': 767352823}}"
      ]
     },
     "execution_count": 121,
     "metadata": {},
     "output_type": "execute_result"
    }
   ],
   "source": [
    "d4"
   ]
  },
  {
   "cell_type": "code",
   "execution_count": 122,
   "id": "69a8392e",
   "metadata": {},
   "outputs": [
    {
     "data": {
      "text/plain": [
       "dict_keys(['name', 'Contact info', 'name1'])"
      ]
     },
     "execution_count": 122,
     "metadata": {},
     "output_type": "execute_result"
    }
   ],
   "source": [
    "d4.keys()"
   ]
  },
  {
   "cell_type": "code",
   "execution_count": 123,
   "id": "b3a0d5e0",
   "metadata": {},
   "outputs": [
    {
     "data": {
      "text/plain": [
       "dict_values(['Muskan', 5478587, {'key1': 'value', 234: ['Python', 'ML', 'DL'], 'name': 'Muskan', 'no': 767352823}])"
      ]
     },
     "execution_count": 123,
     "metadata": {},
     "output_type": "execute_result"
    }
   ],
   "source": [
    "d4.values()"
   ]
  },
  {
   "cell_type": "markdown",
   "id": "01865ff0",
   "metadata": {},
   "source": [
    "# SET"
   ]
  },
  {
   "cell_type": "raw",
   "id": "b7238620",
   "metadata": {},
   "source": [
    "Set is basically used to remove duplicate elements from data set and retured unique data set, after that we can change it to list and use it.\n",
    "Indexing is not possible in set"
   ]
  },
  {
   "cell_type": "code",
   "execution_count": 124,
   "id": "e484c20a",
   "metadata": {},
   "outputs": [
    {
     "data": {
      "text/plain": [
       "set"
      ]
     },
     "execution_count": 124,
     "metadata": {},
     "output_type": "execute_result"
    }
   ],
   "source": [
    "s={1,2,3,4,5}\n",
    "type(s)"
   ]
  },
  {
   "cell_type": "code",
   "execution_count": 125,
   "id": "c6d7bbac",
   "metadata": {},
   "outputs": [
    {
     "data": {
      "text/plain": [
       "{0, 1, 2, 3, 4, 5, 6, 7, 9}"
      ]
     },
     "execution_count": 125,
     "metadata": {},
     "output_type": "execute_result"
    }
   ],
   "source": [
    "s1={1,1,1,2,3,4,4,4,6,6,9,0,5,5,7,9,7}## always return unique data set\n",
    "s1"
   ]
  },
  {
   "cell_type": "code",
   "execution_count": 126,
   "id": "96ae250b",
   "metadata": {},
   "outputs": [
    {
     "data": {
      "text/plain": [
       "{456, 656, 78, 908, 'Muskan', 'Sinha', 'a'}"
      ]
     },
     "execution_count": 126,
     "metadata": {},
     "output_type": "execute_result"
    }
   ],
   "source": [
    "s2={\"Muskan\",456,908,656,78,456,\"a\",\"Sinha\"}\n",
    "s2"
   ]
  },
  {
   "cell_type": "code",
   "execution_count": 127,
   "id": "a427b446",
   "metadata": {},
   "outputs": [
    {
     "ename": "TypeError",
     "evalue": "'set' object is not subscriptable",
     "output_type": "error",
     "traceback": [
      "\u001b[1;31m---------------------------------------------------------------------------\u001b[0m",
      "\u001b[1;31mTypeError\u001b[0m                                 Traceback (most recent call last)",
      "Input \u001b[1;32mIn [127]\u001b[0m, in \u001b[0;36m<cell line: 1>\u001b[1;34m()\u001b[0m\n\u001b[1;32m----> 1\u001b[0m \u001b[43ms2\u001b[49m\u001b[43m[\u001b[49m\u001b[38;5;241;43m0\u001b[39;49m\u001b[43m]\u001b[49m\n",
      "\u001b[1;31mTypeError\u001b[0m: 'set' object is not subscriptable"
     ]
    }
   ],
   "source": [
    "s2[0]## Indexing is not possible in set"
   ]
  },
  {
   "cell_type": "code",
   "execution_count": 128,
   "id": "2837336a",
   "metadata": {},
   "outputs": [
    {
     "data": {
      "text/plain": [
       "['a', 656, 'Sinha', 456, 'Muskan', 908, 78]"
      ]
     },
     "execution_count": 128,
     "metadata": {},
     "output_type": "execute_result"
    }
   ],
   "source": [
    "list(s2)"
   ]
  },
  {
   "cell_type": "code",
   "execution_count": 134,
   "id": "6522a6db",
   "metadata": {},
   "outputs": [],
   "source": [
    "lis=[1,2,4,5,5,5,5,5,3,8,9,0,2,2,2]\n",
    "lis=list(set(lis))"
   ]
  },
  {
   "cell_type": "code",
   "execution_count": 135,
   "id": "f0c3fd42",
   "metadata": {},
   "outputs": [
    {
     "data": {
      "text/plain": [
       "[0, 1, 2, 3, 4, 5, 8, 9]"
      ]
     },
     "execution_count": 135,
     "metadata": {},
     "output_type": "execute_result"
    }
   ],
   "source": [
    "lis"
   ]
  },
  {
   "cell_type": "code",
   "execution_count": 136,
   "id": "da743eda",
   "metadata": {},
   "outputs": [
    {
     "ename": "TypeError",
     "evalue": "unhashable type: 'list'",
     "output_type": "error",
     "traceback": [
      "\u001b[1;31m---------------------------------------------------------------------------\u001b[0m",
      "\u001b[1;31mTypeError\u001b[0m                                 Traceback (most recent call last)",
      "Input \u001b[1;32mIn [136]\u001b[0m, in \u001b[0;36m<cell line: 1>\u001b[1;34m()\u001b[0m\n\u001b[1;32m----> 1\u001b[0m \u001b[43ms2\u001b[49m\u001b[38;5;241;43m.\u001b[39;49m\u001b[43madd\u001b[49m\u001b[43m(\u001b[49m\u001b[43m[\u001b[49m\u001b[38;5;241;43m1\u001b[39;49m\u001b[43m,\u001b[49m\u001b[38;5;241;43m2\u001b[39;49m\u001b[43m,\u001b[49m\u001b[38;5;241;43m3\u001b[39;49m\u001b[43m,\u001b[49m\u001b[38;5;241;43m4\u001b[39;49m\u001b[43m]\u001b[49m\u001b[43m)\u001b[49m\n",
      "\u001b[1;31mTypeError\u001b[0m: unhashable type: 'list'"
     ]
    }
   ],
   "source": [
    "s2.add([1,2,3,4])"
   ]
  },
  {
   "cell_type": "code",
   "execution_count": 137,
   "id": "f93fe9ce",
   "metadata": {},
   "outputs": [],
   "source": [
    "s2.add(32)"
   ]
  },
  {
   "cell_type": "code",
   "execution_count": 138,
   "id": "eaf9d598",
   "metadata": {},
   "outputs": [
    {
     "data": {
      "text/plain": [
       "{32, 456, 656, 78, 908, 'Muskan', 'Sinha', 'a'}"
      ]
     },
     "execution_count": 138,
     "metadata": {},
     "output_type": "execute_result"
    }
   ],
   "source": [
    "s2"
   ]
  },
  {
   "cell_type": "code",
   "execution_count": 139,
   "id": "1e736152",
   "metadata": {},
   "outputs": [
    {
     "ename": "TypeError",
     "evalue": "set.add() takes exactly one argument (4 given)",
     "output_type": "error",
     "traceback": [
      "\u001b[1;31m---------------------------------------------------------------------------\u001b[0m",
      "\u001b[1;31mTypeError\u001b[0m                                 Traceback (most recent call last)",
      "Input \u001b[1;32mIn [139]\u001b[0m, in \u001b[0;36m<cell line: 1>\u001b[1;34m()\u001b[0m\n\u001b[1;32m----> 1\u001b[0m \u001b[43ms2\u001b[49m\u001b[38;5;241;43m.\u001b[39;49m\u001b[43madd\u001b[49m\u001b[43m(\u001b[49m\u001b[43m{\u001b[49m\u001b[38;5;241;43m1\u001b[39;49m\u001b[43m,\u001b[49m\u001b[38;5;241;43m2\u001b[39;49m\u001b[43m,\u001b[49m\u001b[38;5;241;43m3\u001b[39;49m\u001b[43m,\u001b[49m\u001b[38;5;241;43m4\u001b[39;49m\u001b[43m}\u001b[49m\u001b[43m,\u001b[49m\u001b[38;5;241;43m1\u001b[39;49m\u001b[43m,\u001b[49m\u001b[38;5;241;43m2\u001b[39;49m\u001b[43m,\u001b[49m\u001b[38;5;241;43m3\u001b[39;49m\u001b[43m)\u001b[49m\n",
      "\u001b[1;31mTypeError\u001b[0m: set.add() takes exactly one argument (4 given)"
     ]
    }
   ],
   "source": [
    "s2.add({1,2,3,4},1,2,3)"
   ]
  },
  {
   "cell_type": "code",
   "execution_count": 140,
   "id": "1b5c0cd7",
   "metadata": {},
   "outputs": [],
   "source": [
    "s2.remove(32)##  if keys are not available remove will give error that is key error"
   ]
  },
  {
   "cell_type": "code",
   "execution_count": 141,
   "id": "64e5b1b1",
   "metadata": {},
   "outputs": [
    {
     "data": {
      "text/plain": [
       "{456, 656, 78, 908, 'Muskan', 'Sinha', 'a'}"
      ]
     },
     "execution_count": 141,
     "metadata": {},
     "output_type": "execute_result"
    }
   ],
   "source": [
    "s2"
   ]
  },
  {
   "cell_type": "code",
   "execution_count": 142,
   "id": "438ef93b",
   "metadata": {},
   "outputs": [],
   "source": [
    "s2.discard(908)## if keys will not availBLE discard will not give any error"
   ]
  },
  {
   "cell_type": "code",
   "execution_count": 143,
   "id": "7bc9e9df",
   "metadata": {},
   "outputs": [
    {
     "data": {
      "text/plain": [
       "{456, 656, 78, 'Muskan', 'Sinha', 'a'}"
      ]
     },
     "execution_count": 143,
     "metadata": {},
     "output_type": "execute_result"
    }
   ],
   "source": [
    "s2"
   ]
  },
  {
   "cell_type": "code",
   "execution_count": null,
   "id": "9a0130ca",
   "metadata": {},
   "outputs": [],
   "source": []
  }
 ],
 "metadata": {
  "kernelspec": {
   "display_name": "Python 3 (ipykernel)",
   "language": "python",
   "name": "python3"
  },
  "language_info": {
   "codemirror_mode": {
    "name": "ipython",
    "version": 3
   },
   "file_extension": ".py",
   "mimetype": "text/x-python",
   "name": "python",
   "nbconvert_exporter": "python",
   "pygments_lexer": "ipython3",
   "version": "3.9.12"
  }
 },
 "nbformat": 4,
 "nbformat_minor": 5
}
