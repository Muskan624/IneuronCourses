{
 "cells": [
  {
   "cell_type": "code",
   "execution_count": 1,
   "id": "25f6313e",
   "metadata": {},
   "outputs": [
    {
     "data": {
      "text/plain": [
       "2"
      ]
     },
     "execution_count": 1,
     "metadata": {},
     "output_type": "execute_result"
    }
   ],
   "source": [
    "1+1"
   ]
  },
  {
   "cell_type": "code",
   "execution_count": 2,
   "id": "03c59922",
   "metadata": {},
   "outputs": [
    {
     "data": {
      "text/plain": [
       "2"
      ]
     },
     "execution_count": 2,
     "metadata": {},
     "output_type": "execute_result"
    }
   ],
   "source": [
    "1*2"
   ]
  },
  {
   "cell_type": "code",
   "execution_count": 3,
   "id": "0c13f03b",
   "metadata": {},
   "outputs": [
    {
     "data": {
      "text/plain": [
       "int"
      ]
     },
     "execution_count": 3,
     "metadata": {},
     "output_type": "execute_result"
    }
   ],
   "source": [
    "type(1)"
   ]
  },
  {
   "cell_type": "code",
   "execution_count": 4,
   "id": "102a27dc",
   "metadata": {},
   "outputs": [
    {
     "ename": "NameError",
     "evalue": "name 'hello' is not defined",
     "output_type": "error",
     "traceback": [
      "\u001b[1;31m---------------------------------------------------------------------------\u001b[0m",
      "\u001b[1;31mNameError\u001b[0m                                 Traceback (most recent call last)",
      "Input \u001b[1;32mIn [4]\u001b[0m, in \u001b[0;36m<cell line: 1>\u001b[1;34m()\u001b[0m\n\u001b[1;32m----> 1\u001b[0m \u001b[38;5;28mprint\u001b[39m(\u001b[43mhello\u001b[49m)\n",
      "\u001b[1;31mNameError\u001b[0m: name 'hello' is not defined"
     ]
    }
   ],
   "source": [
    "print(hello)"
   ]
  },
  {
   "cell_type": "code",
   "execution_count": 5,
   "id": "2219b3bf",
   "metadata": {},
   "outputs": [
    {
     "name": "stdout",
     "output_type": "stream",
     "text": [
      "HELLO\n"
     ]
    }
   ],
   "source": [
    "print('HELLO')"
   ]
  },
  {
   "cell_type": "code",
   "execution_count": 6,
   "id": "230ea087",
   "metadata": {},
   "outputs": [
    {
     "name": "stdout",
     "output_type": "stream",
     "text": [
      "HELLo\n"
     ]
    }
   ],
   "source": [
    "print(\"HELLo\")"
   ]
  },
  {
   "cell_type": "code",
   "execution_count": 7,
   "id": "214c4eac",
   "metadata": {},
   "outputs": [
    {
     "ename": "NameError",
     "evalue": "name 'bhjc2' is not defined",
     "output_type": "error",
     "traceback": [
      "\u001b[1;31m---------------------------------------------------------------------------\u001b[0m",
      "\u001b[1;31mNameError\u001b[0m                                 Traceback (most recent call last)",
      "Input \u001b[1;32mIn [7]\u001b[0m, in \u001b[0;36m<cell line: 1>\u001b[1;34m()\u001b[0m\n\u001b[1;32m----> 1\u001b[0m \u001b[38;5;28mtype\u001b[39m(\u001b[43mbhjc2\u001b[49m)\n",
      "\u001b[1;31mNameError\u001b[0m: name 'bhjc2' is not defined"
     ]
    }
   ],
   "source": [
    "type(bhjc2)"
   ]
  },
  {
   "cell_type": "code",
   "execution_count": 8,
   "id": "0cdda93b",
   "metadata": {},
   "outputs": [
    {
     "ename": "NameError",
     "evalue": "name 'kkd' is not defined",
     "output_type": "error",
     "traceback": [
      "\u001b[1;31m---------------------------------------------------------------------------\u001b[0m",
      "\u001b[1;31mNameError\u001b[0m                                 Traceback (most recent call last)",
      "Input \u001b[1;32mIn [8]\u001b[0m, in \u001b[0;36m<cell line: 1>\u001b[1;34m()\u001b[0m\n\u001b[1;32m----> 1\u001b[0m \u001b[38;5;28mtype\u001b[39m(\u001b[43mkkd\u001b[49m)\n",
      "\u001b[1;31mNameError\u001b[0m: name 'kkd' is not defined"
     ]
    }
   ],
   "source": [
    "type(kkd)"
   ]
  },
  {
   "cell_type": "code",
   "execution_count": 9,
   "id": "6e296c56",
   "metadata": {},
   "outputs": [
    {
     "data": {
      "text/plain": [
       "str"
      ]
     },
     "execution_count": 9,
     "metadata": {},
     "output_type": "execute_result"
    }
   ],
   "source": [
    "type('2')"
   ]
  },
  {
   "cell_type": "code",
   "execution_count": 10,
   "id": "0adcb8a5",
   "metadata": {},
   "outputs": [
    {
     "ename": "SyntaxError",
     "evalue": "invalid syntax (1620875300.py, line 1)",
     "output_type": "error",
     "traceback": [
      "\u001b[1;36m  Input \u001b[1;32mIn [10]\u001b[1;36m\u001b[0m\n\u001b[1;33m    type(83648.8r7)\u001b[0m\n\u001b[1;37m                ^\u001b[0m\n\u001b[1;31mSyntaxError\u001b[0m\u001b[1;31m:\u001b[0m invalid syntax\n"
     ]
    }
   ],
   "source": [
    "type(83648.8r7)"
   ]
  },
  {
   "cell_type": "code",
   "execution_count": 11,
   "id": "cda976c7",
   "metadata": {},
   "outputs": [
    {
     "ename": "NameError",
     "evalue": "name 'true' is not defined",
     "output_type": "error",
     "traceback": [
      "\u001b[1;31m---------------------------------------------------------------------------\u001b[0m",
      "\u001b[1;31mNameError\u001b[0m                                 Traceback (most recent call last)",
      "Input \u001b[1;32mIn [11]\u001b[0m, in \u001b[0;36m<cell line: 1>\u001b[1;34m()\u001b[0m\n\u001b[1;32m----> 1\u001b[0m \u001b[38;5;28mtype\u001b[39m(\u001b[43mtrue\u001b[49m)\n",
      "\u001b[1;31mNameError\u001b[0m: name 'true' is not defined"
     ]
    }
   ],
   "source": [
    "type(true)"
   ]
  },
  {
   "cell_type": "code",
   "execution_count": 12,
   "id": "456d081d",
   "metadata": {},
   "outputs": [
    {
     "data": {
      "text/plain": [
       "str"
      ]
     },
     "execution_count": 12,
     "metadata": {},
     "output_type": "execute_result"
    }
   ],
   "source": [
    "type('true')"
   ]
  },
  {
   "cell_type": "code",
   "execution_count": 13,
   "id": "e6f5c4da",
   "metadata": {},
   "outputs": [
    {
     "data": {
      "text/plain": [
       "bool"
      ]
     },
     "execution_count": 13,
     "metadata": {},
     "output_type": "execute_result"
    }
   ],
   "source": [
    "type(True)"
   ]
  },
  {
   "cell_type": "code",
   "execution_count": 14,
   "id": "c1839dd3",
   "metadata": {},
   "outputs": [
    {
     "data": {
      "text/plain": [
       "float"
      ]
     },
     "execution_count": 14,
     "metadata": {},
     "output_type": "execute_result"
    }
   ],
   "source": [
    "type(343.232)"
   ]
  },
  {
   "cell_type": "code",
   "execution_count": 27,
   "id": "c6698397",
   "metadata": {},
   "outputs": [
    {
     "name": "stdout",
     "output_type": "stream",
     "text": [
      "70\n",
      "30\n",
      "0.75\n",
      "1170\n"
     ]
    }
   ],
   "source": [
    "a=30\n",
    "b=40\n",
    "print(a+b)\n",
    "print(a%b)\n",
    "print(a/b)\n",
    "print((a*b)-(a%b))"
   ]
  },
  {
   "cell_type": "code",
   "execution_count": 31,
   "id": "89dd4860",
   "metadata": {},
   "outputs": [
    {
     "name": "stdout",
     "output_type": "stream",
     "text": [
      "My fisrt name is Muskan and my last name is Sinha\n",
      "My first name is Sinha and my last name is Muskan\n"
     ]
    }
   ],
   "source": [
    "first_name='Muskan'\n",
    "Last_name=\"Sinha\"\n",
    "print('My fisrt name is {} and my last name is {}'.format(first_name,Last_name))\n",
    "print('My first name is {first} and my last name is {Last}'.format(first=Last_name,Last=first_name))"
   ]
  },
  {
   "cell_type": "code",
   "execution_count": 32,
   "id": "ee56b28e",
   "metadata": {},
   "outputs": [
    {
     "ename": "NameError",
     "evalue": "name 'jfjkdh' is not defined",
     "output_type": "error",
     "traceback": [
      "\u001b[1;31m---------------------------------------------------------------------------\u001b[0m",
      "\u001b[1;31mNameError\u001b[0m                                 Traceback (most recent call last)",
      "Input \u001b[1;32mIn [32]\u001b[0m, in \u001b[0;36m<cell line: 1>\u001b[1;34m()\u001b[0m\n\u001b[1;32m----> 1\u001b[0m \u001b[38;5;28mlen\u001b[39m(\u001b[43mjfjkdh\u001b[49m)\n",
      "\u001b[1;31mNameError\u001b[0m: name 'jfjkdh' is not defined"
     ]
    }
   ],
   "source": [
    "len(jfjkdh)"
   ]
  },
  {
   "cell_type": "code",
   "execution_count": 33,
   "id": "46239b79",
   "metadata": {},
   "outputs": [
    {
     "data": {
      "text/plain": [
       "3"
      ]
     },
     "execution_count": 33,
     "metadata": {},
     "output_type": "execute_result"
    }
   ],
   "source": [
    "len(\"mus\")"
   ]
  },
  {
   "cell_type": "code",
   "execution_count": 34,
   "id": "9e3c3368",
   "metadata": {},
   "outputs": [
    {
     "ename": "TypeError",
     "evalue": "object of type 'int' has no len()",
     "output_type": "error",
     "traceback": [
      "\u001b[1;31m---------------------------------------------------------------------------\u001b[0m",
      "\u001b[1;31mTypeError\u001b[0m                                 Traceback (most recent call last)",
      "Input \u001b[1;32mIn [34]\u001b[0m, in \u001b[0;36m<cell line: 1>\u001b[1;34m()\u001b[0m\n\u001b[1;32m----> 1\u001b[0m \u001b[38;5;28;43mlen\u001b[39;49m\u001b[43m(\u001b[49m\u001b[38;5;241;43m234\u001b[39;49m\u001b[43m)\u001b[49m\n",
      "\u001b[1;31mTypeError\u001b[0m: object of type 'int' has no len()"
     ]
    }
   ],
   "source": [
    "len(234)"
   ]
  },
  {
   "cell_type": "code",
   "execution_count": 35,
   "id": "2e76ac06",
   "metadata": {},
   "outputs": [
    {
     "data": {
      "text/plain": [
       "3"
      ]
     },
     "execution_count": 35,
     "metadata": {},
     "output_type": "execute_result"
    }
   ],
   "source": [
    "len([1,2,3])"
   ]
  },
  {
   "cell_type": "code",
   "execution_count": 36,
   "id": "31acae5d",
   "metadata": {},
   "outputs": [
    {
     "data": {
      "text/plain": [
       "list"
      ]
     },
     "execution_count": 36,
     "metadata": {},
     "output_type": "execute_result"
    }
   ],
   "source": [
    "type([1])"
   ]
  },
  {
   "cell_type": "code",
   "execution_count": 37,
   "id": "faab3543",
   "metadata": {},
   "outputs": [
    {
     "data": {
      "text/plain": [
       "False"
      ]
     },
     "execution_count": 37,
     "metadata": {},
     "output_type": "execute_result"
    }
   ],
   "source": [
    "bool()"
   ]
  },
  {
   "cell_type": "code",
   "execution_count": 38,
   "id": "f48adc33",
   "metadata": {},
   "outputs": [
    {
     "ename": "NameError",
     "evalue": "name 'true' is not defined",
     "output_type": "error",
     "traceback": [
      "\u001b[1;31m---------------------------------------------------------------------------\u001b[0m",
      "\u001b[1;31mNameError\u001b[0m                                 Traceback (most recent call last)",
      "Input \u001b[1;32mIn [38]\u001b[0m, in \u001b[0;36m<cell line: 1>\u001b[1;34m()\u001b[0m\n\u001b[1;32m----> 1\u001b[0m \u001b[38;5;28mbool\u001b[39m(\u001b[43mtrue\u001b[49m)\n",
      "\u001b[1;31mNameError\u001b[0m: name 'true' is not defined"
     ]
    }
   ],
   "source": [
    "bool(true)"
   ]
  },
  {
   "cell_type": "code",
   "execution_count": 39,
   "id": "c27d672f",
   "metadata": {},
   "outputs": [
    {
     "data": {
      "text/plain": [
       "True"
      ]
     },
     "execution_count": 39,
     "metadata": {},
     "output_type": "execute_result"
    }
   ],
   "source": [
    "bool(True)"
   ]
  },
  {
   "cell_type": "code",
   "execution_count": 49,
   "id": "db96ba54",
   "metadata": {},
   "outputs": [
    {
     "data": {
      "text/plain": [
       "'Muskan'"
      ]
     },
     "execution_count": 49,
     "metadata": {},
     "output_type": "execute_result"
    }
   ],
   "source": [
    "my_str=\"Muskan\"\n",
    "my_str.isnumeric()\n",
    "my_str.istitle()\n",
    "my_str.format()\n",
    "my_str.count(my_str)\n",
    "my_str.startswith(\"u\")\n",
    "my_str.title()"
   ]
  },
  {
   "cell_type": "code",
   "execution_count": 50,
   "id": "74e407f1",
   "metadata": {},
   "outputs": [
    {
     "data": {
      "text/plain": [
       "True"
      ]
     },
     "execution_count": 50,
     "metadata": {},
     "output_type": "execute_result"
    }
   ],
   "source": [
    "True and True"
   ]
  },
  {
   "cell_type": "code",
   "execution_count": 51,
   "id": "bca93ea1",
   "metadata": {},
   "outputs": [
    {
     "data": {
      "text/plain": [
       "False"
      ]
     },
     "execution_count": 51,
     "metadata": {},
     "output_type": "execute_result"
    }
   ],
   "source": [
    "False and True"
   ]
  },
  {
   "cell_type": "code",
   "execution_count": 52,
   "id": "aa751045",
   "metadata": {},
   "outputs": [
    {
     "data": {
      "text/plain": [
       "False"
      ]
     },
     "execution_count": 52,
     "metadata": {},
     "output_type": "execute_result"
    }
   ],
   "source": [
    "True and False"
   ]
  },
  {
   "cell_type": "code",
   "execution_count": 53,
   "id": "d2fe9046",
   "metadata": {},
   "outputs": [
    {
     "data": {
      "text/plain": [
       "False"
      ]
     },
     "execution_count": 53,
     "metadata": {},
     "output_type": "execute_result"
    }
   ],
   "source": [
    "False and False"
   ]
  },
  {
   "cell_type": "code",
   "execution_count": 54,
   "id": "b697e8bc",
   "metadata": {},
   "outputs": [
    {
     "data": {
      "text/plain": [
       "True"
      ]
     },
     "execution_count": 54,
     "metadata": {},
     "output_type": "execute_result"
    }
   ],
   "source": [
    "True or True"
   ]
  },
  {
   "cell_type": "code",
   "execution_count": 58,
   "id": "f18deb25",
   "metadata": {},
   "outputs": [
    {
     "data": {
      "text/plain": [
       "True"
      ]
     },
     "execution_count": 58,
     "metadata": {},
     "output_type": "execute_result"
    }
   ],
   "source": [
    "False or True"
   ]
  },
  {
   "cell_type": "code",
   "execution_count": 56,
   "id": "8d8224ef",
   "metadata": {},
   "outputs": [
    {
     "data": {
      "text/plain": [
       "True"
      ]
     },
     "execution_count": 56,
     "metadata": {},
     "output_type": "execute_result"
    }
   ],
   "source": [
    "True or False"
   ]
  },
  {
   "cell_type": "code",
   "execution_count": 57,
   "id": "27298a0f",
   "metadata": {},
   "outputs": [
    {
     "data": {
      "text/plain": [
       "False"
      ]
     },
     "execution_count": 57,
     "metadata": {},
     "output_type": "execute_result"
    }
   ],
   "source": [
    "False or False"
   ]
  },
  {
   "cell_type": "code",
   "execution_count": 63,
   "id": "5f43edf9",
   "metadata": {},
   "outputs": [
    {
     "ename": "AttributeError",
     "evalue": "'str' object has no attribute 'isnum'",
     "output_type": "error",
     "traceback": [
      "\u001b[1;31m---------------------------------------------------------------------------\u001b[0m",
      "\u001b[1;31mAttributeError\u001b[0m                            Traceback (most recent call last)",
      "Input \u001b[1;32mIn [63]\u001b[0m, in \u001b[0;36m<cell line: 3>\u001b[1;34m()\u001b[0m\n\u001b[0;32m      1\u001b[0m str_first\u001b[38;5;241m=\u001b[39m\u001b[38;5;124m'\u001b[39m\u001b[38;5;124mMuskan\u001b[39m\u001b[38;5;124m'\u001b[39m\n\u001b[0;32m      2\u001b[0m str_second\u001b[38;5;241m=\u001b[39m\u001b[38;5;124m\"\u001b[39m\u001b[38;5;124m234\u001b[39m\u001b[38;5;124m\"\u001b[39m\n\u001b[1;32m----> 3\u001b[0m str_first\u001b[38;5;241m.\u001b[39misalpha() \u001b[38;5;129;01mand\u001b[39;00m \u001b[43mstr_second\u001b[49m\u001b[38;5;241;43m.\u001b[39;49m\u001b[43misnum\u001b[49m()\n",
      "\u001b[1;31mAttributeError\u001b[0m: 'str' object has no attribute 'isnum'"
     ]
    }
   ],
   "source": [
    "str_first='Muskan'\n",
    "str_second=\"234\"\n",
    "str_first.isalpha() and str_second.isnum()"
   ]
  },
  {
   "cell_type": "code",
   "execution_count": 59,
   "id": "e6843863",
   "metadata": {},
   "outputs": [
    {
     "ename": "NameError",
     "evalue": "name 'str_first' is not defined",
     "output_type": "error",
     "traceback": [
      "\u001b[1;31m---------------------------------------------------------------------------\u001b[0m",
      "\u001b[1;31mNameError\u001b[0m                                 Traceback (most recent call last)",
      "Input \u001b[1;32mIn [59]\u001b[0m, in \u001b[0;36m<cell line: 1>\u001b[1;34m()\u001b[0m\n\u001b[1;32m----> 1\u001b[0m \u001b[43mstr_first\u001b[49m\u001b[38;5;241m.\u001b[39misAlpha() \u001b[38;5;129;01mor\u001b[39;00m str_second\u001b[38;5;241m.\u001b[39misnum()\n",
      "\u001b[1;31mNameError\u001b[0m: name 'str_first' is not defined"
     ]
    }
   ],
   "source": [
    "str_first.isAlpha() or str_second.isnum()"
   ]
  },
  {
   "cell_type": "code",
   "execution_count": 64,
   "id": "6824cce2",
   "metadata": {},
   "outputs": [
    {
     "data": {
      "text/plain": [
       "dict"
      ]
     },
     "execution_count": 64,
     "metadata": {},
     "output_type": "execute_result"
    }
   ],
   "source": [
    "type({})"
   ]
  },
  {
   "cell_type": "code",
   "execution_count": 65,
   "id": "01319482",
   "metadata": {},
   "outputs": [
    {
     "data": {
      "text/plain": [
       "list"
      ]
     },
     "execution_count": 65,
     "metadata": {},
     "output_type": "execute_result"
    }
   ],
   "source": [
    "type([])"
   ]
  },
  {
   "cell_type": "code",
   "execution_count": 66,
   "id": "a432d46b",
   "metadata": {},
   "outputs": [
    {
     "ename": "SyntaxError",
     "evalue": "invalid syntax (1763399192.py, line 1)",
     "output_type": "error",
     "traceback": [
      "\u001b[1;36m  Input \u001b[1;32mIn [66]\u001b[1;36m\u001b[0m\n\u001b[1;33m    type(<>)\u001b[0m\n\u001b[1;37m         ^\u001b[0m\n\u001b[1;31mSyntaxError\u001b[0m\u001b[1;31m:\u001b[0m invalid syntax\n"
     ]
    }
   ],
   "source": [
    "type(<>)"
   ]
  },
  {
   "cell_type": "code",
   "execution_count": 67,
   "id": "85303e78",
   "metadata": {},
   "outputs": [
    {
     "data": {
      "text/plain": [
       "list"
      ]
     },
     "execution_count": 67,
     "metadata": {},
     "output_type": "execute_result"
    }
   ],
   "source": [
    "list_example=[]\n",
    "type(list_example)"
   ]
  },
  {
   "cell_type": "code",
   "execution_count": 76,
   "id": "c421d6ce",
   "metadata": {},
   "outputs": [],
   "source": [
    "list_exp=[1,2,3,4,'exm','puja',89.09,True]\n",
    "type(list_exp)\n",
    "len(list_exp)\n",
    "list_exp.append('Mus')"
   ]
  },
  {
   "cell_type": "code",
   "execution_count": 77,
   "id": "29a480a2",
   "metadata": {},
   "outputs": [],
   "source": [
    "list_exp.append('Mus')"
   ]
  },
  {
   "cell_type": "code",
   "execution_count": 78,
   "id": "f07ed526",
   "metadata": {},
   "outputs": [],
   "source": [
    "list_exp.append(9)"
   ]
  },
  {
   "cell_type": "code",
   "execution_count": 79,
   "id": "237f9855",
   "metadata": {},
   "outputs": [],
   "source": [
    "list_exp=[1,2,3,4,'exm','puja',89.09,True]\n",
    "list_exp.append(\"Muskan\")"
   ]
  },
  {
   "cell_type": "code",
   "execution_count": 80,
   "id": "939f8ef8",
   "metadata": {},
   "outputs": [
    {
     "data": {
      "text/plain": [
       "'puja'"
      ]
     },
     "execution_count": 80,
     "metadata": {},
     "output_type": "execute_result"
    }
   ],
   "source": [
    "##Indexing in list\n",
    "list_exp[5]"
   ]
  },
  {
   "cell_type": "code",
   "execution_count": 81,
   "id": "aa878d8a",
   "metadata": {},
   "outputs": [
    {
     "data": {
      "text/plain": [
       "[1, 2, 3, 4, 'exm', 'puja', 89.09, True, 'Muskan']"
      ]
     },
     "execution_count": 81,
     "metadata": {},
     "output_type": "execute_result"
    }
   ],
   "source": [
    "list_exp[:]"
   ]
  },
  {
   "cell_type": "code",
   "execution_count": 82,
   "id": "fa02524f",
   "metadata": {},
   "outputs": [
    {
     "data": {
      "text/plain": [
       "[2, 3, 4, 'exm', 'puja', 89.09, True, 'Muskan']"
      ]
     },
     "execution_count": 82,
     "metadata": {},
     "output_type": "execute_result"
    }
   ],
   "source": [
    "list_exp[1:]"
   ]
  },
  {
   "cell_type": "code",
   "execution_count": 83,
   "id": "95b6d788",
   "metadata": {},
   "outputs": [
    {
     "data": {
      "text/plain": [
       "[3, 4, 'exm', 'puja', 89.09, True, 'Muskan']"
      ]
     },
     "execution_count": 83,
     "metadata": {},
     "output_type": "execute_result"
    }
   ],
   "source": [
    "list_exp[2:]"
   ]
  },
  {
   "cell_type": "code",
   "execution_count": 84,
   "id": "058a9a6b",
   "metadata": {},
   "outputs": [
    {
     "data": {
      "text/plain": [
       "[1]"
      ]
     },
     "execution_count": 84,
     "metadata": {},
     "output_type": "execute_result"
    }
   ],
   "source": [
    "list_exp[:1]"
   ]
  },
  {
   "cell_type": "code",
   "execution_count": 90,
   "id": "fb9e869d",
   "metadata": {},
   "outputs": [],
   "source": [
    "list_exp[2:7]\n",
    "list_exp.insert(1,\"Tue\")"
   ]
  },
  {
   "cell_type": "code",
   "execution_count": 87,
   "id": "578d7bdd",
   "metadata": {},
   "outputs": [],
   "source": [
    "##Nested List\n",
    "list_exp.append([\"bala\",767,897.09])\n",
    "##output  will be like list_exp=[1,2,3,4,'exm','puja',89.09,True.'Muskan',[\"bala\",767,897.09]] "
   ]
  },
  {
   "cell_type": "code",
   "execution_count": null,
   "id": "d3babecd",
   "metadata": {},
   "outputs": [],
   "source": [
    "##insert function\n",
    "## to add specific element in list at the particular position"
   ]
  },
  {
   "cell_type": "code",
   "execution_count": 92,
   "id": "aa699a48",
   "metadata": {},
   "outputs": [],
   "source": [
    "list_exp.insert(1,\"tue\")\n"
   ]
  },
  {
   "cell_type": "code",
   "execution_count": 91,
   "id": "3c8cf835",
   "metadata": {},
   "outputs": [
    {
     "data": {
      "text/plain": [
       "[1,\n",
       " 'Tue',\n",
       " 'Tue',\n",
       " 'tue',\n",
       " 2,\n",
       " 3,\n",
       " 4,\n",
       " 'exm',\n",
       " 'puja',\n",
       " 89.09,\n",
       " True,\n",
       " 'Muskan',\n",
       " ['bala', 767, 897.09]]"
      ]
     },
     "execution_count": 91,
     "metadata": {},
     "output_type": "execute_result"
    }
   ],
   "source": [
    "list_exp"
   ]
  },
  {
   "cell_type": "code",
   "execution_count": 93,
   "id": "f4dc47c6",
   "metadata": {},
   "outputs": [],
   "source": [
    "lst=[1,2,3,4,5]\n",
    "lst.extend([6,7,8])"
   ]
  },
  {
   "cell_type": "code",
   "execution_count": 94,
   "id": "33f92f5b",
   "metadata": {},
   "outputs": [
    {
     "data": {
      "text/plain": [
       "[1, 2, 3, 4, 5, 6, 7, 8]"
      ]
     },
     "execution_count": 94,
     "metadata": {},
     "output_type": "execute_result"
    }
   ],
   "source": [
    "lst"
   ]
  },
  {
   "cell_type": "code",
   "execution_count": null,
   "id": "b88b3503",
   "metadata": {},
   "outputs": [],
   "source": [
    "##various operations that can be performed in List "
   ]
  },
  {
   "cell_type": "code",
   "execution_count": 95,
   "id": "65b06211",
   "metadata": {},
   "outputs": [
    {
     "data": {
      "text/plain": [
       "36"
      ]
     },
     "execution_count": 95,
     "metadata": {},
     "output_type": "execute_result"
    }
   ],
   "source": [
    "sum(lst)"
   ]
  },
  {
   "cell_type": "code",
   "execution_count": 96,
   "id": "8885b9c2",
   "metadata": {},
   "outputs": [
    {
     "data": {
      "text/plain": [
       "8"
      ]
     },
     "execution_count": 96,
     "metadata": {},
     "output_type": "execute_result"
    }
   ],
   "source": [
    "lst.pop()"
   ]
  },
  {
   "cell_type": "code",
   "execution_count": 97,
   "id": "c0c1307d",
   "metadata": {},
   "outputs": [
    {
     "data": {
      "text/plain": [
       "3"
      ]
     },
     "execution_count": 97,
     "metadata": {},
     "output_type": "execute_result"
    }
   ],
   "source": [
    "lst.pop(2)"
   ]
  },
  {
   "cell_type": "code",
   "execution_count": 99,
   "id": "efdeefd9",
   "metadata": {},
   "outputs": [
    {
     "data": {
      "text/plain": [
       "[1, 2, 4, 5, 6, 7]"
      ]
     },
     "execution_count": 99,
     "metadata": {},
     "output_type": "execute_result"
    }
   ],
   "source": [
    "lst"
   ]
  },
  {
   "cell_type": "code",
   "execution_count": 101,
   "id": "883da6f7",
   "metadata": {},
   "outputs": [
    {
     "data": {
      "text/plain": [
       "1"
      ]
     },
     "execution_count": 101,
     "metadata": {},
     "output_type": "execute_result"
    }
   ],
   "source": [
    "lst.count(2)"
   ]
  },
  {
   "cell_type": "code",
   "execution_count": 102,
   "id": "7b36b2f4",
   "metadata": {},
   "outputs": [
    {
     "data": {
      "text/plain": [
       "6"
      ]
     },
     "execution_count": 102,
     "metadata": {},
     "output_type": "execute_result"
    }
   ],
   "source": [
    "len(lst)"
   ]
  },
  {
   "cell_type": "code",
   "execution_count": 104,
   "id": "1564a60e",
   "metadata": {},
   "outputs": [
    {
     "ename": "ValueError",
     "evalue": "1 is not in list",
     "output_type": "error",
     "traceback": [
      "\u001b[1;31m---------------------------------------------------------------------------\u001b[0m",
      "\u001b[1;31mValueError\u001b[0m                                Traceback (most recent call last)",
      "Input \u001b[1;32mIn [104]\u001b[0m, in \u001b[0;36m<cell line: 2>\u001b[1;34m()\u001b[0m\n\u001b[0;32m      1\u001b[0m \u001b[38;5;66;03m##index():returns the index of first occcurence.start and end index are not necessary parameters\u001b[39;00m\n\u001b[1;32m----> 2\u001b[0m \u001b[43mlst\u001b[49m\u001b[38;5;241;43m.\u001b[39;49m\u001b[43mindex\u001b[49m\u001b[43m(\u001b[49m\u001b[38;5;241;43m1\u001b[39;49m\u001b[43m,\u001b[49m\u001b[38;5;241;43m1\u001b[39;49m\u001b[43m,\u001b[49m\u001b[38;5;241;43m4\u001b[39;49m\u001b[43m)\u001b[49m\n",
      "\u001b[1;31mValueError\u001b[0m: 1 is not in list"
     ]
    }
   ],
   "source": [
    "##index():returns the index of first occcurence.start and end index are not necessary parameters\n",
    "lst.index(1,1,4)"
   ]
  },
  {
   "cell_type": "code",
   "execution_count": 105,
   "id": "dab526c1",
   "metadata": {},
   "outputs": [
    {
     "data": {
      "text/plain": [
       "2"
      ]
     },
     "execution_count": 105,
     "metadata": {},
     "output_type": "execute_result"
    }
   ],
   "source": [
    "lst.index(4)"
   ]
  },
  {
   "cell_type": "code",
   "execution_count": 106,
   "id": "ba58c4f6",
   "metadata": {},
   "outputs": [
    {
     "data": {
      "text/plain": [
       "2"
      ]
     },
     "execution_count": 106,
     "metadata": {},
     "output_type": "execute_result"
    }
   ],
   "source": [
    "lst.index(4,0,4)"
   ]
  },
  {
   "cell_type": "code",
   "execution_count": 107,
   "id": "90450cad",
   "metadata": {},
   "outputs": [
    {
     "data": {
      "text/plain": [
       "1"
      ]
     },
     "execution_count": 107,
     "metadata": {},
     "output_type": "execute_result"
    }
   ],
   "source": [
    "min(lst)"
   ]
  },
  {
   "cell_type": "code",
   "execution_count": 108,
   "id": "02971456",
   "metadata": {},
   "outputs": [
    {
     "data": {
      "text/plain": [
       "7"
      ]
     },
     "execution_count": 108,
     "metadata": {},
     "output_type": "execute_result"
    }
   ],
   "source": [
    "max(lst)"
   ]
  },
  {
   "cell_type": "code",
   "execution_count": 109,
   "id": "094ea4b5",
   "metadata": {},
   "outputs": [
    {
     "data": {
      "text/plain": [
       "[1, 2, 4, 5, 6, 7, 1, 2, 4, 5, 6, 7]"
      ]
     },
     "execution_count": 109,
     "metadata": {},
     "output_type": "execute_result"
    }
   ],
   "source": [
    "lst*2\n",
    "##whole list will get appended twice"
   ]
  },
  {
   "cell_type": "code",
   "execution_count": null,
   "id": "4bdeba27",
   "metadata": {},
   "outputs": [],
   "source": [
    "##Sets"
   ]
  },
  {
   "cell_type": "code",
   "execution_count": null,
   "id": "f348455f",
   "metadata": {},
   "outputs": [],
   "source": [
    "##A set is an unordered collection od datatype that is iterable, mutable and has no duplicate elements.\n",
    "##Python's set class represents  the mathematical notations of set.\n",
    "## this is based on data structure knowns as HASH table"
   ]
  },
  {
   "cell_type": "code",
   "execution_count": 111,
   "id": "28b319e8",
   "metadata": {},
   "outputs": [
    {
     "name": "stdout",
     "output_type": "stream",
     "text": [
      "set()\n",
      "<class 'set'>\n"
     ]
    }
   ],
   "source": [
    "## defining an empty set\n",
    "set_var=set()\n",
    "print(set_var)\n",
    "print(type(set_var))"
   ]
  },
  {
   "cell_type": "code",
   "execution_count": 112,
   "id": "a4f9bb01",
   "metadata": {},
   "outputs": [],
   "source": [
    "set_var={1,2,3,4,3}"
   ]
  },
  {
   "cell_type": "code",
   "execution_count": 113,
   "id": "26ba20c4",
   "metadata": {},
   "outputs": [
    {
     "data": {
      "text/plain": [
       "{1, 2, 3, 4}"
      ]
     },
     "execution_count": 113,
     "metadata": {},
     "output_type": "execute_result"
    }
   ],
   "source": [
    "set_var"
   ]
  },
  {
   "cell_type": "code",
   "execution_count": 117,
   "id": "243d164d",
   "metadata": {},
   "outputs": [
    {
     "name": "stdout",
     "output_type": "stream",
     "text": [
      "{'thanos', 'avengers', 'thor', 'ironman'}\n"
     ]
    },
    {
     "data": {
      "text/plain": [
       "set"
      ]
     },
     "execution_count": 117,
     "metadata": {},
     "output_type": "execute_result"
    }
   ],
   "source": [
    "set_var={\"ironman\",\"thor\",\"avengers\",\"thanos\"}\n",
    "print(set_var)\n",
    "type(set_var)"
   ]
  },
  {
   "cell_type": "code",
   "execution_count": 118,
   "id": "e4bfbe1f",
   "metadata": {},
   "outputs": [
    {
     "ename": "TypeError",
     "evalue": "'set' object is not subscriptable",
     "output_type": "error",
     "traceback": [
      "\u001b[1;31m---------------------------------------------------------------------------\u001b[0m",
      "\u001b[1;31mTypeError\u001b[0m                                 Traceback (most recent call last)",
      "Input \u001b[1;32mIn [118]\u001b[0m, in \u001b[0;36m<cell line: 3>\u001b[1;34m()\u001b[0m\n\u001b[0;32m      1\u001b[0m \u001b[38;5;66;03m##inbuilt functions\u001b[39;00m\n\u001b[0;32m      2\u001b[0m \u001b[38;5;66;03m##indexing=sets does not support indexing\u001b[39;00m\n\u001b[1;32m----> 3\u001b[0m \u001b[43mset_var\u001b[49m\u001b[43m[\u001b[49m\u001b[38;5;241;43m0\u001b[39;49m\u001b[43m]\u001b[49m\n",
      "\u001b[1;31mTypeError\u001b[0m: 'set' object is not subscriptable"
     ]
    }
   ],
   "source": [
    "##inbuilt functions\n",
    "##indexing=sets does not support indexing\n",
    "set_var[0]"
   ]
  },
  {
   "cell_type": "code",
   "execution_count": 119,
   "id": "1686007d",
   "metadata": {},
   "outputs": [
    {
     "data": {
      "text/plain": [
       "{'avengers', 'hULK', 'ironman', 'thanos', 'thor'}"
      ]
     },
     "execution_count": 119,
     "metadata": {},
     "output_type": "execute_result"
    }
   ],
   "source": [
    "##add()\n",
    "set_var.add('hULK')\n",
    "set_var"
   ]
  },
  {
   "cell_type": "code",
   "execution_count": 128,
   "id": "a8ccc92c",
   "metadata": {},
   "outputs": [],
   "source": [
    "set1={'Ironman','Thor','captainamerica'}\n",
    "set2={'Ironman','Thor','groot','captainamerica'}"
   ]
  },
  {
   "cell_type": "code",
   "execution_count": 137,
   "id": "083d4337",
   "metadata": {},
   "outputs": [
    {
     "data": {
      "text/plain": [
       "set()"
      ]
     },
     "execution_count": 137,
     "metadata": {},
     "output_type": "execute_result"
    }
   ],
   "source": [
    "set2.intersection(set1)"
   ]
  },
  {
   "cell_type": "code",
   "execution_count": 132,
   "id": "053d588f",
   "metadata": {},
   "outputs": [
    {
     "data": {
      "text/plain": [
       "{'Ironman', 'captainamerica'}"
      ]
     },
     "execution_count": 132,
     "metadata": {},
     "output_type": "execute_result"
    }
   ],
   "source": [
    "##Difference\n",
    "set2.difference(set1)\n",
    "set1.difference(set2)"
   ]
  },
  {
   "cell_type": "code",
   "execution_count": 130,
   "id": "3b97c4ec",
   "metadata": {},
   "outputs": [
    {
     "data": {
      "text/plain": [
       "set"
      ]
     },
     "execution_count": 130,
     "metadata": {},
     "output_type": "execute_result"
    }
   ],
   "source": [
    "set2={'groot','galaxy','Thor','Iron man','Hulk'}\n",
    "type(set2)"
   ]
  },
  {
   "cell_type": "code",
   "execution_count": 131,
   "id": "c9e80e18",
   "metadata": {},
   "outputs": [
    {
     "ename": "NameError",
     "evalue": "name 'IronMan' is not defined",
     "output_type": "error",
     "traceback": [
      "\u001b[1;31m---------------------------------------------------------------------------\u001b[0m",
      "\u001b[1;31mNameError\u001b[0m                                 Traceback (most recent call last)",
      "Input \u001b[1;32mIn [131]\u001b[0m, in \u001b[0;36m<cell line: 1>\u001b[1;34m()\u001b[0m\n\u001b[1;32m----> 1\u001b[0m set1\u001b[38;5;241m=\u001b[39m{\u001b[38;5;124m'\u001b[39m\u001b[38;5;124mAvengers\u001b[39m\u001b[38;5;124m'\u001b[39m,\u001b[43mIronMan\u001b[49m}\n",
      "\u001b[1;31mNameError\u001b[0m: name 'IronMan' is not defined"
     ]
    }
   ],
   "source": [
    "set1={'Avengers',IronMan}"
   ]
  },
  {
   "cell_type": "code",
   "execution_count": 138,
   "id": "da86e3d7",
   "metadata": {},
   "outputs": [
    {
     "data": {
      "text/plain": [
       "{'Hulk', 'Iron man', 'galaxy', 'groot'}"
      ]
     },
     "execution_count": 138,
     "metadata": {},
     "output_type": "execute_result"
    }
   ],
   "source": [
    "set2.difference_update(set1)\n",
    "set2"
   ]
  },
  {
   "cell_type": "code",
   "execution_count": null,
   "id": "f64e26b9",
   "metadata": {},
   "outputs": [],
   "source": [
    "##Dictionary\n",
    "##Collection of data that is unordered, indexed and changeable\n",
    "##In python dictionaries are written with curly brackets\n",
    "##have key & value "
   ]
  },
  {
   "cell_type": "code",
   "execution_count": 140,
   "id": "306e92ae",
   "metadata": {},
   "outputs": [
    {
     "data": {
      "text/plain": [
       "dict"
      ]
     },
     "execution_count": 140,
     "metadata": {},
     "output_type": "execute_result"
    }
   ],
   "source": [
    "dic={}\n",
    "type(dic)"
   ]
  },
  {
   "cell_type": "code",
   "execution_count": 141,
   "id": "a03b1d36",
   "metadata": {},
   "outputs": [
    {
     "data": {
      "text/plain": [
       "dict"
      ]
     },
     "execution_count": 141,
     "metadata": {},
     "output_type": "execute_result"
    }
   ],
   "source": [
    "set={}\n",
    "type(set)\n"
   ]
  },
  {
   "cell_type": "code",
   "execution_count": 143,
   "id": "c2934e3b",
   "metadata": {},
   "outputs": [
    {
     "ename": "SyntaxError",
     "evalue": "invalid syntax (922675012.py, line 2)",
     "output_type": "error",
     "traceback": [
      "\u001b[1;36m  Input \u001b[1;32mIn [143]\u001b[1;36m\u001b[0m\n\u001b[1;33m    type(dic).\u001b[0m\n\u001b[1;37m              ^\u001b[0m\n\u001b[1;31mSyntaxError\u001b[0m\u001b[1;31m:\u001b[0m invalid syntax\n"
     ]
    }
   ],
   "source": [
    "dic={1,2,3,4}\n",
    "type(dic).\n",
    "type(dict())"
   ]
  },
  {
   "cell_type": "code",
   "execution_count": 144,
   "id": "dc229620",
   "metadata": {},
   "outputs": [
    {
     "data": {
      "text/plain": [
       "dict"
      ]
     },
     "execution_count": 144,
     "metadata": {},
     "output_type": "execute_result"
    }
   ],
   "source": [
    "type(dict())##dict is an inbuilt function to create dictionary\n",
    "##dict()-this will create an empty dictionary"
   ]
  },
  {
   "cell_type": "code",
   "execution_count": 146,
   "id": "ab1b0331",
   "metadata": {},
   "outputs": [
    {
     "data": {
      "text/plain": [
       "'Audi'"
      ]
     },
     "execution_count": 146,
     "metadata": {},
     "output_type": "execute_result"
    }
   ],
   "source": [
    "##manually creatring dictionary\n",
    "my_dict={\"car1\":\"Audi\",\"car2\":\"BMW\",\"car3\":\"Mercidies benz\"}\n",
    "## in dic indexing number is key name not the count\n",
    "my_dict[\"car1\"]"
   ]
  },
  {
   "cell_type": "code",
   "execution_count": 149,
   "id": "0c4a337a",
   "metadata": {},
   "outputs": [
    {
     "name": "stdout",
     "output_type": "stream",
     "text": [
      "car1\n",
      "car2\n",
      "car3\n"
     ]
    }
   ],
   "source": [
    "## we can even loop through dict keys\n",
    "for a in my_dict:\n",
    "    print(a)"
   ]
  },
  {
   "cell_type": "code",
   "execution_count": 151,
   "id": "2911e4d2",
   "metadata": {},
   "outputs": [
    {
     "name": "stdout",
     "output_type": "stream",
     "text": [
      "Audi\n",
      "BMW\n",
      "Mercidies benz\n"
     ]
    }
   ],
   "source": [
    "## we can loop through the values also\n",
    "for a in my_dict.values():\n",
    "    print(a)"
   ]
  },
  {
   "cell_type": "code",
   "execution_count": 152,
   "id": "383307b0",
   "metadata": {},
   "outputs": [
    {
     "name": "stdout",
     "output_type": "stream",
     "text": [
      "('car1', 'Audi')\n",
      "('car2', 'BMW')\n",
      "('car3', 'Mercidies benz')\n"
     ]
    }
   ],
   "source": [
    "##we van loop through both key and values\n",
    "for a in my_dict.items():\n",
    "    print(a)"
   ]
  },
  {
   "cell_type": "code",
   "execution_count": 153,
   "id": "318c4bba",
   "metadata": {},
   "outputs": [],
   "source": [
    "##adding items in dict\n",
    "my_dict[\"card4\"]=\"Audi 2.0\""
   ]
  },
  {
   "cell_type": "code",
   "execution_count": 154,
   "id": "3f273521",
   "metadata": {},
   "outputs": [
    {
     "name": "stdout",
     "output_type": "stream",
     "text": [
      "{'car1': 'Audi', 'car2': 'BMW', 'car3': 'Mercidies benz', 'card4': 'Audi 2.0'}\n"
     ]
    }
   ],
   "source": [
    "print(my_dict)"
   ]
  },
  {
   "cell_type": "code",
   "execution_count": 156,
   "id": "3f7801b3",
   "metadata": {},
   "outputs": [
    {
     "name": "stdout",
     "output_type": "stream",
     "text": [
      "{'car1': 'Audi', 'car2': 'BMW', 'car3': 'Mercidies benz', 'card4': 'Audi 2.0', 'card1': 'Muskan'}\n",
      "{'car1': 'Muskan', 'car2': 'BMW', 'car3': 'Mercidies benz', 'card4': 'Audi 2.0', 'card1': 'Muskan'}\n"
     ]
    }
   ],
   "source": [
    "##overriddde any item in dict\n",
    "my_dict[\"card1\"]=\"Muskan\"\n",
    "print(my_dict)\n",
    "my_dict[\"car1\"]=\"Muskan\"\n",
    "print(my_dict)"
   ]
  },
  {
   "cell_type": "code",
   "execution_count": null,
   "id": "be6fbebe",
   "metadata": {},
   "outputs": [],
   "source": [
    "##Nested Dictionary"
   ]
  },
  {
   "cell_type": "code",
   "execution_count": 157,
   "id": "8636625d",
   "metadata": {},
   "outputs": [
    {
     "name": "stdout",
     "output_type": "stream",
     "text": [
      "{'car1': {'mercedez': 1970}, 'car2': {'Audi': 1980}, 'car3': {'BMW': 1990}}\n"
     ]
    }
   ],
   "source": [
    "car1_model={\"mercedez\":1970}\n",
    "car2_model={\"Audi\":1980}\n",
    "car3_model={\"BMW\":1990}\n",
    "car_type={\"car1\":car1_model,\"car2\":car2_model,\"car3\":car3_model}\n",
    "print(car_type)"
   ]
  },
  {
   "cell_type": "code",
   "execution_count": 158,
   "id": "98235d84",
   "metadata": {},
   "outputs": [
    {
     "name": "stdout",
     "output_type": "stream",
     "text": [
      "{'mercedez': 1970}\n"
     ]
    }
   ],
   "source": [
    "##accessing the items in the dictionary\n",
    "print(car_type[\"car1\"])"
   ]
  },
  {
   "cell_type": "code",
   "execution_count": 162,
   "id": "9a2cbdfb",
   "metadata": {},
   "outputs": [
    {
     "ename": "KeyError",
     "evalue": "1980",
     "output_type": "error",
     "traceback": [
      "\u001b[1;31m---------------------------------------------------------------------------\u001b[0m",
      "\u001b[1;31mKeyError\u001b[0m                                  Traceback (most recent call last)",
      "Input \u001b[1;32mIn [162]\u001b[0m, in \u001b[0;36m<cell line: 1>\u001b[1;34m()\u001b[0m\n\u001b[1;32m----> 1\u001b[0m \u001b[38;5;28mprint\u001b[39m(\u001b[43mcar_type\u001b[49m\u001b[43m[\u001b[49m\u001b[38;5;124;43m\"\u001b[39;49m\u001b[38;5;124;43mcar2\u001b[39;49m\u001b[38;5;124;43m\"\u001b[39;49m\u001b[43m]\u001b[49m\u001b[43m[\u001b[49m\u001b[38;5;241;43m1980\u001b[39;49m\u001b[43m]\u001b[49m)\n",
      "\u001b[1;31mKeyError\u001b[0m: 1980"
     ]
    }
   ],
   "source": [
    "print(car_type[\"car2\"][1980])"
   ]
  },
  {
   "cell_type": "code",
   "execution_count": 164,
   "id": "11486847",
   "metadata": {},
   "outputs": [
    {
     "name": "stdout",
     "output_type": "stream",
     "text": [
      "dict_values([{'mercedez': 1970}, {'Audi': 1980}, {'BMW': 1990}])\n"
     ]
    }
   ],
   "source": [
    "print(car_type.values())"
   ]
  },
  {
   "cell_type": "code",
   "execution_count": 167,
   "id": "30a30ecb",
   "metadata": {},
   "outputs": [
    {
     "ename": "TypeError",
     "evalue": "type() takes 1 or 3 arguments",
     "output_type": "error",
     "traceback": [
      "\u001b[1;31m---------------------------------------------------------------------------\u001b[0m",
      "\u001b[1;31mTypeError\u001b[0m                                 Traceback (most recent call last)",
      "Input \u001b[1;32mIn [167]\u001b[0m, in \u001b[0;36m<cell line: 1>\u001b[1;34m()\u001b[0m\n\u001b[1;32m----> 1\u001b[0m \u001b[38;5;28mprint\u001b[39m(\u001b[38;5;28;43mtype\u001b[39;49m\u001b[43m(\u001b[49m\u001b[38;5;241;43m1\u001b[39;49m\u001b[43m,\u001b[49m\u001b[38;5;241;43m3\u001b[39;49m\u001b[43m)\u001b[49m)\n",
      "\u001b[1;31mTypeError\u001b[0m: type() takes 1 or 3 arguments"
     ]
    }
   ],
   "source": [
    "print(type(1,3))"
   ]
  },
  {
   "cell_type": "code",
   "execution_count": 168,
   "id": "946d3486",
   "metadata": {},
   "outputs": [
    {
     "data": {
      "text/plain": [
       "tuple"
      ]
     },
     "execution_count": 168,
     "metadata": {},
     "output_type": "execute_result"
    }
   ],
   "source": [
    "type(())"
   ]
  },
  {
   "cell_type": "code",
   "execution_count": 169,
   "id": "fb167c73",
   "metadata": {},
   "outputs": [
    {
     "data": {
      "text/plain": [
       "tuple"
      ]
     },
     "execution_count": 169,
     "metadata": {},
     "output_type": "execute_result"
    }
   ],
   "source": [
    "type((1,2))"
   ]
  },
  {
   "cell_type": "code",
   "execution_count": 170,
   "id": "29d44b81",
   "metadata": {},
   "outputs": [
    {
     "data": {
      "text/plain": [
       "set"
      ]
     },
     "execution_count": 170,
     "metadata": {},
     "output_type": "execute_result"
    }
   ],
   "source": [
    "type({1,2})"
   ]
  },
  {
   "cell_type": "code",
   "execution_count": 171,
   "id": "19c6602c",
   "metadata": {},
   "outputs": [
    {
     "data": {
      "text/plain": [
       "dict"
      ]
     },
     "execution_count": 171,
     "metadata": {},
     "output_type": "execute_result"
    }
   ],
   "source": [
    "type({\"car1\":\"audi\"})"
   ]
  },
  {
   "cell_type": "code",
   "execution_count": 172,
   "id": "2967e720",
   "metadata": {},
   "outputs": [],
   "source": [
    "##Tuples\n",
    "##create empty tuple\n",
    "my_tuple=tuple()"
   ]
  },
  {
   "cell_type": "code",
   "execution_count": 173,
   "id": "78cd1abd",
   "metadata": {},
   "outputs": [
    {
     "data": {
      "text/plain": [
       "tuple"
      ]
     },
     "execution_count": 173,
     "metadata": {},
     "output_type": "execute_result"
    }
   ],
   "source": [
    "type(my_tuple)"
   ]
  },
  {
   "cell_type": "code",
   "execution_count": 175,
   "id": "e7d5030a",
   "metadata": {},
   "outputs": [
    {
     "name": "stdout",
     "output_type": "stream",
     "text": [
      "('Muskan', 'Shovinam', 'Anurag')\n"
     ]
    }
   ],
   "source": [
    "my_tuple=(\"Muskan\",\"Shovinam\",\"Anurag\")\n",
    "print(my_tuple)"
   ]
  },
  {
   "cell_type": "code",
   "execution_count": 176,
   "id": "94ed96c6",
   "metadata": {},
   "outputs": [
    {
     "data": {
      "text/plain": [
       "'Muskan'"
      ]
     },
     "execution_count": 176,
     "metadata": {},
     "output_type": "execute_result"
    }
   ],
   "source": [
    "my_tuple[0]"
   ]
  },
  {
   "cell_type": "code",
   "execution_count": 177,
   "id": "d430b63f",
   "metadata": {},
   "outputs": [
    {
     "name": "stdout",
     "output_type": "stream",
     "text": [
      "<class 'tuple'>\n"
     ]
    }
   ],
   "source": [
    "print(type(my_tuple))"
   ]
  },
  {
   "cell_type": "code",
   "execution_count": 178,
   "id": "be1f2fed",
   "metadata": {},
   "outputs": [
    {
     "ename": "TypeError",
     "evalue": "'tuple' object does not support item assignment",
     "output_type": "error",
     "traceback": [
      "\u001b[1;31m---------------------------------------------------------------------------\u001b[0m",
      "\u001b[1;31mTypeError\u001b[0m                                 Traceback (most recent call last)",
      "Input \u001b[1;32mIn [178]\u001b[0m, in \u001b[0;36m<cell line: 1>\u001b[1;34m()\u001b[0m\n\u001b[1;32m----> 1\u001b[0m my_tuple[\u001b[38;5;241m1\u001b[39m]\u001b[38;5;241m=\u001b[39m\u001b[38;5;124m\"\u001b[39m\u001b[38;5;124mSinha\u001b[39m\u001b[38;5;124m\"\u001b[39m\n",
      "\u001b[1;31mTypeError\u001b[0m: 'tuple' object does not support item assignment"
     ]
    }
   ],
   "source": [
    "my_tuple[1]=\"Sinha\""
   ]
  },
  {
   "cell_type": "code",
   "execution_count": 179,
   "id": "543d24f7",
   "metadata": {},
   "outputs": [
    {
     "data": {
      "text/plain": [
       "1"
      ]
     },
     "execution_count": 179,
     "metadata": {},
     "output_type": "execute_result"
    }
   ],
   "source": [
    "my_tuple.count(\"Muskan\")"
   ]
  },
  {
   "cell_type": "code",
   "execution_count": 182,
   "id": "f967c749",
   "metadata": {},
   "outputs": [
    {
     "ename": "TypeError",
     "evalue": "'builtin_function_or_method' object is not subscriptable",
     "output_type": "error",
     "traceback": [
      "\u001b[1;31m---------------------------------------------------------------------------\u001b[0m",
      "\u001b[1;31mTypeError\u001b[0m                                 Traceback (most recent call last)",
      "Input \u001b[1;32mIn [182]\u001b[0m, in \u001b[0;36m<cell line: 1>\u001b[1;34m()\u001b[0m\n\u001b[1;32m----> 1\u001b[0m \u001b[43mmy_tuple\u001b[49m\u001b[38;5;241;43m.\u001b[39;49m\u001b[43mindex\u001b[49m\u001b[43m[\u001b[49m\u001b[38;5;124;43m\"\u001b[39;49m\u001b[38;5;124;43mMuskan\u001b[39;49m\u001b[38;5;124;43m\"\u001b[39;49m\u001b[43m]\u001b[49m\n",
      "\u001b[1;31mTypeError\u001b[0m: 'builtin_function_or_method' object is not subscriptable"
     ]
    }
   ],
   "source": [
    "my_tuple.index[\"Muskan\"]"
   ]
  },
  {
   "cell_type": "code",
   "execution_count": 183,
   "id": "aa1395d3",
   "metadata": {},
   "outputs": [
    {
     "data": {
      "text/plain": [
       "0"
      ]
     },
     "execution_count": 183,
     "metadata": {},
     "output_type": "execute_result"
    }
   ],
   "source": [
    "my_tuple.index(\"Muskan\")"
   ]
  },
  {
   "cell_type": "code",
   "execution_count": 184,
   "id": "033ef408",
   "metadata": {},
   "outputs": [
    {
     "name": "stdout",
     "output_type": "stream",
     "text": [
      "type os a is:  <class 'int'>\n"
     ]
    }
   ],
   "source": [
    "a=5\n",
    "print(\"type os a is: \",type(a))"
   ]
  },
  {
   "cell_type": "code",
   "execution_count": 185,
   "id": "23df4ec5",
   "metadata": {},
   "outputs": [
    {
     "name": "stdout",
     "output_type": "stream",
     "text": [
      "Type of a is : <class 'float'>\n"
     ]
    }
   ],
   "source": [
    "a=45.55\n",
    "print(\"Type of a is :\",type(a))"
   ]
  },
  {
   "cell_type": "code",
   "execution_count": 186,
   "id": "0c2bb041",
   "metadata": {},
   "outputs": [
    {
     "name": "stdout",
     "output_type": "stream",
     "text": [
      "Type of a is : <class 'complex'>\n"
     ]
    }
   ],
   "source": [
    "a=-2+3j\n",
    "print(\"Type of a is :\",type(a))"
   ]
  },
  {
   "cell_type": "code",
   "execution_count": 188,
   "id": "cbcdb8f7",
   "metadata": {},
   "outputs": [
    {
     "ename": "SyntaxError",
     "evalue": "invalid syntax (131299813.py, line 4)",
     "output_type": "error",
     "traceback": [
      "\u001b[1;36m  Input \u001b[1;32mIn [188]\u001b[1;36m\u001b[0m\n\u001b[1;33m    print(\"\\n\"str1,type(str1))\u001b[0m\n\u001b[1;37m              ^\u001b[0m\n\u001b[1;31mSyntaxError\u001b[0m\u001b[1;31m:\u001b[0m invalid syntax\n"
     ]
    }
   ],
   "source": [
    "str1='''Muskan\n",
    "Sinha\n",
    "Meena'''\n",
    "print(\"\\n\"str1,type(str1))\n",
    "      "
   ]
  },
  {
   "cell_type": "code",
   "execution_count": 189,
   "id": "8f2795be",
   "metadata": {},
   "outputs": [
    {
     "name": "stdout",
     "output_type": "stream",
     "text": [
      "\n",
      "Creating a multiline String: \n",
      "Geeks \n",
      "            For \n",
      "            Life\n"
     ]
    }
   ],
   "source": [
    "String1 = '''Geeks \n",
    "            For \n",
    "            Life'''\n",
    "print(\"\\nCreating a multiline String: \") \n",
    "print(String1) "
   ]
  },
  {
   "cell_type": "code",
   "execution_count": 192,
   "id": "270ff535",
   "metadata": {},
   "outputs": [
    {
     "name": "stdout",
     "output_type": "stream",
     "text": [
      "first character of the string   \n",
      "Last character of the string  s\n"
     ]
    }
   ],
   "source": [
    "string=\"Geeks for Geeks\"\n",
    "print(\"first character of the string \",string[5])\n",
    "print(\"Last character of the string \",string[-1])"
   ]
  },
  {
   "cell_type": "code",
   "execution_count": 193,
   "id": "277598b9",
   "metadata": {},
   "outputs": [
    {
     "name": "stdout",
     "output_type": "stream",
     "text": [
      "['MY name is Muskan']\n"
     ]
    }
   ],
   "source": [
    "##List with string\n",
    "List=[\"MY name is Muskan\"]\n",
    "print(List)"
   ]
  },
  {
   "cell_type": "code",
   "execution_count": 196,
   "id": "a2136082",
   "metadata": {},
   "outputs": [
    {
     "name": "stdout",
     "output_type": "stream",
     "text": [
      "['a', 'b', 'c']\n",
      "<class 'list'>\n",
      "a\n"
     ]
    }
   ],
   "source": [
    "##List with multiple string\n",
    "List=[\"a\",\"b\",\"c\"]\n",
    "print(List)\n",
    "print(type(List))\n",
    "print(List[0])"
   ]
  },
  {
   "cell_type": "code",
   "execution_count": 199,
   "id": "86197e88",
   "metadata": {},
   "outputs": [
    {
     "name": "stdout",
     "output_type": "stream",
     "text": [
      "[['Muskan'], ['Sinha', 'Shovinam']]\n",
      "<class 'list'>\n"
     ]
    }
   ],
   "source": [
    "##Nested List\n",
    "##or multidimensional list\n",
    "List=[[\"Muskan\"],[\"Sinha\",\"Shovinam\"]]\n",
    "print(List)\n",
    "print(type(List))"
   ]
  },
  {
   "cell_type": "code",
   "execution_count": 200,
   "id": "dc5b6f06",
   "metadata": {},
   "outputs": [
    {
     "name": "stdout",
     "output_type": "stream",
     "text": [
      "Muskan\n"
     ]
    }
   ],
   "source": [
    "##accessing list items\n",
    "List=[\"Geeks for Geeks\",\"Muskan\",5,6,78.99]\n",
    "print(List[1])"
   ]
  },
  {
   "cell_type": "code",
   "execution_count": 206,
   "id": "04df8076",
   "metadata": {},
   "outputs": [
    {
     "name": "stdout",
     "output_type": "stream",
     "text": [
      "6\n"
     ]
    },
    {
     "data": {
      "text/plain": [
       "1"
      ]
     },
     "execution_count": 206,
     "metadata": {},
     "output_type": "execute_result"
    }
   ],
   "source": [
    "print(List[-2])\n",
    "List.count(\"Muskan\")"
   ]
  },
  {
   "cell_type": "code",
   "execution_count": 207,
   "id": "41dbddb8",
   "metadata": {},
   "outputs": [
    {
     "name": "stdout",
     "output_type": "stream",
     "text": [
      "\n",
      "Tuple with the use of string :\n",
      "('a', 'b')\n"
     ]
    }
   ],
   "source": [
    "##Tuple using string\n",
    "tup=(\"a\",\"b\")\n",
    "print(\"\\nTuple with the use of string :\")\n",
    "print(tup)"
   ]
  },
  {
   "cell_type": "code",
   "execution_count": 208,
   "id": "7b2ce0f8",
   "metadata": {},
   "outputs": [
    {
     "name": "stdout",
     "output_type": "stream",
     "text": [
      "\n",
      "Tuple with the use of list :\n",
      "(1, 2, 3, 'Mus')\n"
     ]
    }
   ],
   "source": [
    "##Tuple with the use of List\n",
    "list_=[1,2,3,\"Mus\"]\n",
    "print(\"\\nTuple with the use of list :\")\n",
    "print(tuple(list_))"
   ]
  },
  {
   "cell_type": "code",
   "execution_count": 209,
   "id": "b881dc43",
   "metadata": {},
   "outputs": [
    {
     "name": "stdout",
     "output_type": "stream",
     "text": [
      "('G', 'e', 'e', 'k', 's')\n"
     ]
    }
   ],
   "source": [
    "##creating tuple with built in function tuple\n",
    "tup=tuple(\"Geeks\")\n",
    "print(tup)"
   ]
  },
  {
   "cell_type": "code",
   "execution_count": 210,
   "id": "4ee69d2a",
   "metadata": {},
   "outputs": [
    {
     "name": "stdout",
     "output_type": "stream",
     "text": [
      "((1, 2, 3, 'Musk'), (5, 4))\n"
     ]
    }
   ],
   "source": [
    "##Nested tuples\n",
    "tup1=(1,2,3,\"Musk\")\n",
    "tup2=(5,4)\n",
    "tup3=(tup1,tup2)\n",
    "print(tup3)\n"
   ]
  },
  {
   "cell_type": "code",
   "execution_count": 212,
   "id": "06d8b6bd",
   "metadata": {},
   "outputs": [
    {
     "name": "stdout",
     "output_type": "stream",
     "text": [
      "{1, 2, 34.87, 'Muska', 'Mus'}\n"
     ]
    }
   ],
   "source": [
    "##creating a set\n",
    "set1={\"Muska\",1,2,34.87,\"Mus\"}\n",
    "print(set1)"
   ]
  },
  {
   "cell_type": "code",
   "execution_count": 213,
   "id": "42249710",
   "metadata": {},
   "outputs": [
    {
     "ename": "SyntaxError",
     "evalue": "invalid syntax (1190519607.py, line 1)",
     "output_type": "error",
     "traceback": [
      "\u001b[1;36m  Input \u001b[1;32mIn [213]\u001b[1;36m\u001b[0m\n\u001b[1;33m    set1=set{\"musk\",1}\u001b[0m\n\u001b[1;37m            ^\u001b[0m\n\u001b[1;31mSyntaxError\u001b[0m\u001b[1;31m:\u001b[0m invalid syntax\n"
     ]
    }
   ],
   "source": [
    "set1=set{\"musk\",1}\n",
    "print(set1)"
   ]
  },
  {
   "cell_type": "code",
   "execution_count": 217,
   "id": "7704be9b",
   "metadata": {},
   "outputs": [
    {
     "ename": "TypeError",
     "evalue": "'dict' object is not callable",
     "output_type": "error",
     "traceback": [
      "\u001b[1;31m---------------------------------------------------------------------------\u001b[0m",
      "\u001b[1;31mTypeError\u001b[0m                                 Traceback (most recent call last)",
      "Input \u001b[1;32mIn [217]\u001b[0m, in \u001b[0;36m<cell line: 1>\u001b[1;34m()\u001b[0m\n\u001b[1;32m----> 1\u001b[0m set1 \u001b[38;5;241m=\u001b[39m \u001b[38;5;28;43mset\u001b[39;49m\u001b[43m(\u001b[49m\u001b[38;5;124;43m\"\u001b[39;49m\u001b[38;5;124;43mGeeksForGeeks\u001b[39;49m\u001b[38;5;124;43m\"\u001b[39;49m\u001b[43m,\u001b[49m\u001b[38;5;241;43m4\u001b[39;49m\u001b[43m)\u001b[49m\n\u001b[0;32m      2\u001b[0m \u001b[38;5;28mprint\u001b[39m(set1)\n",
      "\u001b[1;31mTypeError\u001b[0m: 'dict' object is not callable"
     ]
    }
   ],
   "source": [
    "set1 = set(\"GeeksForGeeks\",4)\n",
    "print(set1)"
   ]
  },
  {
   "cell_type": "code",
   "execution_count": null,
   "id": "3cd8f663",
   "metadata": {},
   "outputs": [],
   "source": []
  }
 ],
 "metadata": {
  "kernelspec": {
   "display_name": "Python 3 (ipykernel)",
   "language": "python",
   "name": "python3"
  },
  "language_info": {
   "codemirror_mode": {
    "name": "ipython",
    "version": 3
   },
   "file_extension": ".py",
   "mimetype": "text/x-python",
   "name": "python",
   "nbconvert_exporter": "python",
   "pygments_lexer": "ipython3",
   "version": "3.9.12"
  }
 },
 "nbformat": 4,
 "nbformat_minor": 5
}
