{
 "cells": [
  {
   "cell_type": "code",
   "execution_count": 1,
   "id": "c5be76b1",
   "metadata": {},
   "outputs": [],
   "source": [
    "def test(a,b):\n",
    "    print(a+b)"
   ]
  },
  {
   "cell_type": "code",
   "execution_count": 2,
   "id": "6b746431",
   "metadata": {},
   "outputs": [
    {
     "name": "stdout",
     "output_type": "stream",
     "text": [
      "7\n"
     ]
    }
   ],
   "source": [
    "test(3,4)"
   ]
  },
  {
   "cell_type": "code",
   "execution_count": 3,
   "id": "d5dce466",
   "metadata": {},
   "outputs": [
    {
     "name": "stdout",
     "output_type": "stream",
     "text": [
      "5\n"
     ]
    }
   ],
   "source": [
    "test(a=5,b=0)"
   ]
  },
  {
   "cell_type": "code",
   "execution_count": 4,
   "id": "0a0a45ef",
   "metadata": {},
   "outputs": [
    {
     "name": "stdout",
     "output_type": "stream",
     "text": [
      "16\n"
     ]
    }
   ],
   "source": [
    "test(b=8,a=8)"
   ]
  },
  {
   "cell_type": "code",
   "execution_count": 5,
   "id": "06a508c6",
   "metadata": {},
   "outputs": [
    {
     "name": "stdout",
     "output_type": "stream",
     "text": [
      "MuskanSinha\n"
     ]
    }
   ],
   "source": [
    "test(\"Muskan\",\"Sinha\")"
   ]
  },
  {
   "cell_type": "code",
   "execution_count": 6,
   "id": "39e780d5",
   "metadata": {},
   "outputs": [],
   "source": [
    "## docstring is basically used to give information to user that what is the nature of fun ,what input it will take,what output it will give,how many arguments need to be passed.\n",
    "## user can create docstring.\n",
    "## shortcut for Docstring: press shift+tab inside function"
   ]
  },
  {
   "cell_type": "code",
   "execution_count": 7,
   "id": "80a237b6",
   "metadata": {},
   "outputs": [],
   "source": [
    "##ex:\n",
    "def test1(a,b):\n",
    "    \"this is my concatination fuction\" ## here this is docstring \"this is my concatination function\"\n",
    "    return a+b"
   ]
  },
  {
   "cell_type": "code",
   "execution_count": 8,
   "id": "f09c6359",
   "metadata": {},
   "outputs": [
    {
     "data": {
      "text/plain": [
       "13"
      ]
     },
     "execution_count": 8,
     "metadata": {},
     "output_type": "execute_result"
    }
   ],
   "source": [
    "test1(7,6)"
   ]
  },
  {
   "cell_type": "code",
   "execution_count": 9,
   "id": "a3089aec",
   "metadata": {},
   "outputs": [],
   "source": [
    "## HOw to pass multiple patrameters in a fucntion"
   ]
  },
  {
   "cell_type": "code",
   "execution_count": 10,
   "id": "49711917",
   "metadata": {},
   "outputs": [],
   "source": [
    "def test3(*a): ##using *a we can pass multiple number of arguments in the fucntion of any datatype\n",
    "    return a"
   ]
  },
  {
   "cell_type": "code",
   "execution_count": 12,
   "id": "a4085e22",
   "metadata": {},
   "outputs": [
    {
     "data": {
      "text/plain": [
       "(2, 3, 5, 'a')"
      ]
     },
     "execution_count": 12,
     "metadata": {},
     "output_type": "execute_result"
    }
   ],
   "source": [
    "test3(2,3,5,\"a\")"
   ]
  },
  {
   "cell_type": "code",
   "execution_count": 13,
   "id": "1fb58dd8",
   "metadata": {},
   "outputs": [
    {
     "data": {
      "text/plain": [
       "(2, 3, 4, 'a', [1, 2, 5], (476, 657), {'key1': 'Muskan'})"
      ]
     },
     "execution_count": 13,
     "metadata": {},
     "output_type": "execute_result"
    }
   ],
   "source": [
    "test3(2,3,4,\"a\",[1,2,5],(476,657),{\"key1\":\"Muskan\"})"
   ]
  },
  {
   "cell_type": "code",
   "execution_count": 14,
   "id": "480f1048",
   "metadata": {},
   "outputs": [],
   "source": [
    "def test4(*MUskan):\n",
    "    return MUskan"
   ]
  },
  {
   "cell_type": "code",
   "execution_count": 15,
   "id": "7258b7cc",
   "metadata": {},
   "outputs": [
    {
     "data": {
      "text/plain": [
       "(67, 90)"
      ]
     },
     "execution_count": 15,
     "metadata": {},
     "output_type": "execute_result"
    }
   ],
   "source": [
    "test4(67,90)"
   ]
  },
  {
   "cell_type": "code",
   "execution_count": 21,
   "id": "faf4b570",
   "metadata": {},
   "outputs": [],
   "source": [
    "def test5(*a):\n",
    "    l=[]\n",
    "    for i in a:\n",
    "        l.append(i)\n",
    "    return l"
   ]
  },
  {
   "cell_type": "code",
   "execution_count": 22,
   "id": "da4e0b9d",
   "metadata": {},
   "outputs": [
    {
     "data": {
      "text/plain": [
       "[1, 2, 3, [686, 877]]"
      ]
     },
     "execution_count": 22,
     "metadata": {},
     "output_type": "execute_result"
    }
   ],
   "source": [
    "test5(1,2,3,[686,877])"
   ]
  },
  {
   "cell_type": "code",
   "execution_count": 18,
   "id": "8a4f369f",
   "metadata": {},
   "outputs": [
    {
     "data": {
      "text/plain": [
       "<function __main__.test5(*a)>"
      ]
     },
     "execution_count": 18,
     "metadata": {},
     "output_type": "execute_result"
    }
   ],
   "source": [
    "test5"
   ]
  },
  {
   "cell_type": "code",
   "execution_count": 23,
   "id": "3e3e009b",
   "metadata": {},
   "outputs": [],
   "source": [
    "def test6(a,s,b,c,*m):\n",
    "    return a,s,b,c,m"
   ]
  },
  {
   "cell_type": "code",
   "execution_count": 24,
   "id": "e60a0918",
   "metadata": {},
   "outputs": [
    {
     "data": {
      "text/plain": [
       "(2, 3, 4, 5, (6, 7, 8, 9, 9, 9, [875687, 87548]))"
      ]
     },
     "execution_count": 24,
     "metadata": {},
     "output_type": "execute_result"
    }
   ],
   "source": [
    "test6(2,3,4,5,6,7,8,9,9,9,[875687,87548])"
   ]
  },
  {
   "cell_type": "code",
   "execution_count": 25,
   "id": "f297c86b",
   "metadata": {},
   "outputs": [],
   "source": [
    "def test7(*m,a,c,b):\n",
    "    return m,a,c,b"
   ]
  },
  {
   "cell_type": "code",
   "execution_count": 26,
   "id": "e21104d8",
   "metadata": {},
   "outputs": [
    {
     "ename": "TypeError",
     "evalue": "test7() missing 3 required keyword-only arguments: 'a', 'c', and 'b'",
     "output_type": "error",
     "traceback": [
      "\u001b[1;31m---------------------------------------------------------------------------\u001b[0m",
      "\u001b[1;31mTypeError\u001b[0m                                 Traceback (most recent call last)",
      "Input \u001b[1;32mIn [26]\u001b[0m, in \u001b[0;36m<cell line: 1>\u001b[1;34m()\u001b[0m\n\u001b[1;32m----> 1\u001b[0m \u001b[43mtest7\u001b[49m\u001b[43m(\u001b[49m\u001b[38;5;241;43m3\u001b[39;49m\u001b[43m,\u001b[49m\u001b[38;5;241;43m4\u001b[39;49m\u001b[43m,\u001b[49m\u001b[38;5;241;43m5\u001b[39;49m\u001b[43m,\u001b[49m\u001b[38;5;241;43m78\u001b[39;49m\u001b[43m,\u001b[49m\u001b[38;5;241;43m90\u001b[39;49m\u001b[43m,\u001b[49m\u001b[38;5;241;43m23\u001b[39;49m\u001b[43m,\u001b[49m\u001b[38;5;241;43m5\u001b[39;49m\u001b[43m,\u001b[49m\u001b[38;5;241;43m887\u001b[39;49m\u001b[43m,\u001b[49m\u001b[38;5;241;43m576\u001b[39;49m\u001b[43m,\u001b[49m\u001b[38;5;241;43m3897\u001b[39;49m\u001b[43m)\u001b[49m\n",
      "\u001b[1;31mTypeError\u001b[0m: test7() missing 3 required keyword-only arguments: 'a', 'c', and 'b'"
     ]
    }
   ],
   "source": [
    "test7(3,4,5,78,90,23,5,887,576,3897)"
   ]
  },
  {
   "cell_type": "code",
   "execution_count": 28,
   "id": "0ebeb20a",
   "metadata": {},
   "outputs": [
    {
     "data": {
      "text/plain": [
       "((3, 4, 5, 78, 90, 23, 5), 887, 576, 3897)"
      ]
     },
     "execution_count": 28,
     "metadata": {},
     "output_type": "execute_result"
    }
   ],
   "source": [
    "test7(3,4,5,78,90,23,5,a=887,c=576,b=3897)"
   ]
  },
  {
   "cell_type": "code",
   "execution_count": 29,
   "id": "b728e38d",
   "metadata": {},
   "outputs": [
    {
     "ename": "SyntaxError",
     "evalue": "invalid syntax (2815147192.py, line 1)",
     "output_type": "error",
     "traceback": [
      "\u001b[1;36m  Input \u001b[1;32mIn [29]\u001b[1;36m\u001b[0m\n\u001b[1;33m    def test8(*m,a,c,b,*g):\u001b[0m\n\u001b[1;37m                       ^\u001b[0m\n\u001b[1;31mSyntaxError\u001b[0m\u001b[1;31m:\u001b[0m invalid syntax\n"
     ]
    }
   ],
   "source": [
    "def test8(*m,a,c,b,*g):\n",
    "    return m,a,c,b"
   ]
  },
  {
   "cell_type": "code",
   "execution_count": 30,
   "id": "dd54de5c",
   "metadata": {},
   "outputs": [],
   "source": [
    "## if want to pass any keyword as argument we will use keyword argumet **kwrgs(this name can be anything)\n",
    "def test9(**muskan):\n",
    "    return muskan\n"
   ]
  },
  {
   "cell_type": "code",
   "execution_count": 31,
   "id": "8b6d48e7",
   "metadata": {},
   "outputs": [
    {
     "data": {
      "text/plain": [
       "{}"
      ]
     },
     "execution_count": 31,
     "metadata": {},
     "output_type": "execute_result"
    }
   ],
   "source": [
    "test9()## this will only take key value pair"
   ]
  },
  {
   "cell_type": "code",
   "execution_count": 34,
   "id": "afc1c546",
   "metadata": {},
   "outputs": [
    {
     "data": {
      "text/plain": [
       "{'a': 0, 'b': 8, 'c': 'mus', 'n': [23, 56, 78]}"
      ]
     },
     "execution_count": 34,
     "metadata": {},
     "output_type": "execute_result"
    }
   ],
   "source": [
    "test9(a=0,b=8,c=\"mus\",n=[23,56,78])"
   ]
  },
  {
   "cell_type": "code",
   "execution_count": 33,
   "id": "9af7e3a6",
   "metadata": {},
   "outputs": [
    {
     "ename": "NameError",
     "evalue": "name 'a' is not defined",
     "output_type": "error",
     "traceback": [
      "\u001b[1;31m---------------------------------------------------------------------------\u001b[0m",
      "\u001b[1;31mNameError\u001b[0m                                 Traceback (most recent call last)",
      "Input \u001b[1;32mIn [33]\u001b[0m, in \u001b[0;36m<cell line: 1>\u001b[1;34m()\u001b[0m\n\u001b[1;32m----> 1\u001b[0m test9(\u001b[43ma\u001b[49m)\n",
      "\u001b[1;31mNameError\u001b[0m: name 'a' is not defined"
     ]
    }
   ],
   "source": [
    "test9(a)## only key value pair"
   ]
  },
  {
   "cell_type": "code",
   "execution_count": 35,
   "id": "e4e36d3e",
   "metadata": {},
   "outputs": [],
   "source": [
    "def test10(*s,**m):\n",
    "    return s,m"
   ]
  },
  {
   "cell_type": "code",
   "execution_count": 36,
   "id": "5336e1ce",
   "metadata": {},
   "outputs": [
    {
     "data": {
      "text/plain": [
       "((2323, 45, 23, 67, 85, 54, 657, 6456, 6546), {'a': 212, 'b': 6, 'c': 89})"
      ]
     },
     "execution_count": 36,
     "metadata": {},
     "output_type": "execute_result"
    }
   ],
   "source": [
    "test10(2323,45,23,67,85,54,657,6456,6546,a=212,b=6,c=89)"
   ]
  },
  {
   "cell_type": "code",
   "execution_count": 41,
   "id": "45249958",
   "metadata": {},
   "outputs": [],
   "source": [
    "def test11(*m):\n",
    "    n=0\n",
    "    for i in m:\n",
    "        if type(i)==int:\n",
    "            n=n+i\n",
    "    return n"
   ]
  },
  {
   "cell_type": "code",
   "execution_count": 42,
   "id": "84b68a50",
   "metadata": {},
   "outputs": [
    {
     "data": {
      "text/plain": [
       "265"
      ]
     },
     "execution_count": 42,
     "metadata": {},
     "output_type": "execute_result"
    }
   ],
   "source": [
    "test11(232,33)"
   ]
  },
  {
   "cell_type": "code",
   "execution_count": 48,
   "id": "da3f9ec7",
   "metadata": {},
   "outputs": [],
   "source": [
    "def test12(*m):\n",
    "    n=1\n",
    "    for i in m:\n",
    "        if type(i)==int:\n",
    "            n=n*i\n",
    "    return n\n",
    "      "
   ]
  },
  {
   "cell_type": "code",
   "execution_count": 49,
   "id": "aa8e6a51",
   "metadata": {},
   "outputs": [
    {
     "data": {
      "text/plain": [
       "24"
      ]
     },
     "execution_count": 49,
     "metadata": {},
     "output_type": "execute_result"
    }
   ],
   "source": [
    "test12(2,3,4)"
   ]
  },
  {
   "cell_type": "code",
   "execution_count": 50,
   "id": "d7c6eab4",
   "metadata": {},
   "outputs": [
    {
     "data": {
      "text/plain": [
       "<function __main__.<lambda>(a, b)>"
      ]
     },
     "execution_count": 50,
     "metadata": {},
     "output_type": "execute_result"
    }
   ],
   "source": [
    "## lambda functions(function without name or anonymous function or inline functions )\n",
    "lambda a,b:a+b"
   ]
  },
  {
   "cell_type": "code",
   "execution_count": 51,
   "id": "ffbf4bda",
   "metadata": {},
   "outputs": [],
   "source": [
    "n=lambda a,b:a+b"
   ]
  },
  {
   "cell_type": "code",
   "execution_count": 52,
   "id": "793c2db8",
   "metadata": {},
   "outputs": [
    {
     "data": {
      "text/plain": [
       "9"
      ]
     },
     "execution_count": 52,
     "metadata": {},
     "output_type": "execute_result"
    }
   ],
   "source": [
    "n(4,5)"
   ]
  },
  {
   "cell_type": "code",
   "execution_count": 53,
   "id": "916a9793",
   "metadata": {},
   "outputs": [],
   "source": [
    "## anonymous function: because there is no name of the function only the lambda keyword is there\n",
    "## if u have any complex logic try to avoid lamda function"
   ]
  },
  {
   "cell_type": "code",
   "execution_count": 61,
   "id": "68cbe9c8",
   "metadata": {},
   "outputs": [],
   "source": [
    "n= lambda*mus : mus"
   ]
  },
  {
   "cell_type": "code",
   "execution_count": 62,
   "id": "ec6e9da4",
   "metadata": {},
   "outputs": [
    {
     "data": {
      "text/plain": [
       "(34, 34, 67, 87, 34)"
      ]
     },
     "execution_count": 62,
     "metadata": {},
     "output_type": "execute_result"
    }
   ],
   "source": [
    "n(34,34,67,87,34)"
   ]
  },
  {
   "cell_type": "code",
   "execution_count": 63,
   "id": "cc5f800e",
   "metadata": {},
   "outputs": [],
   "source": [
    "t=(1,2,3,4,5)## tuple to list\n",
    "l=[]\n",
    "for i in t:\n",
    "    l.append(i)"
   ]
  },
  {
   "cell_type": "code",
   "execution_count": 64,
   "id": "0f600633",
   "metadata": {},
   "outputs": [
    {
     "data": {
      "text/plain": [
       "[1, 2, 3, 4, 5]"
      ]
     },
     "execution_count": 64,
     "metadata": {},
     "output_type": "execute_result"
    }
   ],
   "source": [
    "l"
   ]
  },
  {
   "cell_type": "code",
   "execution_count": 67,
   "id": "2a16935a",
   "metadata": {},
   "outputs": [
    {
     "data": {
      "text/plain": [
       "[1, 2, 3, 4, 5]"
      ]
     },
     "execution_count": 67,
     "metadata": {},
     "output_type": "execute_result"
    }
   ],
   "source": [
    "##conversion of tuple to list using list comprehension operation\n",
    "[i for i in t]"
   ]
  },
  {
   "cell_type": "code",
   "execution_count": 68,
   "id": "6186ac4d",
   "metadata": {},
   "outputs": [
    {
     "data": {
      "text/plain": [
       "['m', 'u', 's', 'k', 'a', 'n']"
      ]
     },
     "execution_count": 68,
     "metadata": {},
     "output_type": "execute_result"
    }
   ],
   "source": [
    "s=\"muskan\"\n",
    "[i for i in s]"
   ]
  },
  {
   "cell_type": "code",
   "execution_count": 71,
   "id": "91ed0df7",
   "metadata": {},
   "outputs": [
    {
     "data": {
      "text/plain": [
       "[0, 1, 4, 9, 16, 25, 36, 49, 64, 81]"
      ]
     },
     "execution_count": 71,
     "metadata": {},
     "output_type": "execute_result"
    }
   ],
   "source": [
    "[i*i for i in range(10)]## square of no from 1-10"
   ]
  },
  {
   "cell_type": "code",
   "execution_count": 1,
   "id": "598a8026",
   "metadata": {},
   "outputs": [],
   "source": [
    "l=[]\n",
    "for i in range(10):\n",
    "    l.append(i*i)"
   ]
  },
  {
   "cell_type": "code",
   "execution_count": 2,
   "id": "ef678380",
   "metadata": {},
   "outputs": [
    {
     "data": {
      "text/plain": [
       "[0, 1, 4, 9, 16, 25, 36, 49, 64, 81]"
      ]
     },
     "execution_count": 2,
     "metadata": {},
     "output_type": "execute_result"
    }
   ],
   "source": [
    "l"
   ]
  },
  {
   "cell_type": "code",
   "execution_count": 3,
   "id": "539cf62d",
   "metadata": {},
   "outputs": [],
   "source": [
    "l=lambda *t:[i for i in t]## getting output in list using lambda"
   ]
  },
  {
   "cell_type": "code",
   "execution_count": 4,
   "id": "10198c55",
   "metadata": {},
   "outputs": [
    {
     "data": {
      "text/plain": [
       "[1, 2, 3, 4, 9]"
      ]
     },
     "execution_count": 4,
     "metadata": {},
     "output_type": "execute_result"
    }
   ],
   "source": [
    "l(1,2,3,4,9)"
   ]
  },
  {
   "cell_type": "code",
   "execution_count": 5,
   "id": "9dcb2d8a",
   "metadata": {},
   "outputs": [],
   "source": [
    "l=lambda *t:[i*2 for i in t]"
   ]
  },
  {
   "cell_type": "code",
   "execution_count": 6,
   "id": "57962d53",
   "metadata": {},
   "outputs": [
    {
     "data": {
      "text/plain": [
       "[4, 6, 8, 10]"
      ]
     },
     "execution_count": 6,
     "metadata": {},
     "output_type": "execute_result"
    }
   ],
   "source": [
    "l(2,3,4,5)"
   ]
  },
  {
   "cell_type": "code",
   "execution_count": 7,
   "id": "557585c8",
   "metadata": {},
   "outputs": [],
   "source": [
    "l=lambda *t:[i**2 for i in t]## getting suqare of the input"
   ]
  },
  {
   "cell_type": "code",
   "execution_count": 8,
   "id": "7bad728f",
   "metadata": {},
   "outputs": [
    {
     "data": {
      "text/plain": [
       "[16, 36, 64, 81, 3136]"
      ]
     },
     "execution_count": 8,
     "metadata": {},
     "output_type": "execute_result"
    }
   ],
   "source": [
    "l(4,6,8,9,56)"
   ]
  },
  {
   "cell_type": "code",
   "execution_count": 1,
   "id": "63155278",
   "metadata": {},
   "outputs": [
    {
     "ename": "NameError",
     "evalue": "name 'test14' is not defined",
     "output_type": "error",
     "traceback": [
      "\u001b[1;31m---------------------------------------------------------------------------\u001b[0m",
      "\u001b[1;31mNameError\u001b[0m                                 Traceback (most recent call last)",
      "Input \u001b[1;32mIn [1]\u001b[0m, in \u001b[0;36m<cell line: 1>\u001b[1;34m()\u001b[0m\n\u001b[1;32m----> 1\u001b[0m \u001b[43mtest14\u001b[49m(a\u001b[38;5;241m=\u001b[39m\u001b[38;5;241m7\u001b[39m,b\u001b[38;5;241m=\u001b[39m\u001b[38;5;124m\"\u001b[39m\u001b[38;5;124msudh\u001b[39m\u001b[38;5;124m\"\u001b[39m,c\u001b[38;5;241m=\u001b[39m\u001b[38;5;241m345\u001b[39m,d\u001b[38;5;241m=\u001b[39m\u001b[38;5;124m\"\u001b[39m\u001b[38;5;124msudh\u001b[39m\u001b[38;5;124m\"\u001b[39m,l\u001b[38;5;241m=\u001b[39m[\u001b[38;5;241m1\u001b[39m,\u001b[38;5;241m2\u001b[39m,\u001b[38;5;241m3\u001b[39m,\u001b[38;5;241m4\u001b[39m,\u001b[38;5;124m\"\u001b[39m\u001b[38;5;124msudh\u001b[39m\u001b[38;5;124m\"\u001b[39m])\n",
      "\u001b[1;31mNameError\u001b[0m: name 'test14' is not defined"
     ]
    }
   ],
   "source": [
    "test14(a=7,b=\"sudh\",c=345,d=\"sudh\",l=[1,2,3,4,\"sudh\"])"
   ]
  },
  {
   "cell_type": "code",
   "execution_count": 1,
   "id": "31808018",
   "metadata": {},
   "outputs": [],
   "source": [
    "def test14(**kwargs):\n",
    "    count=0\n",
    "    print(kwargs)\n",
    "    print(kwargs.values())\n",
    "    for v in kwargs.values():\n",
    "        if type(v)==str or type(v)==list:\n",
    "            count += 1\n",
    "    return count"
   ]
  },
  {
   "cell_type": "code",
   "execution_count": 2,
   "id": "3678197f",
   "metadata": {},
   "outputs": [
    {
     "name": "stdout",
     "output_type": "stream",
     "text": [
      "{'a': 7, 'b': 'sudh', 'c': 345, 'd': 'sudh', 'l': [1, 2, 3, 4, 'sudh']}\n",
      "dict_values([7, 'sudh', 345, 'sudh', [1, 2, 3, 4, 'sudh']])\n"
     ]
    },
    {
     "data": {
      "text/plain": [
       "3"
      ]
     },
     "execution_count": 2,
     "metadata": {},
     "output_type": "execute_result"
    }
   ],
   "source": [
    "test14(a=7,b=\"sudh\",c=345,d=\"sudh\",l=[1,2,3,4,\"sudh\"])"
   ]
  },
  {
   "cell_type": "code",
   "execution_count": 3,
   "id": "0bc30eae",
   "metadata": {},
   "outputs": [],
   "source": [
    "def test15(**kwrgs):\n",
    "    return list(kwrgs.values())## trying to convert values in list\n"
   ]
  },
  {
   "cell_type": "code",
   "execution_count": 4,
   "id": "c5e77969",
   "metadata": {},
   "outputs": [
    {
     "data": {
      "text/plain": [
       "[7, 'sudh', 345, 'sudh', [1, 2, 3, 4, 'sudh']]"
      ]
     },
     "execution_count": 4,
     "metadata": {},
     "output_type": "execute_result"
    }
   ],
   "source": [
    "test15(a=7,b=\"sudh\",c=345,d=\"sudh\",l=[1,2,3,4,\"sudh\"])"
   ]
  },
  {
   "cell_type": "raw",
   "id": "010ba520",
   "metadata": {},
   "source": [
    " Questions:\n",
    "1.try to print prime numbers between 1 to 1000\n",
    "2.Try to write a function which is equivalent to print fun in python\n",
    "3.Try to write a function which is replica of list append,extend and pop fucntion\n",
    "4.TRy to return a lamda function which will return the concatination of all the string that will be passed\n",
    "5.Try to return lambda function which will return list of the square of all the data between 1-100\n",
    "6.TRy to write 10 different lambda function of your choice.\n",
    "7.Write a function which will read from .txt file.\n",
    "\n"
   ]
  }
 ],
 "metadata": {
  "kernelspec": {
   "display_name": "Python 3 (ipykernel)",
   "language": "python",
   "name": "python3"
  },
  "language_info": {
   "codemirror_mode": {
    "name": "ipython",
    "version": 3
   },
   "file_extension": ".py",
   "mimetype": "text/x-python",
   "name": "python",
   "nbconvert_exporter": "python",
   "pygments_lexer": "ipython3",
   "version": "3.9.12"
  }
 },
 "nbformat": 4,
 "nbformat_minor": 5
}
