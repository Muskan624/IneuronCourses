{
 "cells": [
  {
   "cell_type": "markdown",
   "id": "cae8113e",
   "metadata": {},
   "source": [
    "# String Variable"
   ]
  },
  {
   "cell_type": "code",
   "execution_count": 1,
   "id": "242cc5a2",
   "metadata": {},
   "outputs": [
    {
     "data": {
      "text/plain": [
       "str"
      ]
     },
     "execution_count": 1,
     "metadata": {},
     "output_type": "execute_result"
    }
   ],
   "source": [
    "s=\"ineuron\"\n",
    "type(s)"
   ]
  },
  {
   "cell_type": "code",
   "execution_count": 2,
   "id": "dff11293",
   "metadata": {},
   "outputs": [
    {
     "data": {
      "text/plain": [
       "'i'"
      ]
     },
     "execution_count": 2,
     "metadata": {},
     "output_type": "execute_result"
    }
   ],
   "source": [
    "s[0]"
   ]
  },
  {
   "cell_type": "code",
   "execution_count": 3,
   "id": "05a23565",
   "metadata": {},
   "outputs": [
    {
     "ename": "TypeError",
     "evalue": "string indices must be integers",
     "output_type": "error",
     "traceback": [
      "\u001b[1;31m---------------------------------------------------------------------------\u001b[0m",
      "\u001b[1;31mTypeError\u001b[0m                                 Traceback (most recent call last)",
      "Input \u001b[1;32mIn [3]\u001b[0m, in \u001b[0;36m<cell line: 1>\u001b[1;34m()\u001b[0m\n\u001b[1;32m----> 1\u001b[0m \u001b[43ms\u001b[49m\u001b[43m[\u001b[49m\u001b[38;5;241;43m0\u001b[39;49m\u001b[43m,\u001b[49m\u001b[38;5;241;43m1\u001b[39;49m\u001b[43m,\u001b[49m\u001b[38;5;241;43m2\u001b[39;49m\u001b[43m,\u001b[49m\u001b[38;5;241;43m3\u001b[39;49m\u001b[43m,\u001b[49m\u001b[38;5;241;43m4\u001b[39;49m\u001b[43m]\u001b[49m\n",
      "\u001b[1;31mTypeError\u001b[0m: string indices must be integers"
     ]
    }
   ],
   "source": [
    "s[0,1,2,3,4]"
   ]
  },
  {
   "cell_type": "code",
   "execution_count": 4,
   "id": "ccc4f8bc",
   "metadata": {},
   "outputs": [
    {
     "data": {
      "text/plain": [
       "'o'"
      ]
     },
     "execution_count": 4,
     "metadata": {},
     "output_type": "execute_result"
    }
   ],
   "source": [
    "s[5]"
   ]
  },
  {
   "cell_type": "code",
   "execution_count": 5,
   "id": "22a38219",
   "metadata": {},
   "outputs": [
    {
     "data": {
      "text/plain": [
       "'o'"
      ]
     },
     "execution_count": 5,
     "metadata": {},
     "output_type": "execute_result"
    }
   ],
   "source": [
    "s[-2]"
   ]
  },
  {
   "cell_type": "code",
   "execution_count": 6,
   "id": "9ccf2268",
   "metadata": {},
   "outputs": [
    {
     "data": {
      "text/plain": [
       "'n'"
      ]
     },
     "execution_count": 6,
     "metadata": {},
     "output_type": "execute_result"
    }
   ],
   "source": [
    "s[-1]"
   ]
  },
  {
   "cell_type": "code",
   "execution_count": 7,
   "id": "99019386",
   "metadata": {},
   "outputs": [
    {
     "data": {
      "text/plain": [
       "'m'"
      ]
     },
     "execution_count": 7,
     "metadata": {},
     "output_type": "execute_result"
    }
   ],
   "source": [
    "s1=\"This is my string class\"\n",
    "s1[8]"
   ]
  },
  {
   "cell_type": "code",
   "execution_count": 8,
   "id": "5b13f75c",
   "metadata": {},
   "outputs": [
    {
     "data": {
      "text/plain": [
       "'i'"
      ]
     },
     "execution_count": 8,
     "metadata": {},
     "output_type": "execute_result"
    }
   ],
   "source": [
    "s1[-9]"
   ]
  },
  {
   "cell_type": "code",
   "execution_count": 9,
   "id": "c6496432",
   "metadata": {},
   "outputs": [
    {
     "ename": "TypeError",
     "evalue": "string indices must be integers",
     "output_type": "error",
     "traceback": [
      "\u001b[1;31m---------------------------------------------------------------------------\u001b[0m",
      "\u001b[1;31mTypeError\u001b[0m                                 Traceback (most recent call last)",
      "Input \u001b[1;32mIn [9]\u001b[0m, in \u001b[0;36m<cell line: 1>\u001b[1;34m()\u001b[0m\n\u001b[1;32m----> 1\u001b[0m \u001b[43ms1\u001b[49m\u001b[43m[\u001b[49m\u001b[38;5;241;43m1\u001b[39;49m\u001b[43m,\u001b[49m\u001b[38;5;241;43m5\u001b[39;49m\u001b[43m]\u001b[49m\n",
      "\u001b[1;31mTypeError\u001b[0m: string indices must be integers"
     ]
    }
   ],
   "source": [
    "s1[1,5]"
   ]
  },
  {
   "cell_type": "code",
   "execution_count": 10,
   "id": "d2b7c413",
   "metadata": {},
   "outputs": [
    {
     "data": {
      "text/plain": [
       "'his '"
      ]
     },
     "execution_count": 10,
     "metadata": {},
     "output_type": "execute_result"
    }
   ],
   "source": [
    "s1[1:5]##excluding the upper bound Continuous data "
   ]
  },
  {
   "cell_type": "code",
   "execution_count": 11,
   "id": "40e3bec9",
   "metadata": {},
   "outputs": [
    {
     "data": {
      "text/plain": [
       "'s my string class'"
      ]
     },
     "execution_count": 11,
     "metadata": {},
     "output_type": "execute_result"
    }
   ],
   "source": [
    "s1[6:30] ##excluding 30th item##continuous data"
   ]
  },
  {
   "cell_type": "markdown",
   "id": "061070b2",
   "metadata": {},
   "source": [
    "# string slicing operations"
   ]
  },
  {
   "cell_type": "code",
   "execution_count": 12,
   "id": "66f3ff2e",
   "metadata": {},
   "outputs": [
    {
     "data": {
      "text/plain": [
       "'sm tigcas'"
      ]
     },
     "execution_count": 12,
     "metadata": {},
     "output_type": "execute_result"
    }
   ],
   "source": [
    "s1[6:30:2]##start from 6 ,exclude 30th elemenet and alternate"
   ]
  },
  {
   "cell_type": "code",
   "execution_count": 13,
   "id": "ec00b5c2",
   "metadata": {},
   "outputs": [
    {
     "ename": "TypeError",
     "evalue": "string indices must be integers",
     "output_type": "error",
     "traceback": [
      "\u001b[1;31m---------------------------------------------------------------------------\u001b[0m",
      "\u001b[1;31mTypeError\u001b[0m                                 Traceback (most recent call last)",
      "Input \u001b[1;32mIn [13]\u001b[0m, in \u001b[0;36m<cell line: 2>\u001b[1;34m()\u001b[0m\n\u001b[0;32m      1\u001b[0m s2\u001b[38;5;241m=\u001b[39m\u001b[38;5;124m\"\u001b[39m\u001b[38;5;124mMuskan\u001b[39m\u001b[38;5;124m\"\u001b[39m\n\u001b[1;32m----> 2\u001b[0m \u001b[43ms2\u001b[49m\u001b[43m[\u001b[49m\u001b[38;5;241;43m0\u001b[39;49m\u001b[43m,\u001b[49m\u001b[38;5;241;43m2\u001b[39;49m\u001b[43m,\u001b[49m\u001b[38;5;241;43m1\u001b[39;49m\u001b[43m]\u001b[49m\n",
      "\u001b[1;31mTypeError\u001b[0m: string indices must be integers"
     ]
    }
   ],
   "source": [
    "s2=\"MuskanSinha\"\n",
    "s2[0,2,1]"
   ]
  },
  {
   "cell_type": "code",
   "execution_count": 14,
   "id": "b1d04683",
   "metadata": {},
   "outputs": [
    {
     "data": {
      "text/plain": [
       "'Mu'"
      ]
     },
     "execution_count": 14,
     "metadata": {},
     "output_type": "execute_result"
    }
   ],
   "source": [
    "s2[0:2:1]"
   ]
  },
  {
   "cell_type": "code",
   "execution_count": 15,
   "id": "86812293",
   "metadata": {},
   "outputs": [
    {
     "data": {
      "text/plain": [
       "'Ms'"
      ]
     },
     "execution_count": 15,
     "metadata": {},
     "output_type": "execute_result"
    }
   ],
   "source": [
    "s2[0:4:2]"
   ]
  },
  {
   "cell_type": "code",
   "execution_count": 16,
   "id": "2d583b43",
   "metadata": {},
   "outputs": [
    {
     "data": {
      "text/plain": [
       "''"
      ]
     },
     "execution_count": 16,
     "metadata": {},
     "output_type": "execute_result"
    }
   ],
   "source": [
    "s3=\"Sudhanshu\"\n",
    "s3[0:8:-1]\n"
   ]
  },
  {
   "cell_type": "code",
   "execution_count": 17,
   "id": "8aa58203",
   "metadata": {},
   "outputs": [
    {
     "data": {
      "text/plain": [
       "'uhsnahdu'"
      ]
     },
     "execution_count": 17,
     "metadata": {},
     "output_type": "execute_result"
    }
   ],
   "source": [
    "s3[8:0:-1]"
   ]
  },
  {
   "cell_type": "code",
   "execution_count": 18,
   "id": "fbec5bd0",
   "metadata": {},
   "outputs": [
    {
     "data": {
      "text/plain": [
       "'usad'"
      ]
     },
     "execution_count": 18,
     "metadata": {},
     "output_type": "execute_result"
    }
   ],
   "source": [
    "s3[8:0:-2]"
   ]
  },
  {
   "cell_type": "code",
   "execution_count": 19,
   "id": "1b4d491c",
   "metadata": {},
   "outputs": [
    {
     "data": {
      "text/plain": [
       "'Sudhan'"
      ]
     },
     "execution_count": 19,
     "metadata": {},
     "output_type": "execute_result"
    }
   ],
   "source": [
    "s3[:-3]##No lower bound i.e starting point,end point is -3,jump side is by default +1,by default start from 0"
   ]
  },
  {
   "cell_type": "code",
   "execution_count": 21,
   "id": "5e58fe8b",
   "metadata": {},
   "outputs": [
    {
     "data": {
      "text/plain": [
       "'hu'"
      ]
     },
     "execution_count": 21,
     "metadata": {},
     "output_type": "execute_result"
    }
   ],
   "source": [
    "s3[-2:]##No upper bound i.e end point(by default will take max limit of string,-2=lower bound,jump will be+1 by default"
   ]
  },
  {
   "cell_type": "code",
   "execution_count": 23,
   "id": "b308467c",
   "metadata": {},
   "outputs": [
    {
     "data": {
      "text/plain": [
       "'Sudhanshu'"
      ]
     },
     "execution_count": 23,
     "metadata": {},
     "output_type": "execute_result"
    }
   ],
   "source": [
    "s3[::1]##upper bound = not mentioned(size of string+1 automtically),lower bound=not mentioned"
   ]
  },
  {
   "cell_type": "code",
   "execution_count": 24,
   "id": "3f35b413",
   "metadata": {},
   "outputs": [
    {
     "data": {
      "text/plain": [
       "'Sudhanshu'"
      ]
     },
     "execution_count": 24,
     "metadata": {},
     "output_type": "execute_result"
    }
   ],
   "source": [
    "s3[0:50:1]"
   ]
  },
  {
   "cell_type": "code",
   "execution_count": 25,
   "id": "84cab7d2",
   "metadata": {},
   "outputs": [
    {
     "data": {
      "text/plain": [
       "'uhsnahduS'"
      ]
     },
     "execution_count": 25,
     "metadata": {},
     "output_type": "execute_result"
    }
   ],
   "source": [
    "s3[::-1]##when only direction is given than its property of string in Python it will reverse from last index till fisrt index\n",
    "##Reverse of string\n",
    "##[lower bound:upper bound:jump]\n",
    "##[start:end:jump]"
   ]
  },
  {
   "cell_type": "code",
   "execution_count": 26,
   "id": "69e403fd",
   "metadata": {},
   "outputs": [
    {
     "data": {
      "text/plain": [
       "'norueni'"
      ]
     },
     "execution_count": 26,
     "metadata": {},
     "output_type": "execute_result"
    }
   ],
   "source": [
    "s4=\"ineuron\"##reverse string\n",
    "s4[::-1]"
   ]
  },
  {
   "cell_type": "code",
   "execution_count": 28,
   "id": "9ccb685c",
   "metadata": {},
   "outputs": [
    {
     "data": {
      "text/plain": [
       "''"
      ]
     },
     "execution_count": 28,
     "metadata": {},
     "output_type": "execute_result"
    }
   ],
   "source": [
    "s4[-2:-7:1]##will create contradiction that why received blank"
   ]
  },
  {
   "cell_type": "code",
   "execution_count": 30,
   "id": "a445313f",
   "metadata": {},
   "outputs": [
    {
     "ename": "TypeError",
     "evalue": "can only concatenate str (not \"int\") to str",
     "output_type": "error",
     "traceback": [
      "\u001b[1;31m---------------------------------------------------------------------------\u001b[0m",
      "\u001b[1;31mTypeError\u001b[0m                                 Traceback (most recent call last)",
      "Input \u001b[1;32mIn [30]\u001b[0m, in \u001b[0;36m<cell line: 2>\u001b[1;34m()\u001b[0m\n\u001b[0;32m      1\u001b[0m m\u001b[38;5;241m=\u001b[39m\u001b[38;5;124m\"\u001b[39m\u001b[38;5;124mMuskan\u001b[39m\u001b[38;5;124m\"\u001b[39m\n\u001b[1;32m----> 2\u001b[0m \u001b[43mm\u001b[49m\u001b[38;5;241;43m+\u001b[39;49m\u001b[38;5;241;43m1\u001b[39;49m\n",
      "\u001b[1;31mTypeError\u001b[0m: can only concatenate str (not \"int\") to str"
     ]
    }
   ],
   "source": [
    "m=\"Muskan\"\n",
    "m+1"
   ]
  },
  {
   "cell_type": "code",
   "execution_count": null,
   "id": "f8cfd8e8",
   "metadata": {},
   "outputs": [],
   "source": [
    "# Concatination opeartion"
   ]
  },
  {
   "cell_type": "code",
   "execution_count": 29,
   "id": "f293f9a7",
   "metadata": {},
   "outputs": [
    {
     "data": {
      "text/plain": [
       "'ineur'"
      ]
     },
     "execution_count": 29,
     "metadata": {},
     "output_type": "execute_result"
    }
   ],
   "source": [
    "s4[-7:-2:1]##-7+1=-6"
   ]
  },
  {
   "cell_type": "code",
   "execution_count": 31,
   "id": "a88b11ee",
   "metadata": {},
   "outputs": [
    {
     "data": {
      "text/plain": [
       "'Muskan1'"
      ]
     },
     "execution_count": 31,
     "metadata": {},
     "output_type": "execute_result"
    }
   ],
   "source": [
    "m+'1'"
   ]
  },
  {
   "cell_type": "code",
   "execution_count": 32,
   "id": "7b8825fc",
   "metadata": {},
   "outputs": [
    {
     "data": {
      "text/plain": [
       "'Muskan1'"
      ]
     },
     "execution_count": 32,
     "metadata": {},
     "output_type": "execute_result"
    }
   ],
   "source": [
    "m+\"1\""
   ]
  },
  {
   "cell_type": "code",
   "execution_count": 33,
   "id": "c5462a82",
   "metadata": {},
   "outputs": [
    {
     "data": {
      "text/plain": [
       "'Muskan1'"
      ]
     },
     "execution_count": 33,
     "metadata": {},
     "output_type": "execute_result"
    }
   ],
   "source": [
    "m+str(1)##typecasting"
   ]
  },
  {
   "cell_type": "code",
   "execution_count": 34,
   "id": "4d7f422f",
   "metadata": {},
   "outputs": [
    {
     "data": {
      "text/plain": [
       "6"
      ]
     },
     "execution_count": 34,
     "metadata": {},
     "output_type": "execute_result"
    }
   ],
   "source": [
    "len(m)##length"
   ]
  },
  {
   "cell_type": "code",
   "execution_count": 35,
   "id": "493677a2",
   "metadata": {},
   "outputs": [
    {
     "data": {
      "text/plain": [
       "'MuskanMuskan'"
      ]
     },
     "execution_count": 35,
     "metadata": {},
     "output_type": "execute_result"
    }
   ],
   "source": [
    "m*2##repetation twice"
   ]
  },
  {
   "cell_type": "code",
   "execution_count": 36,
   "id": "4e4e28de",
   "metadata": {},
   "outputs": [
    {
     "data": {
      "text/plain": [
       "'MuskanMuskanMuskanMuskanMuskan'"
      ]
     },
     "execution_count": 36,
     "metadata": {},
     "output_type": "execute_result"
    }
   ],
   "source": [
    "m*5##multiplication"
   ]
  },
  {
   "cell_type": "code",
   "execution_count": 37,
   "id": "520bbaaa",
   "metadata": {},
   "outputs": [
    {
     "data": {
      "text/plain": [
       "1"
      ]
     },
     "execution_count": 37,
     "metadata": {},
     "output_type": "execute_result"
    }
   ],
   "source": [
    "m.count(m)"
   ]
  },
  {
   "cell_type": "code",
   "execution_count": 39,
   "id": "c5f2ac50",
   "metadata": {},
   "outputs": [
    {
     "data": {
      "text/plain": [
       "1"
      ]
     },
     "execution_count": 39,
     "metadata": {},
     "output_type": "execute_result"
    }
   ],
   "source": [
    "m1=\"bhjdhjjhhhkkk\"\n",
    "m1.count(m1)"
   ]
  },
  {
   "cell_type": "code",
   "execution_count": 40,
   "id": "99347b3d",
   "metadata": {},
   "outputs": [
    {
     "data": {
      "text/plain": [
       "5"
      ]
     },
     "execution_count": 40,
     "metadata": {},
     "output_type": "execute_result"
    }
   ],
   "source": [
    "m1.count(\"h\")##count"
   ]
  },
  {
   "cell_type": "code",
   "execution_count": 42,
   "id": "ee85cac5",
   "metadata": {
    "scrolled": true
   },
   "outputs": [
    {
     "ename": "SyntaxError",
     "evalue": "invalid syntax (663075111.py, line 1)",
     "output_type": "error",
     "traceback": [
      "\u001b[1;36m  Input \u001b[1;32mIn [42]\u001b[1;36m\u001b[0m\n\u001b[1;33m    m1.count(\"h\":\"k\")\u001b[0m\n\u001b[1;37m                ^\u001b[0m\n\u001b[1;31mSyntaxError\u001b[0m\u001b[1;31m:\u001b[0m invalid syntax\n"
     ]
    }
   ],
   "source": [
    "m1.count(\"h\":\"k\")"
   ]
  },
  {
   "cell_type": "code",
   "execution_count": 43,
   "id": "f257b940",
   "metadata": {},
   "outputs": [
    {
     "data": {
      "text/plain": [
       "['bh', 'dh', '', 'hhhkkk']"
      ]
     },
     "execution_count": 43,
     "metadata": {},
     "output_type": "execute_result"
    }
   ],
   "source": [
    "m1.split(\"j\")## j is separator, before j,after j and in between in form of list"
   ]
  },
  {
   "cell_type": "code",
   "execution_count": 44,
   "id": "a5b56b29",
   "metadata": {},
   "outputs": [],
   "source": [
    "Sw=\"India, officially the Republic of India (Hindi: Bhārat Gaṇarājya),[26] is a country in South Asia. It is the seventh-largest country by area, the second-most populous country, and the most populous democracy in the world. Bounded by the Indian Ocean on the south, the Arabian Sea on the southwest, and the Bay of Bengal on the southeast, it shares land borders with Pakistan to the west;[f] China, Nepal, and Bhutan to the north; and Bangladesh and Myanmar to the east. In the Indian Ocean, I\""
   ]
  },
  {
   "cell_type": "code",
   "execution_count": 46,
   "id": "67dd3893",
   "metadata": {},
   "outputs": [
    {
     "data": {
      "text/plain": [
       "['India,',\n",
       " 'officially',\n",
       " 'the',\n",
       " 'Republic',\n",
       " 'of',\n",
       " 'India',\n",
       " '(Hindi:',\n",
       " 'Bhārat',\n",
       " 'Gaṇarājya),[26]',\n",
       " 'is',\n",
       " 'a',\n",
       " 'country',\n",
       " 'in',\n",
       " 'South',\n",
       " 'Asia.',\n",
       " 'It',\n",
       " 'is',\n",
       " 'the',\n",
       " 'seventh-largest',\n",
       " 'country',\n",
       " 'by',\n",
       " 'area,',\n",
       " 'the',\n",
       " 'second-most',\n",
       " 'populous',\n",
       " 'country,',\n",
       " 'and',\n",
       " 'the',\n",
       " 'most',\n",
       " 'populous',\n",
       " 'democracy',\n",
       " 'in',\n",
       " 'the',\n",
       " 'world.',\n",
       " 'Bounded',\n",
       " 'by',\n",
       " 'the',\n",
       " 'Indian',\n",
       " 'Ocean',\n",
       " 'on',\n",
       " 'the',\n",
       " 'south,',\n",
       " 'the',\n",
       " 'Arabian',\n",
       " 'Sea',\n",
       " 'on',\n",
       " 'the',\n",
       " 'southwest,',\n",
       " 'and',\n",
       " 'the',\n",
       " 'Bay',\n",
       " 'of',\n",
       " 'Bengal',\n",
       " 'on',\n",
       " 'the',\n",
       " 'southeast,',\n",
       " 'it',\n",
       " 'shares',\n",
       " 'land',\n",
       " 'borders',\n",
       " 'with',\n",
       " 'Pakistan',\n",
       " 'to',\n",
       " 'the',\n",
       " 'west;[f]',\n",
       " 'China,',\n",
       " 'Nepal,',\n",
       " 'and',\n",
       " 'Bhutan',\n",
       " 'to',\n",
       " 'the',\n",
       " 'north;',\n",
       " 'and',\n",
       " 'Bangladesh',\n",
       " 'and',\n",
       " 'Myanmar',\n",
       " 'to',\n",
       " 'the',\n",
       " 'east.',\n",
       " 'In',\n",
       " 'the',\n",
       " 'Indian',\n",
       " 'Ocean,',\n",
       " 'I']"
      ]
     },
     "execution_count": 46,
     "metadata": {},
     "output_type": "execute_result"
    }
   ],
   "source": [
    "Sw.split(\" \")##listing all the words of string"
   ]
  },
  {
   "cell_type": "code",
   "execution_count": 47,
   "id": "9b1d3461",
   "metadata": {},
   "outputs": [
    {
     "data": {
      "text/plain": [
       "['India, officially ',\n",
       " ' Republic of India (Hindi: Bhārat Gaṇarājya),[26] is a country in South Asia. It is ',\n",
       " ' seventh-largest country by area, ',\n",
       " ' second-most populous country, and ',\n",
       " ' most populous democracy in ',\n",
       " ' world. Bounded by ',\n",
       " ' Indian Ocean on ',\n",
       " ' south, ',\n",
       " ' Arabian Sea on ',\n",
       " ' southwest, and ',\n",
       " ' Bay of Bengal on ',\n",
       " ' sou',\n",
       " 'ast, it shares land borders with Pakistan to ',\n",
       " ' west;[f] China, Nepal, and Bhutan to ',\n",
       " ' north; and Bangladesh and Myanmar to ',\n",
       " ' east. In ',\n",
       " ' Indian Ocean, I']"
      ]
     },
     "execution_count": 47,
     "metadata": {},
     "output_type": "execute_result"
    }
   ],
   "source": [
    "Sw.split(\"the\")"
   ]
  },
  {
   "cell_type": "code",
   "execution_count": 48,
   "id": "d712dd15",
   "metadata": {},
   "outputs": [
    {
     "data": {
      "text/plain": [
       "16"
      ]
     },
     "execution_count": 48,
     "metadata": {},
     "output_type": "execute_result"
    }
   ],
   "source": [
    "Sw.count(\"the\")"
   ]
  },
  {
   "cell_type": "code",
   "execution_count": 49,
   "id": "f098864e",
   "metadata": {},
   "outputs": [],
   "source": [
    "Sw1='''India, officially the Republic of India (Hindi: Bhārat Gaṇarājya),[26] is a country in South Asia. It is the seventh-largest country by area, the second-most populous country, and the most populous democracy in the world. Bounded by the Indian Ocean on the south, the Arabian Sea on the southwest, and the Bay of Bengal on the southeast, it shares land borders with Pakistan to the west;[f] China, Nepal, and Bhutan to the north; and Bangladesh and Myanmar to the east. In the Indian Ocean, India is in the vicinity of Sri Lanka and the Maldives; its Andaman and Nicobar Islands share a maritime border with Thailand, Myanmar and Indonesia.\n",
    "\n",
    "Modern humans arrived on the Indian subcontinent from Africa no later than 55,000 years ago.[27][28][29] Their long occupation, initially in varying forms of isolation as hunter-gatherers, has made the region highly diverse, second only to Africa in human genetic diversity.[30] Settled life emerged on the subcontinent in the western margins of the Indus river basin 9,000 years ago, evolving gradually into the Indus Valley civilisation of the third millennium BCE.[31] By 1200 BCE, an archaic form of Sanskrit, an Indo-European language, had diffused into India from the northwest,[32][33] unfolding as the language of the Rigveda, and recording the dawning of Hinduism in India.[34] The Dravidian languages of India were supplanted in the northern and western regions.[35] By 400 BCE, stratification and exclusion by caste had emerged within Hinduism,[36] and Buddhism and Jainism had arisen, proclaiming social orders unlinked to heredity.[37] Early political consolidations gave rise to the loose-knit Maurya and Gupta Empires based in the Ganges Basin.[38] Their collective era was suffused with wide-ranging creativity,[39] but also marked by the declining status of women,[40] and the incorporation of untouchability into an organised system of belief.[g][41] In South India, the Middle kingdoms exported Dravidian-languages scripts and religious cultures to the kingdoms of Southeast Asia.[42]\n",
    "\n",
    "In the early medieval era, Christianity, Islam, Judaism, and Zoroastrianism became established on India's southern and western coasts.[43] Muslim armies from Central Asia intermittently overran India's northern plains,[44] eventually founding the Delhi Sultanate, and drawing northern India into the cosmopolitan networks of medieval Islam.[45] In the 15th century, the Vijayanagara Empire created a long-lasting composite Hindu culture in south India.[46] In the Punjab, Sikhism emerged, rejecting institutionalised religion.[47] The Mughal Empire, in 1526, ushered in two centuries of relative peace,[48] leaving a legacy of luminous architecture.[h][49] Gradually expanding rule of the British East India Company followed, turning India into a colonial economy, but also consolidating its sovereignty.[50] British Crown rule began in 1858. The rights promised to Indians were granted slowly,[51][52] but technological changes were introduced, and ideas of education, modernity and the public life took root.[53] A pioneering and influential nationalist movement emerged, which was noted for nonviolent resistance and became the major factor in ending British rule.[54][55] In 1947 the British Indian Empire was partitioned into two independent dominions,[56][57][58][59] a Hindu-majority Dominion of India and a Muslim-majority Dominion of Pakistan, amid large-scale loss of life and an unprecedented migration.[60]'''"
   ]
  },
  {
   "cell_type": "code",
   "execution_count": 50,
   "id": "a00ecebd",
   "metadata": {},
   "outputs": [
    {
     "data": {
      "text/plain": [
       "\"INDIA, OFFICIALLY THE REPUBLIC OF INDIA (HINDI: BHĀRAT GAṆARĀJYA),[26] IS A COUNTRY IN SOUTH ASIA. IT IS THE SEVENTH-LARGEST COUNTRY BY AREA, THE SECOND-MOST POPULOUS COUNTRY, AND THE MOST POPULOUS DEMOCRACY IN THE WORLD. BOUNDED BY THE INDIAN OCEAN ON THE SOUTH, THE ARABIAN SEA ON THE SOUTHWEST, AND THE BAY OF BENGAL ON THE SOUTHEAST, IT SHARES LAND BORDERS WITH PAKISTAN TO THE WEST;[F] CHINA, NEPAL, AND BHUTAN TO THE NORTH; AND BANGLADESH AND MYANMAR TO THE EAST. IN THE INDIAN OCEAN, INDIA IS IN THE VICINITY OF SRI LANKA AND THE MALDIVES; ITS ANDAMAN AND NICOBAR ISLANDS SHARE A MARITIME BORDER WITH THAILAND, MYANMAR AND INDONESIA.\\n\\nMODERN HUMANS ARRIVED ON THE INDIAN SUBCONTINENT FROM AFRICA NO LATER THAN 55,000 YEARS AGO.[27][28][29] THEIR LONG OCCUPATION, INITIALLY IN VARYING FORMS OF ISOLATION AS HUNTER-GATHERERS, HAS MADE THE REGION HIGHLY DIVERSE, SECOND ONLY TO AFRICA IN HUMAN GENETIC DIVERSITY.[30] SETTLED LIFE EMERGED ON THE SUBCONTINENT IN THE WESTERN MARGINS OF THE INDUS RIVER BASIN 9,000 YEARS AGO, EVOLVING GRADUALLY INTO THE INDUS VALLEY CIVILISATION OF THE THIRD MILLENNIUM BCE.[31] BY 1200 BCE, AN ARCHAIC FORM OF SANSKRIT, AN INDO-EUROPEAN LANGUAGE, HAD DIFFUSED INTO INDIA FROM THE NORTHWEST,[32][33] UNFOLDING AS THE LANGUAGE OF THE RIGVEDA, AND RECORDING THE DAWNING OF HINDUISM IN INDIA.[34] THE DRAVIDIAN LANGUAGES OF INDIA WERE SUPPLANTED IN THE NORTHERN AND WESTERN REGIONS.[35] BY 400 BCE, STRATIFICATION AND EXCLUSION BY CASTE HAD EMERGED WITHIN HINDUISM,[36] AND BUDDHISM AND JAINISM HAD ARISEN, PROCLAIMING SOCIAL ORDERS UNLINKED TO HEREDITY.[37] EARLY POLITICAL CONSOLIDATIONS GAVE RISE TO THE LOOSE-KNIT MAURYA AND GUPTA EMPIRES BASED IN THE GANGES BASIN.[38] THEIR COLLECTIVE ERA WAS SUFFUSED WITH WIDE-RANGING CREATIVITY,[39] BUT ALSO MARKED BY THE DECLINING STATUS OF WOMEN,[40] AND THE INCORPORATION OF UNTOUCHABILITY INTO AN ORGANISED SYSTEM OF BELIEF.[G][41] IN SOUTH INDIA, THE MIDDLE KINGDOMS EXPORTED DRAVIDIAN-LANGUAGES SCRIPTS AND RELIGIOUS CULTURES TO THE KINGDOMS OF SOUTHEAST ASIA.[42]\\n\\nIN THE EARLY MEDIEVAL ERA, CHRISTIANITY, ISLAM, JUDAISM, AND ZOROASTRIANISM BECAME ESTABLISHED ON INDIA'S SOUTHERN AND WESTERN COASTS.[43] MUSLIM ARMIES FROM CENTRAL ASIA INTERMITTENTLY OVERRAN INDIA'S NORTHERN PLAINS,[44] EVENTUALLY FOUNDING THE DELHI SULTANATE, AND DRAWING NORTHERN INDIA INTO THE COSMOPOLITAN NETWORKS OF MEDIEVAL ISLAM.[45] IN THE 15TH CENTURY, THE VIJAYANAGARA EMPIRE CREATED A LONG-LASTING COMPOSITE HINDU CULTURE IN SOUTH INDIA.[46] IN THE PUNJAB, SIKHISM EMERGED, REJECTING INSTITUTIONALISED RELIGION.[47] THE MUGHAL EMPIRE, IN 1526, USHERED IN TWO CENTURIES OF RELATIVE PEACE,[48] LEAVING A LEGACY OF LUMINOUS ARCHITECTURE.[H][49] GRADUALLY EXPANDING RULE OF THE BRITISH EAST INDIA COMPANY FOLLOWED, TURNING INDIA INTO A COLONIAL ECONOMY, BUT ALSO CONSOLIDATING ITS SOVEREIGNTY.[50] BRITISH CROWN RULE BEGAN IN 1858. THE RIGHTS PROMISED TO INDIANS WERE GRANTED SLOWLY,[51][52] BUT TECHNOLOGICAL CHANGES WERE INTRODUCED, AND IDEAS OF EDUCATION, MODERNITY AND THE PUBLIC LIFE TOOK ROOT.[53] A PIONEERING AND INFLUENTIAL NATIONALIST MOVEMENT EMERGED, WHICH WAS NOTED FOR NONVIOLENT RESISTANCE AND BECAME THE MAJOR FACTOR IN ENDING BRITISH RULE.[54][55] IN 1947 THE BRITISH INDIAN EMPIRE WAS PARTITIONED INTO TWO INDEPENDENT DOMINIONS,[56][57][58][59] A HINDU-MAJORITY DOMINION OF INDIA AND A MUSLIM-MAJORITY DOMINION OF PAKISTAN, AMID LARGE-SCALE LOSS OF LIFE AND AN UNPRECEDENTED MIGRATION.[60]\""
      ]
     },
     "execution_count": 50,
     "metadata": {},
     "output_type": "execute_result"
    }
   ],
   "source": [
    "Sw1.upper()"
   ]
  },
  {
   "cell_type": "code",
   "execution_count": 51,
   "id": "158c512c",
   "metadata": {},
   "outputs": [],
   "source": [
    "sw2=Sw1.upper()##re-assingment"
   ]
  },
  {
   "cell_type": "code",
   "execution_count": 52,
   "id": "dee3deb2",
   "metadata": {},
   "outputs": [
    {
     "data": {
      "text/plain": [
       "\"INDIA, OFFICIALLY THE REPUBLIC OF INDIA (HINDI: BHĀRAT GAṆARĀJYA),[26] IS A COUNTRY IN SOUTH ASIA. IT IS THE SEVENTH-LARGEST COUNTRY BY AREA, THE SECOND-MOST POPULOUS COUNTRY, AND THE MOST POPULOUS DEMOCRACY IN THE WORLD. BOUNDED BY THE INDIAN OCEAN ON THE SOUTH, THE ARABIAN SEA ON THE SOUTHWEST, AND THE BAY OF BENGAL ON THE SOUTHEAST, IT SHARES LAND BORDERS WITH PAKISTAN TO THE WEST;[F] CHINA, NEPAL, AND BHUTAN TO THE NORTH; AND BANGLADESH AND MYANMAR TO THE EAST. IN THE INDIAN OCEAN, INDIA IS IN THE VICINITY OF SRI LANKA AND THE MALDIVES; ITS ANDAMAN AND NICOBAR ISLANDS SHARE A MARITIME BORDER WITH THAILAND, MYANMAR AND INDONESIA.\\n\\nMODERN HUMANS ARRIVED ON THE INDIAN SUBCONTINENT FROM AFRICA NO LATER THAN 55,000 YEARS AGO.[27][28][29] THEIR LONG OCCUPATION, INITIALLY IN VARYING FORMS OF ISOLATION AS HUNTER-GATHERERS, HAS MADE THE REGION HIGHLY DIVERSE, SECOND ONLY TO AFRICA IN HUMAN GENETIC DIVERSITY.[30] SETTLED LIFE EMERGED ON THE SUBCONTINENT IN THE WESTERN MARGINS OF THE INDUS RIVER BASIN 9,000 YEARS AGO, EVOLVING GRADUALLY INTO THE INDUS VALLEY CIVILISATION OF THE THIRD MILLENNIUM BCE.[31] BY 1200 BCE, AN ARCHAIC FORM OF SANSKRIT, AN INDO-EUROPEAN LANGUAGE, HAD DIFFUSED INTO INDIA FROM THE NORTHWEST,[32][33] UNFOLDING AS THE LANGUAGE OF THE RIGVEDA, AND RECORDING THE DAWNING OF HINDUISM IN INDIA.[34] THE DRAVIDIAN LANGUAGES OF INDIA WERE SUPPLANTED IN THE NORTHERN AND WESTERN REGIONS.[35] BY 400 BCE, STRATIFICATION AND EXCLUSION BY CASTE HAD EMERGED WITHIN HINDUISM,[36] AND BUDDHISM AND JAINISM HAD ARISEN, PROCLAIMING SOCIAL ORDERS UNLINKED TO HEREDITY.[37] EARLY POLITICAL CONSOLIDATIONS GAVE RISE TO THE LOOSE-KNIT MAURYA AND GUPTA EMPIRES BASED IN THE GANGES BASIN.[38] THEIR COLLECTIVE ERA WAS SUFFUSED WITH WIDE-RANGING CREATIVITY,[39] BUT ALSO MARKED BY THE DECLINING STATUS OF WOMEN,[40] AND THE INCORPORATION OF UNTOUCHABILITY INTO AN ORGANISED SYSTEM OF BELIEF.[G][41] IN SOUTH INDIA, THE MIDDLE KINGDOMS EXPORTED DRAVIDIAN-LANGUAGES SCRIPTS AND RELIGIOUS CULTURES TO THE KINGDOMS OF SOUTHEAST ASIA.[42]\\n\\nIN THE EARLY MEDIEVAL ERA, CHRISTIANITY, ISLAM, JUDAISM, AND ZOROASTRIANISM BECAME ESTABLISHED ON INDIA'S SOUTHERN AND WESTERN COASTS.[43] MUSLIM ARMIES FROM CENTRAL ASIA INTERMITTENTLY OVERRAN INDIA'S NORTHERN PLAINS,[44] EVENTUALLY FOUNDING THE DELHI SULTANATE, AND DRAWING NORTHERN INDIA INTO THE COSMOPOLITAN NETWORKS OF MEDIEVAL ISLAM.[45] IN THE 15TH CENTURY, THE VIJAYANAGARA EMPIRE CREATED A LONG-LASTING COMPOSITE HINDU CULTURE IN SOUTH INDIA.[46] IN THE PUNJAB, SIKHISM EMERGED, REJECTING INSTITUTIONALISED RELIGION.[47] THE MUGHAL EMPIRE, IN 1526, USHERED IN TWO CENTURIES OF RELATIVE PEACE,[48] LEAVING A LEGACY OF LUMINOUS ARCHITECTURE.[H][49] GRADUALLY EXPANDING RULE OF THE BRITISH EAST INDIA COMPANY FOLLOWED, TURNING INDIA INTO A COLONIAL ECONOMY, BUT ALSO CONSOLIDATING ITS SOVEREIGNTY.[50] BRITISH CROWN RULE BEGAN IN 1858. THE RIGHTS PROMISED TO INDIANS WERE GRANTED SLOWLY,[51][52] BUT TECHNOLOGICAL CHANGES WERE INTRODUCED, AND IDEAS OF EDUCATION, MODERNITY AND THE PUBLIC LIFE TOOK ROOT.[53] A PIONEERING AND INFLUENTIAL NATIONALIST MOVEMENT EMERGED, WHICH WAS NOTED FOR NONVIOLENT RESISTANCE AND BECAME THE MAJOR FACTOR IN ENDING BRITISH RULE.[54][55] IN 1947 THE BRITISH INDIAN EMPIRE WAS PARTITIONED INTO TWO INDEPENDENT DOMINIONS,[56][57][58][59] A HINDU-MAJORITY DOMINION OF INDIA AND A MUSLIM-MAJORITY DOMINION OF PAKISTAN, AMID LARGE-SCALE LOSS OF LIFE AND AN UNPRECEDENTED MIGRATION.[60]\""
      ]
     },
     "execution_count": 52,
     "metadata": {},
     "output_type": "execute_result"
    }
   ],
   "source": [
    "sw2"
   ]
  },
  {
   "cell_type": "code",
   "execution_count": 53,
   "id": "8e8e9011",
   "metadata": {},
   "outputs": [
    {
     "data": {
      "text/plain": [
       "'Muskan'"
      ]
     },
     "execution_count": 53,
     "metadata": {},
     "output_type": "execute_result"
    }
   ],
   "source": [
    "s=\"muskan\"\n",
    "s.title()"
   ]
  },
  {
   "cell_type": "code",
   "execution_count": 54,
   "id": "bd7660b5",
   "metadata": {},
   "outputs": [
    {
     "data": {
      "text/plain": [
       "'Muskan sinha'"
      ]
     },
     "execution_count": 54,
     "metadata": {},
     "output_type": "execute_result"
    }
   ],
   "source": [
    "s='muskan sinha'\n",
    "s.capitalize()"
   ]
  },
  {
   "cell_type": "code",
   "execution_count": 55,
   "id": "4fe47494",
   "metadata": {},
   "outputs": [
    {
     "data": {
      "text/plain": [
       "'MUSKAN SINHA'"
      ]
     },
     "execution_count": 55,
     "metadata": {},
     "output_type": "execute_result"
    }
   ],
   "source": [
    "s.swapcase()"
   ]
  },
  {
   "cell_type": "code",
   "execution_count": 56,
   "id": "619deefb",
   "metadata": {},
   "outputs": [
    {
     "data": {
      "text/plain": [
       "<reversed at 0x37faf34ac0>"
      ]
     },
     "execution_count": 56,
     "metadata": {},
     "output_type": "execute_result"
    }
   ],
   "source": [
    "reversed(s)##will create object that we wont be able to see"
   ]
  },
  {
   "cell_type": "code",
   "execution_count": 57,
   "id": "2da7a469",
   "metadata": {},
   "outputs": [
    {
     "data": {
      "text/plain": [
       "'ahnis naksum'"
      ]
     },
     "execution_count": 57,
     "metadata": {},
     "output_type": "execute_result"
    }
   ],
   "source": [
    "''.join(reversed(s))## to see the reversed object##join operation with reverse to revesre the string"
   ]
  },
  {
   "cell_type": "code",
   "execution_count": 58,
   "id": "76ca315c",
   "metadata": {},
   "outputs": [
    {
     "data": {
      "text/plain": [
       "'ahnis naksum'"
      ]
     },
     "execution_count": 58,
     "metadata": {},
     "output_type": "execute_result"
    }
   ],
   "source": [
    "s[::-1]## reverse operation"
   ]
  },
  {
   "cell_type": "code",
   "execution_count": 59,
   "id": "8d1b8d15",
   "metadata": {},
   "outputs": [
    {
     "data": {
      "text/plain": [
       "'muskasn'"
      ]
     },
     "execution_count": 59,
     "metadata": {},
     "output_type": "execute_result"
    }
   ],
   "source": [
    "s=\"   muskasn  \"\n",
    "s.strip()"
   ]
  },
  {
   "cell_type": "code",
   "execution_count": 60,
   "id": "4cf144a9",
   "metadata": {},
   "outputs": [
    {
     "data": {
      "text/plain": [
       "'muskasn  '"
      ]
     },
     "execution_count": 60,
     "metadata": {},
     "output_type": "execute_result"
    }
   ],
   "source": [
    "s.lstrip()"
   ]
  },
  {
   "cell_type": "code",
   "execution_count": 61,
   "id": "6915f75f",
   "metadata": {},
   "outputs": [
    {
     "data": {
      "text/plain": [
       "'   muskasn'"
      ]
     },
     "execution_count": 61,
     "metadata": {},
     "output_type": "execute_result"
    }
   ],
   "source": [
    "s.rstrip()"
   ]
  },
  {
   "cell_type": "code",
   "execution_count": 62,
   "id": "5e9cdb18",
   "metadata": {},
   "outputs": [
    {
     "data": {
      "text/plain": [
       "'M u s k a n'"
      ]
     },
     "execution_count": 62,
     "metadata": {},
     "output_type": "execute_result"
    }
   ],
   "source": [
    "\" \".join(\"Muskan\")"
   ]
  },
  {
   "cell_type": "code",
   "execution_count": 63,
   "id": "e25ef911",
   "metadata": {},
   "outputs": [
    {
     "data": {
      "text/plain": [
       "'Mauasakaaan'"
      ]
     },
     "execution_count": 63,
     "metadata": {},
     "output_type": "execute_result"
    }
   ],
   "source": [
    "\"a\".join(\"Muskan\")"
   ]
  },
  {
   "cell_type": "code",
   "execution_count": 64,
   "id": "9d4e8fef",
   "metadata": {},
   "outputs": [
    {
     "data": {
      "text/plain": [
       "'zzzzzzzMuskanzzzzzzz'"
      ]
     },
     "execution_count": 64,
     "metadata": {},
     "output_type": "execute_result"
    }
   ],
   "source": [
    "ss=\"Muskan\"\n",
    "ss.center(20,\"z\")"
   ]
  },
  {
   "cell_type": "code",
   "execution_count": 65,
   "id": "7326611b",
   "metadata": {},
   "outputs": [],
   "source": [
    "## difference b/w isdigit() and isNumeric() ?"
   ]
  },
  {
   "cell_type": "code",
   "execution_count": 66,
   "id": "0bf1cd48",
   "metadata": {},
   "outputs": [
    {
     "data": {
      "text/plain": [
       "'sudhnshu        kuamr   ineuron'"
      ]
     },
     "execution_count": 66,
     "metadata": {},
     "output_type": "execute_result"
    }
   ],
   "source": [
    "s=\"sudhnshu\\tkuamr\\tineuron\"\n",
    "s.expandtabs()"
   ]
  },
  {
   "cell_type": "code",
   "execution_count": null,
   "id": "72b15348",
   "metadata": {},
   "outputs": [],
   "source": []
  }
 ],
 "metadata": {
  "kernelspec": {
   "display_name": "Python 3 (ipykernel)",
   "language": "python",
   "name": "python3"
  },
  "language_info": {
   "codemirror_mode": {
    "name": "ipython",
    "version": 3
   },
   "file_extension": ".py",
   "mimetype": "text/x-python",
   "name": "python",
   "nbconvert_exporter": "python",
   "pygments_lexer": "ipython3",
   "version": "3.9.12"
  }
 },
 "nbformat": 4,
 "nbformat_minor": 5
}
