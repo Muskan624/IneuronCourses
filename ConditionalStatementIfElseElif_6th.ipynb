{
 "cells": [
  {
   "cell_type": "code",
   "execution_count": 1,
   "id": "ee80cad4",
   "metadata": {},
   "outputs": [
    {
     "name": "stdout",
     "output_type": "stream",
     "text": [
      "This is my first condition \n"
     ]
    }
   ],
   "source": [
    "a=10\n",
    "if a==10:\n",
    "    print(\"This is my first condition \")"
   ]
  },
  {
   "cell_type": "code",
   "execution_count": 2,
   "id": "84269c3c",
   "metadata": {},
   "outputs": [],
   "source": [
    "a=10\n",
    "if a==11:\n",
    "    print(\"This is my fisrt condition\")"
   ]
  },
  {
   "cell_type": "markdown",
   "id": "2732adb2",
   "metadata": {},
   "source": [
    "== :comparison operator\n",
    "=:assingment opeartor"
   ]
  },
  {
   "cell_type": "code",
   "execution_count": null,
   "id": "bc992450",
   "metadata": {},
   "outputs": [],
   "source": [
    "a=10\n",
    "if a>5 :\n",
    "    pass"
   ]
  },
  {
   "cell_type": "raw",
   "id": "245a4583",
   "metadata": {},
   "source": [
    "Pass is used to simply pass the condition without wrtitng any code ar any task."
   ]
  },
  {
   "cell_type": "code",
   "execution_count": 3,
   "id": "848fd2fc",
   "metadata": {},
   "outputs": [
    {
     "name": "stdout",
     "output_type": "stream",
     "text": [
      "My condition is false\n"
     ]
    }
   ],
   "source": [
    "a=10\n",
    "if a !=11:\n",
    "    print(\"My condition is false\")\n",
    "else:\n",
    "    print(\"MY condition is true\")\n",
    "    "
   ]
  },
  {
   "cell_type": "code",
   "execution_count": 4,
   "id": "31221a23",
   "metadata": {},
   "outputs": [
    {
     "name": "stdout",
     "output_type": "stream",
     "text": [
      "This condition is true\n"
     ]
    }
   ],
   "source": [
    "a=10\n",
    "if a==10:\n",
    "    print(\"This condition is true\")\n",
    "else:\n",
    "    print(\"This condition is false\")"
   ]
  },
  {
   "cell_type": "code",
   "execution_count": 5,
   "id": "b609d270",
   "metadata": {},
   "outputs": [],
   "source": [
    "##elif for multiple conditions"
   ]
  },
  {
   "cell_type": "code",
   "execution_count": 7,
   "id": "e7cceddd",
   "metadata": {},
   "outputs": [
    {
     "name": "stdout",
     "output_type": "stream",
     "text": [
      "Yes\n"
     ]
    }
   ],
   "source": [
    "a=10\n",
    "if a==12:\n",
    "    print(\"Comparing  10 with 12\")\n",
    "elif a==11:\n",
    "    print(\"compsring 10 with 11\")\n",
    "else:\n",
    "    print(\"Yes\")"
   ]
  },
  {
   "cell_type": "code",
   "execution_count": 8,
   "id": "c7f72bf7",
   "metadata": {},
   "outputs": [
    {
     "name": "stdout",
     "output_type": "stream",
     "text": [
      "Yes can buy\n"
     ]
    }
   ],
   "source": [
    "price=500\n",
    "if price>500:\n",
    "    print(\"wont be able to buy\")\n",
    "elif price<=500:\n",
    "    print(\"Yes can buy\")"
   ]
  },
  {
   "cell_type": "code",
   "execution_count": 9,
   "id": "d7042e6c",
   "metadata": {},
   "outputs": [
    {
     "ename": "SyntaxError",
     "evalue": "invalid syntax (1592900665.py, line 6)",
     "output_type": "error",
     "traceback": [
      "\u001b[1;36m  Input \u001b[1;32mIn [9]\u001b[1;36m\u001b[0m\n\u001b[1;33m    else price==500\u001b[0m\n\u001b[1;37m         ^\u001b[0m\n\u001b[1;31mSyntaxError\u001b[0m\u001b[1;31m:\u001b[0m invalid syntax\n"
     ]
    }
   ],
   "source": [
    "price=500\n",
    "if price>500:\n",
    "    print(\"wont be able to buy\")\n",
    "elif price<500:\n",
    "    print(\"Yes can buy\")\n",
    "else price==500  ## we can not give any condition in else condition\n",
    "    print(\"Can Buy\")"
   ]
  },
  {
   "cell_type": "code",
   "execution_count": 12,
   "id": "d4542c36",
   "metadata": {},
   "outputs": [
    {
     "name": "stdout",
     "output_type": "stream",
     "text": [
      "correct\n"
     ]
    }
   ],
   "source": [
    "a=[1,2,3,4]\n",
    "if 2 in a:\n",
    "    print(\"correct\")\n",
    "else:\n",
    "    print(\"Incorrect\")"
   ]
  },
  {
   "cell_type": "code",
   "execution_count": 13,
   "id": "3c25107c",
   "metadata": {},
   "outputs": [
    {
     "name": "stdout",
     "output_type": "stream",
     "text": [
      "bhjbgh\n"
     ]
    }
   ],
   "source": [
    "if 60 in a:\n",
    "    print(\"fbvbk\")\n",
    "else:\n",
    "    print(\"bhjbgh\")"
   ]
  },
  {
   "cell_type": "code",
   "execution_count": 14,
   "id": "88e8bfd9",
   "metadata": {},
   "outputs": [
    {
     "name": "stdout",
     "output_type": "stream",
     "text": [
      "Yes\n"
     ]
    }
   ],
   "source": [
    "if 1 in a:   ## if the condition is true than if will excecute an dit will not bother about the other true condtions.\n",
    "    print(\"Yes\")\n",
    "elif 2 in a:\n",
    "    print(\"No\")\n",
    "elif 3 in 2:\n",
    "    print(\"Yes/No\")"
   ]
  },
  {
   "cell_type": "code",
   "execution_count": 16,
   "id": "55aa6f4a",
   "metadata": {},
   "outputs": [
    {
     "name": "stdout",
     "output_type": "stream",
     "text": [
      "No\n",
      "jhcbd\n"
     ]
    }
   ],
   "source": [
    "if 10 in a:  \n",
    "    print(\"Yes\")\n",
    "elif 2 in a:\n",
    "    print(\"No\")\n",
    "elif 3 in 2:\n",
    "    print(\"Yes/No\")\n",
    "if 4 in a:  ## will be treated as complete new block\n",
    "    print(\"jhcbd\")"
   ]
  },
  {
   "cell_type": "code",
   "execution_count": 18,
   "id": "6e711ffe",
   "metadata": {},
   "outputs": [
    {
     "ename": "KeyboardInterrupt",
     "evalue": "Interrupted by user",
     "output_type": "error",
     "traceback": [
      "\u001b[1;31m---------------------------------------------------------------------------\u001b[0m",
      "\u001b[1;31mKeyboardInterrupt\u001b[0m                         Traceback (most recent call last)",
      "Input \u001b[1;32mIn [18]\u001b[0m, in \u001b[0;36m<cell line: 1>\u001b[1;34m()\u001b[0m\n\u001b[1;32m----> 1\u001b[0m b\u001b[38;5;241m=\u001b[39m\u001b[38;5;28mint\u001b[39m(\u001b[38;5;28;43minput\u001b[39;49m\u001b[43m(\u001b[49m\u001b[43m)\u001b[49m)\n",
      "File \u001b[1;32m~\\anaconda3\\lib\\site-packages\\ipykernel\\kernelbase.py:1075\u001b[0m, in \u001b[0;36mKernel.raw_input\u001b[1;34m(self, prompt)\u001b[0m\n\u001b[0;32m   1071\u001b[0m \u001b[38;5;28;01mif\u001b[39;00m \u001b[38;5;129;01mnot\u001b[39;00m \u001b[38;5;28mself\u001b[39m\u001b[38;5;241m.\u001b[39m_allow_stdin:\n\u001b[0;32m   1072\u001b[0m     \u001b[38;5;28;01mraise\u001b[39;00m StdinNotImplementedError(\n\u001b[0;32m   1073\u001b[0m         \u001b[38;5;124m\"\u001b[39m\u001b[38;5;124mraw_input was called, but this frontend does not support input requests.\u001b[39m\u001b[38;5;124m\"\u001b[39m\n\u001b[0;32m   1074\u001b[0m     )\n\u001b[1;32m-> 1075\u001b[0m \u001b[38;5;28;01mreturn\u001b[39;00m \u001b[38;5;28;43mself\u001b[39;49m\u001b[38;5;241;43m.\u001b[39;49m\u001b[43m_input_request\u001b[49m\u001b[43m(\u001b[49m\n\u001b[0;32m   1076\u001b[0m \u001b[43m    \u001b[49m\u001b[38;5;28;43mstr\u001b[39;49m\u001b[43m(\u001b[49m\u001b[43mprompt\u001b[49m\u001b[43m)\u001b[49m\u001b[43m,\u001b[49m\n\u001b[0;32m   1077\u001b[0m \u001b[43m    \u001b[49m\u001b[38;5;28;43mself\u001b[39;49m\u001b[38;5;241;43m.\u001b[39;49m\u001b[43m_parent_ident\u001b[49m\u001b[43m[\u001b[49m\u001b[38;5;124;43m\"\u001b[39;49m\u001b[38;5;124;43mshell\u001b[39;49m\u001b[38;5;124;43m\"\u001b[39;49m\u001b[43m]\u001b[49m\u001b[43m,\u001b[49m\n\u001b[0;32m   1078\u001b[0m \u001b[43m    \u001b[49m\u001b[38;5;28;43mself\u001b[39;49m\u001b[38;5;241;43m.\u001b[39;49m\u001b[43mget_parent\u001b[49m\u001b[43m(\u001b[49m\u001b[38;5;124;43m\"\u001b[39;49m\u001b[38;5;124;43mshell\u001b[39;49m\u001b[38;5;124;43m\"\u001b[39;49m\u001b[43m)\u001b[49m\u001b[43m,\u001b[49m\n\u001b[0;32m   1079\u001b[0m \u001b[43m    \u001b[49m\u001b[43mpassword\u001b[49m\u001b[38;5;241;43m=\u001b[39;49m\u001b[38;5;28;43;01mFalse\u001b[39;49;00m\u001b[43m,\u001b[49m\n\u001b[0;32m   1080\u001b[0m \u001b[43m\u001b[49m\u001b[43m)\u001b[49m\n",
      "File \u001b[1;32m~\\anaconda3\\lib\\site-packages\\ipykernel\\kernelbase.py:1120\u001b[0m, in \u001b[0;36mKernel._input_request\u001b[1;34m(self, prompt, ident, parent, password)\u001b[0m\n\u001b[0;32m   1117\u001b[0m             \u001b[38;5;28;01mbreak\u001b[39;00m\n\u001b[0;32m   1118\u001b[0m \u001b[38;5;28;01mexcept\u001b[39;00m \u001b[38;5;167;01mKeyboardInterrupt\u001b[39;00m:\n\u001b[0;32m   1119\u001b[0m     \u001b[38;5;66;03m# re-raise KeyboardInterrupt, to truncate traceback\u001b[39;00m\n\u001b[1;32m-> 1120\u001b[0m     \u001b[38;5;28;01mraise\u001b[39;00m \u001b[38;5;167;01mKeyboardInterrupt\u001b[39;00m(\u001b[38;5;124m\"\u001b[39m\u001b[38;5;124mInterrupted by user\u001b[39m\u001b[38;5;124m\"\u001b[39m) \u001b[38;5;28;01mfrom\u001b[39;00m \u001b[38;5;28mNone\u001b[39m\n\u001b[0;32m   1121\u001b[0m \u001b[38;5;28;01mexcept\u001b[39;00m \u001b[38;5;167;01mException\u001b[39;00m:\n\u001b[0;32m   1122\u001b[0m     \u001b[38;5;28mself\u001b[39m\u001b[38;5;241m.\u001b[39mlog\u001b[38;5;241m.\u001b[39mwarning(\u001b[38;5;124m\"\u001b[39m\u001b[38;5;124mInvalid Message:\u001b[39m\u001b[38;5;124m\"\u001b[39m, exc_info\u001b[38;5;241m=\u001b[39m\u001b[38;5;28;01mTrue\u001b[39;00m)\n",
      "\u001b[1;31mKeyboardInterrupt\u001b[0m: Interrupted by user"
     ]
    }
   ],
   "source": [
    "b=int(input())## by default input function always convert input in string format"
   ]
  },
  {
   "cell_type": "code",
   "execution_count": 19,
   "id": "feacaa69",
   "metadata": {},
   "outputs": [
    {
     "ename": "NameError",
     "evalue": "name 'b' is not defined",
     "output_type": "error",
     "traceback": [
      "\u001b[1;31m---------------------------------------------------------------------------\u001b[0m",
      "\u001b[1;31mNameError\u001b[0m                                 Traceback (most recent call last)",
      "Input \u001b[1;32mIn [19]\u001b[0m, in \u001b[0;36m<cell line: 1>\u001b[1;34m()\u001b[0m\n\u001b[1;32m----> 1\u001b[0m \u001b[38;5;28mtype\u001b[39m(\u001b[43mb\u001b[49m)\n",
      "\u001b[1;31mNameError\u001b[0m: name 'b' is not defined"
     ]
    }
   ],
   "source": [
    "type(b)"
   ]
  },
  {
   "cell_type": "code",
   "execution_count": 20,
   "id": "6fba0bad",
   "metadata": {},
   "outputs": [
    {
     "name": "stdout",
     "output_type": "stream",
     "text": [
      "6435\n"
     ]
    }
   ],
   "source": [
    "b=int(input())"
   ]
  },
  {
   "cell_type": "code",
   "execution_count": 21,
   "id": "b6f5f120",
   "metadata": {},
   "outputs": [
    {
     "data": {
      "text/plain": [
       "int"
      ]
     },
     "execution_count": 21,
     "metadata": {},
     "output_type": "execute_result"
    }
   ],
   "source": [
    "type(b)"
   ]
  },
  {
   "cell_type": "code",
   "execution_count": 22,
   "id": "e38d55d2",
   "metadata": {},
   "outputs": [
    {
     "name": "stdout",
     "output_type": "stream",
     "text": [
      "dsfjsh\n"
     ]
    },
    {
     "ename": "ValueError",
     "evalue": "invalid literal for int() with base 10: 'dsfjsh'",
     "output_type": "error",
     "traceback": [
      "\u001b[1;31m---------------------------------------------------------------------------\u001b[0m",
      "\u001b[1;31mValueError\u001b[0m                                Traceback (most recent call last)",
      "Input \u001b[1;32mIn [22]\u001b[0m, in \u001b[0;36m<cell line: 1>\u001b[1;34m()\u001b[0m\n\u001b[1;32m----> 1\u001b[0m b\u001b[38;5;241m=\u001b[39m\u001b[38;5;28;43mint\u001b[39;49m\u001b[43m(\u001b[49m\u001b[38;5;28;43minput\u001b[39;49m\u001b[43m(\u001b[49m\u001b[43m)\u001b[49m\u001b[43m)\u001b[49m\n",
      "\u001b[1;31mValueError\u001b[0m: invalid literal for int() with base 10: 'dsfjsh'"
     ]
    }
   ],
   "source": [
    "b=int(input())"
   ]
  },
  {
   "cell_type": "markdown",
   "id": "b562e024",
   "metadata": {},
   "source": [
    "# nested if block"
   ]
  },
  {
   "cell_type": "code",
   "execution_count": 29,
   "id": "0f5c1888",
   "metadata": {},
   "outputs": [
    {
     "name": "stdout",
     "output_type": "stream",
     "text": [
      "600\n",
      "I wont be able to buy anything\n",
      "something else\n"
     ]
    }
   ],
   "source": [
    "c=int(input())\n",
    "if c<500:\n",
    "    print(\"will buy something\")\n",
    "    if c<400:\n",
    "        print(\"Pant\")\n",
    "    elif c<300:\n",
    "        print(\"Shirt\")\n",
    "    else:\n",
    "        print(\"Tie\")\n",
    "else:\n",
    "    print(\"I wont be able to buy anything\")\n",
    "    if c>500:\n",
    "        print(\"something else\")"
   ]
  },
  {
   "cell_type": "code",
   "execution_count": 35,
   "id": "bddd9423",
   "metadata": {
    "scrolled": true
   },
   "outputs": [
    {
     "name": "stdout",
     "output_type": "stream",
     "text": [
      "300\n",
      "NO admission in Gre\n",
      "Get admission in Toffle\n",
      "Try something else\n"
     ]
    }
   ],
   "source": [
    "marks=int(input())\n",
    "if marks<600:\n",
    "    print(\"NO admission in Gre\")\n",
    "    if marks<500:\n",
    "        print(\"Get admission in Toffle\")\n",
    "        if marks<400:\n",
    "            print(\"Try something else\")\n",
    "            \n",
    "        else:\n",
    "            (\"you got toffle\")\n",
    "else:\n",
    "    print(\"Get admission in GRE\")"
   ]
  },
  {
   "cell_type": "code",
   "execution_count": 40,
   "id": "b5f85f29",
   "metadata": {},
   "outputs": [
    {
     "name": "stdout",
     "output_type": "stream",
     "text": [
      "Emter a number : 0\n",
      "positive number\n",
      "enterted number is 0\n"
     ]
    }
   ],
   "source": [
    "a=float(input(\"Emter a number : \"))\n",
    "if a>=0:\n",
    "    print(\"positive number\")\n",
    "    if a==0:\n",
    "        print(\"enterted number is 0\")\n",
    "    else:\n",
    "        print(\"Entered number is positive number\")\n",
    "else:\n",
    "    print(\"Entered number is negative number\")"
   ]
  },
  {
   "cell_type": "code",
   "execution_count": 41,
   "id": "36a5aa58",
   "metadata": {},
   "outputs": [
    {
     "name": "stdout",
     "output_type": "stream",
     "text": [
      "done\n"
     ]
    }
   ],
   "source": [
    "a=10\n",
    "if a>10 or a==10:\n",
    "    print(\"done\")"
   ]
  },
  {
   "cell_type": "code",
   "execution_count": 43,
   "id": "a75a389c",
   "metadata": {},
   "outputs": [],
   "source": [
    "a=\"Muskan\"#True adn False:False\n",
    "if a==\"Muskan\"and a==\"muskan\":\n",
    "    print(\"bhdcj\")"
   ]
  },
  {
   "cell_type": "code",
   "execution_count": 45,
   "id": "396898fd",
   "metadata": {},
   "outputs": [],
   "source": [
    "a=10\n",
    "b=12\n",
    "c=13\n",
    "d=14\n",
    "if a==9 and b==11 and c==13 and d==14:\n",
    "    print(\"Something\")"
   ]
  },
  {
   "cell_type": "code",
   "execution_count": 51,
   "id": "ccb66811",
   "metadata": {},
   "outputs": [
    {
     "name": "stdout",
     "output_type": "stream",
     "text": [
      "Something\n"
     ]
    }
   ],
   "source": [
    "a=10\n",
    "b=12\n",
    "c=13\n",
    "d=14\n",
    "if a==10 or b==11 and c==13 and d==14:\n",
    "    print(\"Something\")"
   ]
  },
  {
   "cell_type": "code",
   "execution_count": 53,
   "id": "57bc9ed5",
   "metadata": {},
   "outputs": [
    {
     "name": "stdout",
     "output_type": "stream",
     "text": [
      "all values are correct\n",
      "dict_values(['Sudh', 'MUskan', 'Ineuron'])\n"
     ]
    }
   ],
   "source": [
    "d={\"key1\":\"Sudh\",\"key2\":\"MUskan\",\"key3\":\"Ineuron\"}\n",
    "if d['key1']==\"Sudh\" and d['key2']==\"MUskan\" and d['key3']=='Ineuron':\n",
    "    print(\"all values are correct\")\n",
    "    print(d.values())"
   ]
  },
  {
   "cell_type": "code",
   "execution_count": 54,
   "id": "0dc0e773",
   "metadata": {},
   "outputs": [
    {
     "name": "stdout",
     "output_type": "stream",
     "text": [
      "values are not correct\n"
     ]
    }
   ],
   "source": [
    "d={\"key1\":\"Sudh\",\"key2\":\"Muskan\",\"key3\":\"Ineuron\"}\n",
    "if d['key1']==\"Sudh\" and d['key2']==\"MUskan\" and d['key3']=='Ineuron':\n",
    "    print(\"all values are correct\")\n",
    "    print(d.values())\n",
    "else:\n",
    "    print(\"values are not correct\")"
   ]
  },
  {
   "cell_type": "code",
   "execution_count": null,
   "id": "311d358c",
   "metadata": {},
   "outputs": [],
   "source": []
  }
 ],
 "metadata": {
  "kernelspec": {
   "display_name": "Python 3 (ipykernel)",
   "language": "python",
   "name": "python3"
  },
  "language_info": {
   "codemirror_mode": {
    "name": "ipython",
    "version": 3
   },
   "file_extension": ".py",
   "mimetype": "text/x-python",
   "name": "python",
   "nbconvert_exporter": "python",
   "pygments_lexer": "ipython3",
   "version": "3.9.12"
  }
 },
 "nbformat": 4,
 "nbformat_minor": 5
}
