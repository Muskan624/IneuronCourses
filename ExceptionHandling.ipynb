{
 "cells": [
  {
   "cell_type": "raw",
   "id": "7c6df3fa",
   "metadata": {},
   "source": [
    "exception Handlig is used to handle error while run time\n",
    "there are two types of error :\n",
    "compile time error.\n",
    "run time error\n",
    "\n",
    "COmpile time error: syntax error\n"
   ]
  },
  {
   "cell_type": "raw",
   "id": "ac893b56",
   "metadata": {},
   "source": [
    "Source code --->compiler--->Byte code----->interpreter\n",
    "\n",
    "Compile time error will generate at compiler , we dont need to detect it coz compiler will give messege\n",
    "Runtime error will generate at interpreter and to handle this error is called exception handling."
   ]
  },
  {
   "cell_type": "code",
   "execution_count": 49,
   "id": "a1b08007",
   "metadata": {},
   "outputs": [
    {
     "ename": "SyntaxError",
     "evalue": "unexpected EOF while parsing (3965756235.py, line 5)",
     "output_type": "error",
     "traceback": [
      "\u001b[1;36m  Input \u001b[1;32mIn [49]\u001b[1;36m\u001b[0m\n\u001b[1;33m    print(c\u001b[0m\n\u001b[1;37m           ^\u001b[0m\n\u001b[1;31mSyntaxError\u001b[0m\u001b[1;31m:\u001b[0m unexpected EOF while parsing\n"
     ]
    }
   ],
   "source": [
    "## example of compile time error:\n",
    "a=29\n",
    "b=0\n",
    "c= a+b\n",
    "print(c"
   ]
  },
  {
   "cell_type": "code",
   "execution_count": 50,
   "id": "db6262ca",
   "metadata": {},
   "outputs": [
    {
     "ename": "TypeError",
     "evalue": "unsupported operand type(s) for +: 'int' and 'str'",
     "output_type": "error",
     "traceback": [
      "\u001b[1;31m---------------------------------------------------------------------------\u001b[0m",
      "\u001b[1;31mTypeError\u001b[0m                                 Traceback (most recent call last)",
      "Input \u001b[1;32mIn [50]\u001b[0m, in \u001b[0;36m<cell line: 4>\u001b[1;34m()\u001b[0m\n\u001b[0;32m      2\u001b[0m a\u001b[38;5;241m=\u001b[39m\u001b[38;5;241m29\u001b[39m\n\u001b[0;32m      3\u001b[0m b\u001b[38;5;241m=\u001b[39m\u001b[38;5;124m\"\u001b[39m\u001b[38;5;124mg\u001b[39m\u001b[38;5;124m\"\u001b[39m\n\u001b[1;32m----> 4\u001b[0m c\u001b[38;5;241m=\u001b[39m \u001b[43ma\u001b[49m\u001b[38;5;241;43m+\u001b[39;49m\u001b[43mb\u001b[49m\n\u001b[0;32m      5\u001b[0m \u001b[38;5;28mprint\u001b[39m(c)\n",
      "\u001b[1;31mTypeError\u001b[0m: unsupported operand type(s) for +: 'int' and 'str'"
     ]
    }
   ],
   "source": [
    "## example of runtime errror:\n",
    "a=29\n",
    "b=\"g\"     ## all the syntex are correct.\n",
    "c= a+b\n",
    "print(c)"
   ]
  },
  {
   "cell_type": "raw",
   "id": "28270294",
   "metadata": {},
   "source": [
    "this can be called as exception and we will handle it so its called exception handling"
   ]
  },
  {
   "cell_type": "code",
   "execution_count": 2,
   "id": "f9498542",
   "metadata": {},
   "outputs": [
    {
     "name": "stdout",
     "output_type": "stream",
     "text": [
      "enter first number : 10\n",
      "enter another number : 0\n"
     ]
    },
    {
     "ename": "ZeroDivisionError",
     "evalue": "division by zero",
     "output_type": "error",
     "traceback": [
      "\u001b[1;31m---------------------------------------------------------------------------\u001b[0m",
      "\u001b[1;31mZeroDivisionError\u001b[0m                         Traceback (most recent call last)",
      "Input \u001b[1;32mIn [2]\u001b[0m, in \u001b[0;36m<cell line: 3>\u001b[1;34m()\u001b[0m\n\u001b[0;32m      1\u001b[0m a\u001b[38;5;241m=\u001b[39m\u001b[38;5;28mint\u001b[39m(\u001b[38;5;28minput\u001b[39m(\u001b[38;5;124m\"\u001b[39m\u001b[38;5;124menter first number : \u001b[39m\u001b[38;5;124m\"\u001b[39m))\n\u001b[0;32m      2\u001b[0m b\u001b[38;5;241m=\u001b[39m\u001b[38;5;28mint\u001b[39m(\u001b[38;5;28minput\u001b[39m(\u001b[38;5;124m\"\u001b[39m\u001b[38;5;124menter another number : \u001b[39m\u001b[38;5;124m\"\u001b[39m))\n\u001b[1;32m----> 3\u001b[0m c\u001b[38;5;241m=\u001b[39m\u001b[43ma\u001b[49m\u001b[38;5;241;43m/\u001b[39;49m\u001b[43mb\u001b[49m\n\u001b[0;32m      4\u001b[0m \u001b[38;5;28mprint\u001b[39m(c)\n",
      "\u001b[1;31mZeroDivisionError\u001b[0m: division by zero"
     ]
    }
   ],
   "source": [
    "a=int(input(\"enter first number : \"))\n",
    "b=int(input(\"enter another number : \"))\n",
    "c=a/b\n",
    "print(c)"
   ]
  },
  {
   "cell_type": "code",
   "execution_count": 3,
   "id": "c39333c3",
   "metadata": {},
   "outputs": [
    {
     "name": "stdout",
     "output_type": "stream",
     "text": [
      "enter first number : 10\n",
      "enter another number : 0\n"
     ]
    },
    {
     "ename": "ZeroDivisionError",
     "evalue": "division by zero",
     "output_type": "error",
     "traceback": [
      "\u001b[1;31m---------------------------------------------------------------------------\u001b[0m",
      "\u001b[1;31mZeroDivisionError\u001b[0m                         Traceback (most recent call last)",
      "Input \u001b[1;32mIn [3]\u001b[0m, in \u001b[0;36m<cell line: 3>\u001b[1;34m()\u001b[0m\n\u001b[0;32m      1\u001b[0m a\u001b[38;5;241m=\u001b[39m\u001b[38;5;28mint\u001b[39m(\u001b[38;5;28minput\u001b[39m(\u001b[38;5;124m\"\u001b[39m\u001b[38;5;124menter first number : \u001b[39m\u001b[38;5;124m\"\u001b[39m))\n\u001b[0;32m      2\u001b[0m b\u001b[38;5;241m=\u001b[39m\u001b[38;5;28mint\u001b[39m(\u001b[38;5;28minput\u001b[39m(\u001b[38;5;124m\"\u001b[39m\u001b[38;5;124menter another number : \u001b[39m\u001b[38;5;124m\"\u001b[39m))\n\u001b[1;32m----> 3\u001b[0m c\u001b[38;5;241m=\u001b[39m\u001b[43ma\u001b[49m\u001b[38;5;241;43m/\u001b[39;49m\u001b[43mb\u001b[49m\n\u001b[0;32m      4\u001b[0m \u001b[38;5;28mprint\u001b[39m(c)\n\u001b[0;32m      5\u001b[0m d\u001b[38;5;241m=\u001b[39ma\u001b[38;5;241m*\u001b[39mb\n",
      "\u001b[1;31mZeroDivisionError\u001b[0m: division by zero"
     ]
    }
   ],
   "source": [
    "## when exception h amdlig required:\n",
    "## here 10/0 is giving exception because of that d=a*b is also not running although its correct\n",
    "a=int(input(\"enter first number : \"))\n",
    "b=int(input(\"enter another number : \"))\n",
    "c=a/b\n",
    "print(c)\n",
    "d=a*b\n",
    "print(d)"
   ]
  },
  {
   "cell_type": "raw",
   "id": "c014c97d",
   "metadata": {},
   "source": [
    "# reasons for exception handling\n",
    "further code execution will stop.\n",
    "Not user friendl.\n"
   ]
  },
  {
   "cell_type": "raw",
   "id": "c93b7b56",
   "metadata": {},
   "source": [
    "# Keywords to handle exception:\n",
    "try\n",
    "except\n",
    "else\n",
    "raise\n",
    "finally"
   ]
  },
  {
   "cell_type": "raw",
   "id": "5013b91d",
   "metadata": {},
   "source": [
    "always keep those lines of code in try block where there is a chance to get exception\n",
    "and print the ecxception in the except block."
   ]
  },
  {
   "cell_type": "code",
   "execution_count": 4,
   "id": "c4eb6b16",
   "metadata": {},
   "outputs": [
    {
     "name": "stdout",
     "output_type": "stream",
     "text": [
      "enter first number : 10\n",
      "enter another number : 0\n",
      "b should not be zero\n"
     ]
    }
   ],
   "source": [
    "a=int(input(\"enter first number : \"))\n",
    "b=int(input(\"enter another number : \"))\n",
    "try:\n",
    "    c=a/b\n",
    "    print(c)\n",
    "except:\n",
    "    print(\"b should not be zero\")"
   ]
  },
  {
   "cell_type": "code",
   "execution_count": 5,
   "id": "c2fc5870",
   "metadata": {},
   "outputs": [
    {
     "name": "stdout",
     "output_type": "stream",
     "text": [
      "enter first number : 10\n",
      "enter another number : 0\n",
      "b should not be zero\n",
      "0\n"
     ]
    }
   ],
   "source": [
    "a=int(input(\"enter first number : \"))\n",
    "b=int(input(\"enter another number : \"))\n",
    "try:\n",
    "    c=a/b\n",
    "    print(c)\n",
    "except:\n",
    "    print(\"b should not be zero\")\n",
    "d=a*b\n",
    "print(d)"
   ]
  },
  {
   "cell_type": "code",
   "execution_count": 6,
   "id": "c164218a",
   "metadata": {},
   "outputs": [
    {
     "name": "stdout",
     "output_type": "stream",
     "text": [
      "enter first number : 10\n",
      "enter another number : 0\n",
      "b should not be zero\n"
     ]
    }
   ],
   "source": [
    "a=int(input(\"enter first number : \"))\n",
    "b=int(input(\"enter another number : \"))\n",
    "try:\n",
    "    c=a/b\n",
    "    print(c)\n",
    "except ZeroDivisionError:\n",
    "    print(\"b should not be zero\")"
   ]
  },
  {
   "cell_type": "code",
   "execution_count": 7,
   "id": "a4cb9bed",
   "metadata": {},
   "outputs": [
    {
     "ename": "SyntaxError",
     "evalue": "unmatched ')' (858001986.py, line 6)",
     "output_type": "error",
     "traceback": [
      "\u001b[1;36m  Input \u001b[1;32mIn [7]\u001b[1;36m\u001b[0m\n\u001b[1;33m    print(c))\u001b[0m\n\u001b[1;37m            ^\u001b[0m\n\u001b[1;31mSyntaxError\u001b[0m\u001b[1;31m:\u001b[0m unmatched ')'\n"
     ]
    }
   ],
   "source": [
    "## compile time error\n",
    "a=int(input(\"enter first number : \"))\n",
    "b=int(input(\"enter another number : \"))\n",
    "try:\n",
    "    c=a/b\n",
    "    print(c)) ## except is not execxuting since this is compile time error\n",
    "except :\n",
    "    print(\"syntax error\")\n",
    "d=a+b"
   ]
  },
  {
   "cell_type": "code",
   "execution_count": 10,
   "id": "bb2b3bf0",
   "metadata": {},
   "outputs": [
    {
     "name": "stdout",
     "output_type": "stream",
     "text": [
      "enter first number : 10\n",
      "enter another number : 0\n",
      "b should not be zero\n",
      "10\n"
     ]
    }
   ],
   "source": [
    "a=int(input(\"enter first number : \"))\n",
    "b=int(input(\"enter another number : \"))\n",
    "try:\n",
    "    c=a/b\n",
    "    print(c)\n",
    "except ZeroDivisionError:\n",
    "    print(\"b should not be zero\")\n",
    "d=a+b\n",
    "print(d)"
   ]
  },
  {
   "cell_type": "raw",
   "id": "b928c36f",
   "metadata": {},
   "source": [
    "write a program to ask two integer input from user and print their division and make sure that program behaves as follows:\n",
    "- if the user enters a non integer value than ask him to input only integer value\n",
    "-if denominator is zero than ask him to input only non zero value\n",
    "-repeat the prcess untill correct input is given\n",
    "\n",
    "only if the input is correct than show the result and terminate the code.\n",
    "\n",
    "\n"
   ]
  },
  {
   "cell_type": "code",
   "execution_count": 1,
   "id": "5bab6e45",
   "metadata": {},
   "outputs": [
    {
     "name": "stdout",
     "output_type": "stream",
     "text": [
      "enter fisrt numerator : 10\n",
      "enter second denominator : d\n",
      "only integer value excepted\n",
      "enter fisrt numerator : 23\n",
      "enter second denominator : 0\n",
      "Denominator should not be zero\n",
      "enter fisrt numerator : 3432\n",
      "enter second denominator : 435\n",
      "7.889655172413793\n"
     ]
    }
   ],
   "source": [
    "while True:\n",
    "    try:\n",
    "        \n",
    "    \n",
    "        a=int(input(\"enter fisrt numerator : \"))\n",
    "        b=int(input(\"enter second denominator : \"))\n",
    "        c=a/b\n",
    "        print(c)\n",
    "        break\n",
    "        \n",
    "    except ValueError:\n",
    "        \n",
    "        print(\"only integer value excepted\")\n",
    "    ##break\n",
    "    except ZeroDivisionError:\n",
    "        print(\"Denominator should not be zero\")\n",
    "         \n"
   ]
  },
  {
   "cell_type": "code",
   "execution_count": null,
   "id": "74a7bf6e",
   "metadata": {},
   "outputs": [],
   "source": [
    "## fisrt syntex to write multiple except block with one try\n",
    "while True:\n",
    "    \n",
    "    try:\n",
    "        a=int(input(\"Enter a : \"))\n",
    "        b=int(input(\"Enter b : \"))\n",
    "        c=a/b\n",
    "        print(c)\n",
    "        break\n",
    "      \n",
    "    except ZeroDivisionError: \n",
    "        ## except1 ## we can use multiple numbers of except block with one try block. \n",
    "        print(\"b should not be zero\")\n",
    "    except ValueError:## except 2\n",
    "        print(\"PLease enter number only\")\n",
    "    \n",
    "    "
   ]
  },
  {
   "cell_type": "code",
   "execution_count": 30,
   "id": "f9cfaabe",
   "metadata": {},
   "outputs": [
    {
     "name": "stdout",
     "output_type": "stream",
     "text": [
      "Enter a : 2\n",
      "Enter b : 32\n",
      "0.0625\n",
      "34\n"
     ]
    }
   ],
   "source": [
    "## second syntex to write multiple except block with one try block\n",
    "a=int(input(\"Enter a : \"))\n",
    "b=int(input(\"Enter b : \"))\n",
    "try:\n",
    "    c=a/b\n",
    "    print(c)\n",
    "    d=a+b\n",
    "    print(d)\n",
    "except (ZeroDivisionError,TypeError): \n",
    "    print(\"b should not be zero or please input number only\")\n"
   ]
  },
  {
   "cell_type": "code",
   "execution_count": 1,
   "id": "6c8af66c",
   "metadata": {},
   "outputs": [
    {
     "name": "stdout",
     "output_type": "stream",
     "text": [
      "Enter your name : Muskan\n",
      "Muskan\n"
     ]
    }
   ],
   "source": [
    "while True:\n",
    "    name=input(\"Enter your name : \")\n",
    "    if name==\"Muskan\":\n",
    "        print(name)\n",
    "        break\n",
    "    "
   ]
  },
  {
   "cell_type": "code",
   "execution_count": 9,
   "id": "2d5a259d",
   "metadata": {},
   "outputs": [
    {
     "name": "stdout",
     "output_type": "stream",
     "text": [
      "give input : sakj\n",
      "only integers are allowed\n"
     ]
    }
   ],
   "source": [
    "try:\n",
    "    a=(int(input(\"give input : \")))\n",
    "    print(a)\n",
    "except:\n",
    "    print(\"only integers are allowed\")"
   ]
  },
  {
   "cell_type": "code",
   "execution_count": 3,
   "id": "91150ac6",
   "metadata": {},
   "outputs": [
    {
     "name": "stdout",
     "output_type": "stream",
     "text": [
      "enter value of a :4543\n",
      "enter value of b :0\n",
      "division by zero\n",
      "enter value of a :589675\n",
      "enter value of b :45654\n",
      "12.916173829237307\n"
     ]
    }
   ],
   "source": [
    "while True:\n",
    "    try:\n",
    "        \n",
    "        a=int(input(\"enter value of a :\"))\n",
    "        b=int(input(\"enter value of b :\"))\n",
    "        c=a/b\n",
    "        print(c)\n",
    "        break\n",
    "    except ZeroDivisionError as e: ## using ZeroDicisionError class\n",
    "        print(e)\n",
    "    "
   ]
  },
  {
   "cell_type": "markdown",
   "id": "0cac51f4",
   "metadata": {},
   "source": [
    "# sys module"
   ]
  },
  {
   "cell_type": "code",
   "execution_count": null,
   "id": "ce01a770",
   "metadata": {},
   "outputs": [],
   "source": [
    "import sys\n",
    "while True:\n",
    "    try:\n",
    "        \n",
    "        a=int(input(\"enter value of a :\"))\n",
    "        b=int(input(\"enter value of b :\"))\n",
    "        c=a/b\n",
    "        print(c)\n",
    "        break\n",
    "    except:\n",
    "        print(sys.exc_info()) ## sys is module of python , python module extension is .py\n",
    "    "
   ]
  },
  {
   "cell_type": "code",
   "execution_count": null,
   "id": "baaaf788",
   "metadata": {},
   "outputs": [
    {
     "name": "stdout",
     "output_type": "stream",
     "text": [
      "enter first number : 2342\n",
      "enter second number : 0\n",
      "exception class :  <class 'ZeroDivisionError'>\n",
      "exception message :  division by zero\n",
      "exception message :  7\n"
     ]
    }
   ],
   "source": [
    "## decoding above expression manually\n",
    "import sys\n",
    "while True:\n",
    "    try:\n",
    "        a=int(input(\"enter first number : \"))\n",
    "        b=int(input(\"enter second number : \"))\n",
    "        c=a/b\n",
    "        print(c)\n",
    "        break\n",
    "    except:\n",
    "        a,b,c=sys.exc_info()\n",
    "        print(\"exception class : \",a)\n",
    "        print(\"exception message : \",b)\n",
    "       ## print(\"Line Number : \",c)\n",
    "        print(\"exception message : \",c.tb_lineno) ## attribute to get line no on which error is coming"
   ]
  },
  {
   "cell_type": "markdown",
   "id": "3591cc22",
   "metadata": {},
   "source": [
    "# traceback module"
   ]
  },
  {
   "cell_type": "code",
   "execution_count": 1,
   "id": "bbfa3a4b",
   "metadata": {},
   "outputs": [
    {
     "name": "stdout",
     "output_type": "stream",
     "text": [
      "enter first number : 322\n",
      "enter second number : 0\n",
      "Traceback (most recent call last):\n",
      "  File \"C:\\Users\\Muskan Sinha\\AppData\\Local\\Temp\\ipykernel_7652\\704580451.py\", line 6, in <cell line: 3>\n",
      "    c=a/b\n",
      "ZeroDivisionError: division by zero\n",
      "\n",
      "enter first number : 32432\n",
      "enter second number : 32423\n",
      "1.0002775807297288\n"
     ]
    }
   ],
   "source": [
    "import traceback\n",
    "while True:\n",
    "    try:\n",
    "        a=int(input(\"enter first number : \"))\n",
    "        b=int(input(\"enter second number : \"))\n",
    "        c=a/b\n",
    "        print(c)\n",
    "        break\n",
    "    except:\n",
    "        print(traceback.format_exc())\n",
    "       "
   ]
  },
  {
   "cell_type": "markdown",
   "id": "7407208c",
   "metadata": {},
   "source": [
    "# raise exception "
   ]
  },
  {
   "cell_type": "code",
   "execution_count": null,
   "id": "f0711f92",
   "metadata": {},
   "outputs": [
    {
     "name": "stdout",
     "output_type": "stream",
     "text": [
      "fisrt number : cjhdgcfsj\n",
      " plz enter integer values only\n"
     ]
    }
   ],
   "source": [
    "while True:\n",
    "    try:\n",
    "        a=int(input(\"fisrt number : \"))\n",
    "        b=int(input(\"enter second number: \"))\n",
    "        if a<0 or b<0:\n",
    "            raise Exception(\"negative numbers not allowed\")\n",
    "        c=a/b\n",
    "        print(\"Division value is : \", c)\n",
    "        break\n",
    "    except ValueError:\n",
    "        print(\" plz enter integer values only\")\n",
    "    except ZeroDivisionError:\n",
    "        print(\"Denominator should not be zero\")\n",
    "    except Exception as e:\n",
    "        print(e)\n",
    "    "
   ]
  },
  {
   "cell_type": "markdown",
   "id": "beedb3e5",
   "metadata": {},
   "source": [
    "# Creating custom exception i.e our own exception"
   ]
  },
  {
   "cell_type": "raw",
   "id": "3e90a12e",
   "metadata": {},
   "source": [
    "if we want to create custom exception than we need to create class fisrt with the same name as the exception and need to inherit \"Exception\" class that is a predefined class in python."
   ]
  },
  {
   "cell_type": "code",
   "execution_count": null,
   "id": "69ecc2c8",
   "metadata": {},
   "outputs": [],
   "source": [
    "## Example: creating a custom class named as \"NEgativeNumberException\"\n",
    "class NegativeNumberException(Exception):\n",
    "    pass ## class contained no body"
   ]
  },
  {
   "cell_type": "code",
   "execution_count": 2,
   "id": "eb9ea90b",
   "metadata": {},
   "outputs": [
    {
     "name": "stdout",
     "output_type": "stream",
     "text": [
      "fisrt number : 43534\n",
      "enter second number: -7\n",
      "negative numbers not allowed\n",
      "fisrt number : 5564\n",
      "enter second number: 45\n",
      "Division value is :  123.64444444444445\n"
     ]
    }
   ],
   "source": [
    "class NegativeNumberException(Exception):\n",
    "    pass ## class contained no body\n",
    "while True:\n",
    "    try:\n",
    "        a=int(input(\"fisrt number : \"))\n",
    "        b=int(input(\"enter second number: \"))\n",
    "        if a<0 or b<0:\n",
    "            raise NegativeNumberException(\"negative numbers not allowed\")\n",
    "        c=a/b\n",
    "        print(\"Division value is : \", c)\n",
    "        break\n",
    "    except ValueError:\n",
    "        print(\" plz enter integer values only\")\n",
    "    except ZeroDivisionError:\n",
    "        print(\"Denominator should not be zero\")\n",
    "    except NegativeNumberException as e:\n",
    "        print(e)\n",
    "    "
   ]
  },
  {
   "cell_type": "markdown",
   "id": "4e4b72f8",
   "metadata": {},
   "source": [
    "# Final block"
   ]
  },
  {
   "cell_type": "code",
   "execution_count": null,
   "id": "96a9f5bc",
   "metadata": {},
   "outputs": [],
   "source": [
    "final block is used to keep crucial code."
   ]
  },
  {
   "cell_type": "code",
   "execution_count": 7,
   "id": "3c939d5f",
   "metadata": {},
   "outputs": [
    {
     "name": "stdout",
     "output_type": "stream",
     "text": [
      "fisrt number : 32432\n",
      "enter second number: -8\n",
      "-4054.0\n",
      "Hello\n",
      "Python\n"
     ]
    }
   ],
   "source": [
    "try:\n",
    "    a=int(input(\"fisrt number : \"))\n",
    "    b=int(input(\"enter second number: \"))\n",
    "    c=a/b\n",
    "    print(c)\n",
    "\n",
    "except:\n",
    "    print(\"denominator should not be zero\")\n",
    "finally:\n",
    "    print(\"Hello\")\n",
    "    print(\"Python\")"
   ]
  },
  {
   "cell_type": "markdown",
   "id": "d5119b63",
   "metadata": {},
   "source": [
    "# Else"
   ]
  },
  {
   "cell_type": "raw",
   "id": "5718a09d",
   "metadata": {},
   "source": [
    "If we are not getting any error in try block so just after try else will get executed."
   ]
  },
  {
   "cell_type": "code",
   "execution_count": 10,
   "id": "3b7669bf",
   "metadata": {},
   "outputs": [
    {
     "name": "stdout",
     "output_type": "stream",
     "text": [
      "fisrt number : 3243\n",
      "enter second number: 8\n",
      "405.375\n",
      "python rocks\n"
     ]
    }
   ],
   "source": [
    "##example:\n",
    "try:\n",
    "    a=int(input(\"fisrt number : \"))\n",
    "    b=int(input(\"enter second number: \"))\n",
    "    c=a/b\n",
    "    print(c)\n",
    "except:\n",
    "    print(\"denominator should not be zero\")\n",
    "else:\n",
    "    print(\"python rocks\")"
   ]
  },
  {
   "cell_type": "code",
   "execution_count": 11,
   "id": "7303ac16",
   "metadata": {},
   "outputs": [
    {
     "name": "stdout",
     "output_type": "stream",
     "text": [
      "fisrt number : 434\n",
      "enter second number: 0\n",
      "denominator should not be zero\n",
      "python rocks\n"
     ]
    }
   ],
   "source": [
    "##finally\n",
    "try:\n",
    "    a=int(input(\"fisrt number : \"))\n",
    "    b=int(input(\"enter second number: \"))\n",
    "    c=a/b\n",
    "    print(c)\n",
    "except:\n",
    "    print(\"denominator should not be zero\")\n",
    "finally:## this will execute whether the error come ar not\n",
    "    \n",
    "    print(\"python rocks\")"
   ]
  },
  {
   "cell_type": "code",
   "execution_count": 13,
   "id": "3967d50c",
   "metadata": {},
   "outputs": [
    {
     "name": "stdout",
     "output_type": "stream",
     "text": [
      "fisrt number : 34543\n",
      "enter second number: 87\n",
      "397.04597701149424\n",
      "python rocks\n"
     ]
    }
   ],
   "source": [
    "##finally\n",
    "try:\n",
    "    a=int(input(\"fisrt number : \"))\n",
    "    b=int(input(\"enter second number: \"))\n",
    "    c=a/b\n",
    "    print(c)\n",
    "except:\n",
    "    print(\"denominator should not be zero\")\n",
    "finally:## this will execute whether the error come ar not\n",
    "    \n",
    "    print(\"python rocks\")"
   ]
  },
  {
   "cell_type": "raw",
   "id": "1d78dc9a",
   "metadata": {},
   "source": [
    "##Theoratical example:\n",
    "string=\"Database connection\"\n",
    "code will be written in try and except to check whether there is execption in the code.\n",
    "but the code of close connection to database will be written in finally block since its a crucial part of the code at nay cost we want to close the connection with database at last.\n"
   ]
  },
  {
   "cell_type": "code",
   "execution_count": null,
   "id": "73c0df00",
   "metadata": {},
   "outputs": [],
   "source": []
  }
 ],
 "metadata": {
  "kernelspec": {
   "display_name": "Python 3 (ipykernel)",
   "language": "python",
   "name": "python3"
  },
  "language_info": {
   "codemirror_mode": {
    "name": "ipython",
    "version": 3
   },
   "file_extension": ".py",
   "mimetype": "text/x-python",
   "name": "python",
   "nbconvert_exporter": "python",
   "pygments_lexer": "ipython3",
   "version": "3.9.12"
  }
 },
 "nbformat": 4,
 "nbformat_minor": 5
}
